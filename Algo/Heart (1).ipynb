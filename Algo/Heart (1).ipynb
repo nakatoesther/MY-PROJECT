{
 "cells": [
  {
   "cell_type": "code",
   "execution_count": null,
   "metadata": {
    "colab": {
     "base_uri": "https://localhost:8080/"
    },
    "executionInfo": {
     "elapsed": 3334,
     "status": "ok",
     "timestamp": 1714816708068,
     "user": {
      "displayName": "Nakato Esther",
      "userId": "16250477698798363218"
     },
     "user_tz": -180
    },
    "id": "Rm6NRYQeJMOF",
    "outputId": "fe29f15f-7b2d-4e50-d2fa-7a3304837e4a"
   },
   "outputs": [
    {
     "name": "stdout",
     "output_type": "stream",
     "text": [
      "['.config', 'drive', 'sample_data']\n"
     ]
    }
   ],
   "source": [
    "# import common modules (Liabraries) for data analysis\n",
    "import pandas as pd\n",
    "import numpy as np\n",
    "import matplotlib.pyplot as plt\n",
    "import scipy as sc\n",
    "import sklearn as sk\n",
    "import seaborn as sns\n",
    "\n",
    "# !pip install pandas\n",
    "\n",
    "%matplotlib inline\n",
    "\n",
    "import os\n",
    "print(os.listdir())\n",
    "\n",
    "import warnings\n",
    "warnings.filterwarnings('ignore')\n",
    "\n"
   ]
  },
  {
   "cell_type": "code",
   "execution_count": null,
   "metadata": {
    "id": "u5iofVJeJXGg"
   },
   "outputs": [],
   "source": [
    "#reading data as a data frame (importing and understanding our dataset)\n",
    "df=pd.read_csv(\"/content/drive/MyDrive/HEART.csv\")\n",
    "# dt= pd.read_csv(\"/content/drive/MyDrive/input.csv\")\n",
    "#\n",
    "\n",
    "\n",
    "# Concatenate along rows (axis=0)\n",
    "#df= pd.concat([df1, df2], axis=0)"
   ]
  },
  {
   "cell_type": "code",
   "execution_count": null,
   "metadata": {
    "colab": {
     "base_uri": "https://localhost:8080/"
    },
    "executionInfo": {
     "elapsed": 5,
     "status": "ok",
     "timestamp": 1714817313310,
     "user": {
      "displayName": "Nakato Esther",
      "userId": "16250477698798363218"
     },
     "user_tz": -180
    },
    "id": "g-1MJtAPliPp",
    "outputId": "df8f7ca6-960a-4121-8013-14cfc94aec62"
   },
   "outputs": [
    {
     "data": {
      "text/plain": [
       "Index(['male', 'age', 'education', 'currentSmoker', 'cigsPerDay', 'BPMeds',\n",
       "       'prevalentStroke', 'prevalentHyp', 'diabetes', 'totChol', 'sysBP',\n",
       "       'diaBP', 'BMI', 'heartRate', 'glucose', 'TenYearCHD'],\n",
       "      dtype='object')"
      ]
     },
     "execution_count": 7,
     "metadata": {},
     "output_type": "execute_result"
    }
   ],
   "source": [
    "df.keys()"
   ]
  },
  {
   "cell_type": "code",
   "execution_count": null,
   "metadata": {
    "colab": {
     "base_uri": "https://localhost:8080/",
     "height": 204
    },
    "executionInfo": {
     "elapsed": 1096,
     "status": "ok",
     "timestamp": 1714817317269,
     "user": {
      "displayName": "Nakato Esther",
      "userId": "16250477698798363218"
     },
     "user_tz": -180
    },
    "id": "64Q9r1s67Wil",
    "outputId": "ef043d46-44a6-42bf-cd21-e1f99fa9d210"
   },
   "outputs": [
    {
     "data": {
      "text/html": [
       "<div style=\"max-width:800px; border: 1px solid var(--colab-border-color);\"><style>\n",
       "      pre.function-repr-contents {\n",
       "        overflow-x: auto;\n",
       "        padding: 8px 12px;\n",
       "        max-height: 500px;\n",
       "      }\n",
       "\n",
       "      pre.function-repr-contents.function-repr-contents-collapsed {\n",
       "        cursor: pointer;\n",
       "        max-height: 100px;\n",
       "      }\n",
       "    </style>\n",
       "    <pre style=\"white-space: initial; background:\n",
       "         var(--colab-secondary-surface-color); padding: 8px 12px;\n",
       "         border-bottom: 1px solid var(--colab-border-color);\"><b>pandas.core.frame.DataFrame</b><br/>def __init__(data=None, index: Axes | None=None, columns: Axes | None=None, dtype: Dtype | None=None, copy: bool | None=None) -&gt; None</pre><pre class=\"function-repr-contents function-repr-contents-collapsed\" style=\"\"><a class=\"filepath\" style=\"display:none\" href=\"#\">/usr/local/lib/python3.10/dist-packages/pandas/core/frame.py</a>Two-dimensional, size-mutable, potentially heterogeneous tabular data.\n",
       "\n",
       "Data structure also contains labeled axes (rows and columns).\n",
       "Arithmetic operations align on both row and column labels. Can be\n",
       "thought of as a dict-like container for Series objects. The primary\n",
       "pandas data structure.\n",
       "\n",
       "Parameters\n",
       "----------\n",
       "data : ndarray (structured or homogeneous), Iterable, dict, or DataFrame\n",
       "    Dict can contain Series, arrays, constants, dataclass or list-like objects. If\n",
       "    data is a dict, column order follows insertion-order. If a dict contains Series\n",
       "    which have an index defined, it is aligned by its index.\n",
       "\n",
       "    .. versionchanged:: 0.25.0\n",
       "       If data is a list of dicts, column order follows insertion-order.\n",
       "\n",
       "index : Index or array-like\n",
       "    Index to use for resulting frame. Will default to RangeIndex if\n",
       "    no indexing information part of input data and no index provided.\n",
       "columns : Index or array-like\n",
       "    Column labels to use for resulting frame when data does not have them,\n",
       "    defaulting to RangeIndex(0, 1, 2, ..., n). If data contains column labels,\n",
       "    will perform column selection instead.\n",
       "dtype : dtype, default None\n",
       "    Data type to force. Only a single dtype is allowed. If None, infer.\n",
       "copy : bool or None, default None\n",
       "    Copy data from inputs.\n",
       "    For dict data, the default of None behaves like ``copy=True``.  For DataFrame\n",
       "    or 2d ndarray input, the default of None behaves like ``copy=False``.\n",
       "    If data is a dict containing one or more Series (possibly of different dtypes),\n",
       "    ``copy=False`` will ensure that these inputs are not copied.\n",
       "\n",
       "    .. versionchanged:: 1.3.0\n",
       "\n",
       "See Also\n",
       "--------\n",
       "DataFrame.from_records : Constructor from tuples, also record arrays.\n",
       "DataFrame.from_dict : From dicts of Series, arrays, or dicts.\n",
       "read_csv : Read a comma-separated values (csv) file into DataFrame.\n",
       "read_table : Read general delimited file into DataFrame.\n",
       "read_clipboard : Read text from clipboard into DataFrame.\n",
       "\n",
       "Notes\n",
       "-----\n",
       "Please reference the :ref:`User Guide &lt;basics.dataframe&gt;` for more information.\n",
       "\n",
       "Examples\n",
       "--------\n",
       "Constructing DataFrame from a dictionary.\n",
       "\n",
       "&gt;&gt;&gt; d = {&#x27;col1&#x27;: [1, 2], &#x27;col2&#x27;: [3, 4]}\n",
       "&gt;&gt;&gt; df = pd.DataFrame(data=d)\n",
       "&gt;&gt;&gt; df\n",
       "   col1  col2\n",
       "0     1     3\n",
       "1     2     4\n",
       "\n",
       "Notice that the inferred dtype is int64.\n",
       "\n",
       "&gt;&gt;&gt; df.dtypes\n",
       "col1    int64\n",
       "col2    int64\n",
       "dtype: object\n",
       "\n",
       "To enforce a single dtype:\n",
       "\n",
       "&gt;&gt;&gt; df = pd.DataFrame(data=d, dtype=np.int8)\n",
       "&gt;&gt;&gt; df.dtypes\n",
       "col1    int8\n",
       "col2    int8\n",
       "dtype: object\n",
       "\n",
       "Constructing DataFrame from a dictionary including Series:\n",
       "\n",
       "&gt;&gt;&gt; d = {&#x27;col1&#x27;: [0, 1, 2, 3], &#x27;col2&#x27;: pd.Series([2, 3], index=[2, 3])}\n",
       "&gt;&gt;&gt; pd.DataFrame(data=d, index=[0, 1, 2, 3])\n",
       "   col1  col2\n",
       "0     0   NaN\n",
       "1     1   NaN\n",
       "2     2   2.0\n",
       "3     3   3.0\n",
       "\n",
       "Constructing DataFrame from numpy ndarray:\n",
       "\n",
       "&gt;&gt;&gt; df2 = pd.DataFrame(np.array([[1, 2, 3], [4, 5, 6], [7, 8, 9]]),\n",
       "...                    columns=[&#x27;a&#x27;, &#x27;b&#x27;, &#x27;c&#x27;])\n",
       "&gt;&gt;&gt; df2\n",
       "   a  b  c\n",
       "0  1  2  3\n",
       "1  4  5  6\n",
       "2  7  8  9\n",
       "\n",
       "Constructing DataFrame from a numpy ndarray that has labeled columns:\n",
       "\n",
       "&gt;&gt;&gt; data = np.array([(1, 2, 3), (4, 5, 6), (7, 8, 9)],\n",
       "...                 dtype=[(&quot;a&quot;, &quot;i4&quot;), (&quot;b&quot;, &quot;i4&quot;), (&quot;c&quot;, &quot;i4&quot;)])\n",
       "&gt;&gt;&gt; df3 = pd.DataFrame(data, columns=[&#x27;c&#x27;, &#x27;a&#x27;])\n",
       "...\n",
       "&gt;&gt;&gt; df3\n",
       "   c  a\n",
       "0  3  1\n",
       "1  6  4\n",
       "2  9  7\n",
       "\n",
       "Constructing DataFrame from dataclass:\n",
       "\n",
       "&gt;&gt;&gt; from dataclasses import make_dataclass\n",
       "&gt;&gt;&gt; Point = make_dataclass(&quot;Point&quot;, [(&quot;x&quot;, int), (&quot;y&quot;, int)])\n",
       "&gt;&gt;&gt; pd.DataFrame([Point(0, 0), Point(0, 3), Point(2, 3)])\n",
       "   x  y\n",
       "0  0  0\n",
       "1  0  3\n",
       "2  2  3</pre>\n",
       "      <script>\n",
       "      if (google.colab.kernel.accessAllowed && google.colab.files && google.colab.files.view) {\n",
       "        for (const element of document.querySelectorAll('.filepath')) {\n",
       "          element.style.display = 'block'\n",
       "          element.onclick = (event) => {\n",
       "            event.preventDefault();\n",
       "            event.stopPropagation();\n",
       "            google.colab.files.view(element.textContent, 475);\n",
       "          };\n",
       "        }\n",
       "      }\n",
       "      for (const element of document.querySelectorAll('.function-repr-contents')) {\n",
       "        element.onclick = (event) => {\n",
       "          event.preventDefault();\n",
       "          event.stopPropagation();\n",
       "          element.classList.toggle('function-repr-contents-collapsed');\n",
       "        };\n",
       "      }\n",
       "      </script>\n",
       "      </div>"
      ],
      "text/plain": [
       "pandas.core.frame.DataFrame"
      ]
     },
     "execution_count": 8,
     "metadata": {},
     "output_type": "execute_result"
    }
   ],
   "source": [
    "#verifying it as a \"datafame\" object in pandas\n",
    "type(df)"
   ]
  },
  {
   "cell_type": "code",
   "execution_count": null,
   "metadata": {
    "colab": {
     "base_uri": "https://localhost:8080/",
     "height": 226
    },
    "executionInfo": {
     "elapsed": 8,
     "status": "ok",
     "timestamp": 1714817319762,
     "user": {
      "displayName": "Nakato Esther",
      "userId": "16250477698798363218"
     },
     "user_tz": -180
    },
    "id": "InX39DCmAFgo",
    "outputId": "d3a3872b-cd42-4144-ee04-c9b610b33136"
   },
   "outputs": [
    {
     "data": {
      "application/vnd.google.colaboratory.intrinsic+json": {
       "summary": "{\n  \"name\": \"df\",\n  \"rows\": 4240,\n  \"fields\": [\n    {\n      \"column\": \"male\",\n      \"properties\": {\n        \"dtype\": \"number\",\n        \"std\": 0,\n        \"min\": 0,\n        \"max\": 1,\n        \"num_unique_values\": 2,\n        \"samples\": [\n          0,\n          1\n        ],\n        \"semantic_type\": \"\",\n        \"description\": \"\"\n      }\n    },\n    {\n      \"column\": \"age\",\n      \"properties\": {\n        \"dtype\": \"number\",\n        \"std\": 8,\n        \"min\": 32,\n        \"max\": 70,\n        \"num_unique_values\": 39,\n        \"samples\": [\n          34,\n          70\n        ],\n        \"semantic_type\": \"\",\n        \"description\": \"\"\n      }\n    },\n    {\n      \"column\": \"education\",\n      \"properties\": {\n        \"dtype\": \"number\",\n        \"std\": 1.0197911793650105,\n        \"min\": 1.0,\n        \"max\": 4.0,\n        \"num_unique_values\": 4,\n        \"samples\": [\n          2.0,\n          3.0\n        ],\n        \"semantic_type\": \"\",\n        \"description\": \"\"\n      }\n    },\n    {\n      \"column\": \"currentSmoker\",\n      \"properties\": {\n        \"dtype\": \"number\",\n        \"std\": 0,\n        \"min\": 0,\n        \"max\": 1,\n        \"num_unique_values\": 2,\n        \"samples\": [\n          1,\n          0\n        ],\n        \"semantic_type\": \"\",\n        \"description\": \"\"\n      }\n    },\n    {\n      \"column\": \"cigsPerDay\",\n      \"properties\": {\n        \"dtype\": \"number\",\n        \"std\": 11.922461800609083,\n        \"min\": 0.0,\n        \"max\": 70.0,\n        \"num_unique_values\": 33,\n        \"samples\": [\n          19.0,\n          4.0\n        ],\n        \"semantic_type\": \"\",\n        \"description\": \"\"\n      }\n    },\n    {\n      \"column\": \"BPMeds\",\n      \"properties\": {\n        \"dtype\": \"number\",\n        \"std\": 0.16954428739626196,\n        \"min\": 0.0,\n        \"max\": 1.0,\n        \"num_unique_values\": 2,\n        \"samples\": [\n          1.0,\n          0.0\n        ],\n        \"semantic_type\": \"\",\n        \"description\": \"\"\n      }\n    },\n    {\n      \"column\": \"prevalentStroke\",\n      \"properties\": {\n        \"dtype\": \"number\",\n        \"std\": 0,\n        \"min\": 0,\n        \"max\": 1,\n        \"num_unique_values\": 2,\n        \"samples\": [\n          1,\n          0\n        ],\n        \"semantic_type\": \"\",\n        \"description\": \"\"\n      }\n    },\n    {\n      \"column\": \"prevalentHyp\",\n      \"properties\": {\n        \"dtype\": \"number\",\n        \"std\": 0,\n        \"min\": 0,\n        \"max\": 1,\n        \"num_unique_values\": 2,\n        \"samples\": [\n          1,\n          0\n        ],\n        \"semantic_type\": \"\",\n        \"description\": \"\"\n      }\n    },\n    {\n      \"column\": \"diabetes\",\n      \"properties\": {\n        \"dtype\": \"number\",\n        \"std\": 0,\n        \"min\": 0,\n        \"max\": 1,\n        \"num_unique_values\": 2,\n        \"samples\": [\n          1,\n          0\n        ],\n        \"semantic_type\": \"\",\n        \"description\": \"\"\n      }\n    },\n    {\n      \"column\": \"totChol\",\n      \"properties\": {\n        \"dtype\": \"number\",\n        \"std\": 44.59128386860701,\n        \"min\": 107.0,\n        \"max\": 696.0,\n        \"num_unique_values\": 248,\n        \"samples\": [\n          311.0,\n          205.0\n        ],\n        \"semantic_type\": \"\",\n        \"description\": \"\"\n      }\n    },\n    {\n      \"column\": \"sysBP\",\n      \"properties\": {\n        \"dtype\": \"number\",\n        \"std\": 22.033299608849184,\n        \"min\": 83.5,\n        \"max\": 295.0,\n        \"num_unique_values\": 234,\n        \"samples\": [\n          109.0,\n          184.5\n        ],\n        \"semantic_type\": \"\",\n        \"description\": \"\"\n      }\n    },\n    {\n      \"column\": \"diaBP\",\n      \"properties\": {\n        \"dtype\": \"number\",\n        \"std\": 11.91039448330595,\n        \"min\": 48.0,\n        \"max\": 142.5,\n        \"num_unique_values\": 146,\n        \"samples\": [\n          106.0,\n          108.5\n        ],\n        \"semantic_type\": \"\",\n        \"description\": \"\"\n      }\n    },\n    {\n      \"column\": \"BMI\",\n      \"properties\": {\n        \"dtype\": \"number\",\n        \"std\": 4.079840168944382,\n        \"min\": 15.54,\n        \"max\": 56.8,\n        \"num_unique_values\": 1364,\n        \"samples\": [\n          24.56,\n          19.87\n        ],\n        \"semantic_type\": \"\",\n        \"description\": \"\"\n      }\n    },\n    {\n      \"column\": \"heartRate\",\n      \"properties\": {\n        \"dtype\": \"number\",\n        \"std\": 12.025347984469386,\n        \"min\": 44.0,\n        \"max\": 143.0,\n        \"num_unique_values\": 73,\n        \"samples\": [\n          85.0,\n          47.0\n        ],\n        \"semantic_type\": \"\",\n        \"description\": \"\"\n      }\n    },\n    {\n      \"column\": \"glucose\",\n      \"properties\": {\n        \"dtype\": \"number\",\n        \"std\": 23.954334811344744,\n        \"min\": 40.0,\n        \"max\": 394.0,\n        \"num_unique_values\": 143,\n        \"samples\": [\n          394.0,\n          74.0\n        ],\n        \"semantic_type\": \"\",\n        \"description\": \"\"\n      }\n    },\n    {\n      \"column\": \"TenYearCHD\",\n      \"properties\": {\n        \"dtype\": \"number\",\n        \"std\": 0,\n        \"min\": 0,\n        \"max\": 1,\n        \"num_unique_values\": 2,\n        \"samples\": [\n          1,\n          0\n        ],\n        \"semantic_type\": \"\",\n        \"description\": \"\"\n      }\n    }\n  ]\n}",
       "type": "dataframe",
       "variable_name": "df"
      },
      "text/html": [
       "\n",
       "  <div id=\"df-48e465d7-46ba-4149-a21e-61b27c5be5af\" class=\"colab-df-container\">\n",
       "    <div>\n",
       "<style scoped>\n",
       "    .dataframe tbody tr th:only-of-type {\n",
       "        vertical-align: middle;\n",
       "    }\n",
       "\n",
       "    .dataframe tbody tr th {\n",
       "        vertical-align: top;\n",
       "    }\n",
       "\n",
       "    .dataframe thead th {\n",
       "        text-align: right;\n",
       "    }\n",
       "</style>\n",
       "<table border=\"1\" class=\"dataframe\">\n",
       "  <thead>\n",
       "    <tr style=\"text-align: right;\">\n",
       "      <th></th>\n",
       "      <th>male</th>\n",
       "      <th>age</th>\n",
       "      <th>education</th>\n",
       "      <th>currentSmoker</th>\n",
       "      <th>cigsPerDay</th>\n",
       "      <th>BPMeds</th>\n",
       "      <th>prevalentStroke</th>\n",
       "      <th>prevalentHyp</th>\n",
       "      <th>diabetes</th>\n",
       "      <th>totChol</th>\n",
       "      <th>sysBP</th>\n",
       "      <th>diaBP</th>\n",
       "      <th>BMI</th>\n",
       "      <th>heartRate</th>\n",
       "      <th>glucose</th>\n",
       "      <th>TenYearCHD</th>\n",
       "    </tr>\n",
       "  </thead>\n",
       "  <tbody>\n",
       "    <tr>\n",
       "      <th>0</th>\n",
       "      <td>1</td>\n",
       "      <td>39</td>\n",
       "      <td>4.0</td>\n",
       "      <td>0</td>\n",
       "      <td>0.0</td>\n",
       "      <td>0.0</td>\n",
       "      <td>0</td>\n",
       "      <td>0</td>\n",
       "      <td>0</td>\n",
       "      <td>195.0</td>\n",
       "      <td>106.0</td>\n",
       "      <td>70.0</td>\n",
       "      <td>26.97</td>\n",
       "      <td>80.0</td>\n",
       "      <td>77.0</td>\n",
       "      <td>0</td>\n",
       "    </tr>\n",
       "    <tr>\n",
       "      <th>1</th>\n",
       "      <td>0</td>\n",
       "      <td>46</td>\n",
       "      <td>2.0</td>\n",
       "      <td>0</td>\n",
       "      <td>0.0</td>\n",
       "      <td>0.0</td>\n",
       "      <td>0</td>\n",
       "      <td>0</td>\n",
       "      <td>0</td>\n",
       "      <td>250.0</td>\n",
       "      <td>121.0</td>\n",
       "      <td>81.0</td>\n",
       "      <td>28.73</td>\n",
       "      <td>95.0</td>\n",
       "      <td>76.0</td>\n",
       "      <td>0</td>\n",
       "    </tr>\n",
       "    <tr>\n",
       "      <th>2</th>\n",
       "      <td>1</td>\n",
       "      <td>48</td>\n",
       "      <td>1.0</td>\n",
       "      <td>1</td>\n",
       "      <td>20.0</td>\n",
       "      <td>0.0</td>\n",
       "      <td>0</td>\n",
       "      <td>0</td>\n",
       "      <td>0</td>\n",
       "      <td>245.0</td>\n",
       "      <td>127.5</td>\n",
       "      <td>80.0</td>\n",
       "      <td>25.34</td>\n",
       "      <td>75.0</td>\n",
       "      <td>70.0</td>\n",
       "      <td>0</td>\n",
       "    </tr>\n",
       "    <tr>\n",
       "      <th>3</th>\n",
       "      <td>0</td>\n",
       "      <td>61</td>\n",
       "      <td>3.0</td>\n",
       "      <td>1</td>\n",
       "      <td>30.0</td>\n",
       "      <td>0.0</td>\n",
       "      <td>0</td>\n",
       "      <td>1</td>\n",
       "      <td>0</td>\n",
       "      <td>225.0</td>\n",
       "      <td>150.0</td>\n",
       "      <td>95.0</td>\n",
       "      <td>28.58</td>\n",
       "      <td>65.0</td>\n",
       "      <td>103.0</td>\n",
       "      <td>1</td>\n",
       "    </tr>\n",
       "    <tr>\n",
       "      <th>4</th>\n",
       "      <td>0</td>\n",
       "      <td>46</td>\n",
       "      <td>3.0</td>\n",
       "      <td>1</td>\n",
       "      <td>23.0</td>\n",
       "      <td>0.0</td>\n",
       "      <td>0</td>\n",
       "      <td>0</td>\n",
       "      <td>0</td>\n",
       "      <td>285.0</td>\n",
       "      <td>130.0</td>\n",
       "      <td>84.0</td>\n",
       "      <td>23.10</td>\n",
       "      <td>85.0</td>\n",
       "      <td>85.0</td>\n",
       "      <td>0</td>\n",
       "    </tr>\n",
       "  </tbody>\n",
       "</table>\n",
       "</div>\n",
       "    <div class=\"colab-df-buttons\">\n",
       "\n",
       "  <div class=\"colab-df-container\">\n",
       "    <button class=\"colab-df-convert\" onclick=\"convertToInteractive('df-48e465d7-46ba-4149-a21e-61b27c5be5af')\"\n",
       "            title=\"Convert this dataframe to an interactive table.\"\n",
       "            style=\"display:none;\">\n",
       "\n",
       "  <svg xmlns=\"http://www.w3.org/2000/svg\" height=\"24px\" viewBox=\"0 -960 960 960\">\n",
       "    <path d=\"M120-120v-720h720v720H120Zm60-500h600v-160H180v160Zm220 220h160v-160H400v160Zm0 220h160v-160H400v160ZM180-400h160v-160H180v160Zm440 0h160v-160H620v160ZM180-180h160v-160H180v160Zm440 0h160v-160H620v160Z\"/>\n",
       "  </svg>\n",
       "    </button>\n",
       "\n",
       "  <style>\n",
       "    .colab-df-container {\n",
       "      display:flex;\n",
       "      gap: 12px;\n",
       "    }\n",
       "\n",
       "    .colab-df-convert {\n",
       "      background-color: #E8F0FE;\n",
       "      border: none;\n",
       "      border-radius: 50%;\n",
       "      cursor: pointer;\n",
       "      display: none;\n",
       "      fill: #1967D2;\n",
       "      height: 32px;\n",
       "      padding: 0 0 0 0;\n",
       "      width: 32px;\n",
       "    }\n",
       "\n",
       "    .colab-df-convert:hover {\n",
       "      background-color: #E2EBFA;\n",
       "      box-shadow: 0px 1px 2px rgba(60, 64, 67, 0.3), 0px 1px 3px 1px rgba(60, 64, 67, 0.15);\n",
       "      fill: #174EA6;\n",
       "    }\n",
       "\n",
       "    .colab-df-buttons div {\n",
       "      margin-bottom: 4px;\n",
       "    }\n",
       "\n",
       "    [theme=dark] .colab-df-convert {\n",
       "      background-color: #3B4455;\n",
       "      fill: #D2E3FC;\n",
       "    }\n",
       "\n",
       "    [theme=dark] .colab-df-convert:hover {\n",
       "      background-color: #434B5C;\n",
       "      box-shadow: 0px 1px 3px 1px rgba(0, 0, 0, 0.15);\n",
       "      filter: drop-shadow(0px 1px 2px rgba(0, 0, 0, 0.3));\n",
       "      fill: #FFFFFF;\n",
       "    }\n",
       "  </style>\n",
       "\n",
       "    <script>\n",
       "      const buttonEl =\n",
       "        document.querySelector('#df-48e465d7-46ba-4149-a21e-61b27c5be5af button.colab-df-convert');\n",
       "      buttonEl.style.display =\n",
       "        google.colab.kernel.accessAllowed ? 'block' : 'none';\n",
       "\n",
       "      async function convertToInteractive(key) {\n",
       "        const element = document.querySelector('#df-48e465d7-46ba-4149-a21e-61b27c5be5af');\n",
       "        const dataTable =\n",
       "          await google.colab.kernel.invokeFunction('convertToInteractive',\n",
       "                                                    [key], {});\n",
       "        if (!dataTable) return;\n",
       "\n",
       "        const docLinkHtml = 'Like what you see? Visit the ' +\n",
       "          '<a target=\"_blank\" href=https://colab.research.google.com/notebooks/data_table.ipynb>data table notebook</a>'\n",
       "          + ' to learn more about interactive tables.';\n",
       "        element.innerHTML = '';\n",
       "        dataTable['output_type'] = 'display_data';\n",
       "        await google.colab.output.renderOutput(dataTable, element);\n",
       "        const docLink = document.createElement('div');\n",
       "        docLink.innerHTML = docLinkHtml;\n",
       "        element.appendChild(docLink);\n",
       "      }\n",
       "    </script>\n",
       "  </div>\n",
       "\n",
       "\n",
       "<div id=\"df-fe4492b2-3184-415f-bd7c-c89b9add9aa5\">\n",
       "  <button class=\"colab-df-quickchart\" onclick=\"quickchart('df-fe4492b2-3184-415f-bd7c-c89b9add9aa5')\"\n",
       "            title=\"Suggest charts\"\n",
       "            style=\"display:none;\">\n",
       "\n",
       "<svg xmlns=\"http://www.w3.org/2000/svg\" height=\"24px\"viewBox=\"0 0 24 24\"\n",
       "     width=\"24px\">\n",
       "    <g>\n",
       "        <path d=\"M19 3H5c-1.1 0-2 .9-2 2v14c0 1.1.9 2 2 2h14c1.1 0 2-.9 2-2V5c0-1.1-.9-2-2-2zM9 17H7v-7h2v7zm4 0h-2V7h2v10zm4 0h-2v-4h2v4z\"/>\n",
       "    </g>\n",
       "</svg>\n",
       "  </button>\n",
       "\n",
       "<style>\n",
       "  .colab-df-quickchart {\n",
       "      --bg-color: #E8F0FE;\n",
       "      --fill-color: #1967D2;\n",
       "      --hover-bg-color: #E2EBFA;\n",
       "      --hover-fill-color: #174EA6;\n",
       "      --disabled-fill-color: #AAA;\n",
       "      --disabled-bg-color: #DDD;\n",
       "  }\n",
       "\n",
       "  [theme=dark] .colab-df-quickchart {\n",
       "      --bg-color: #3B4455;\n",
       "      --fill-color: #D2E3FC;\n",
       "      --hover-bg-color: #434B5C;\n",
       "      --hover-fill-color: #FFFFFF;\n",
       "      --disabled-bg-color: #3B4455;\n",
       "      --disabled-fill-color: #666;\n",
       "  }\n",
       "\n",
       "  .colab-df-quickchart {\n",
       "    background-color: var(--bg-color);\n",
       "    border: none;\n",
       "    border-radius: 50%;\n",
       "    cursor: pointer;\n",
       "    display: none;\n",
       "    fill: var(--fill-color);\n",
       "    height: 32px;\n",
       "    padding: 0;\n",
       "    width: 32px;\n",
       "  }\n",
       "\n",
       "  .colab-df-quickchart:hover {\n",
       "    background-color: var(--hover-bg-color);\n",
       "    box-shadow: 0 1px 2px rgba(60, 64, 67, 0.3), 0 1px 3px 1px rgba(60, 64, 67, 0.15);\n",
       "    fill: var(--button-hover-fill-color);\n",
       "  }\n",
       "\n",
       "  .colab-df-quickchart-complete:disabled,\n",
       "  .colab-df-quickchart-complete:disabled:hover {\n",
       "    background-color: var(--disabled-bg-color);\n",
       "    fill: var(--disabled-fill-color);\n",
       "    box-shadow: none;\n",
       "  }\n",
       "\n",
       "  .colab-df-spinner {\n",
       "    border: 2px solid var(--fill-color);\n",
       "    border-color: transparent;\n",
       "    border-bottom-color: var(--fill-color);\n",
       "    animation:\n",
       "      spin 1s steps(1) infinite;\n",
       "  }\n",
       "\n",
       "  @keyframes spin {\n",
       "    0% {\n",
       "      border-color: transparent;\n",
       "      border-bottom-color: var(--fill-color);\n",
       "      border-left-color: var(--fill-color);\n",
       "    }\n",
       "    20% {\n",
       "      border-color: transparent;\n",
       "      border-left-color: var(--fill-color);\n",
       "      border-top-color: var(--fill-color);\n",
       "    }\n",
       "    30% {\n",
       "      border-color: transparent;\n",
       "      border-left-color: var(--fill-color);\n",
       "      border-top-color: var(--fill-color);\n",
       "      border-right-color: var(--fill-color);\n",
       "    }\n",
       "    40% {\n",
       "      border-color: transparent;\n",
       "      border-right-color: var(--fill-color);\n",
       "      border-top-color: var(--fill-color);\n",
       "    }\n",
       "    60% {\n",
       "      border-color: transparent;\n",
       "      border-right-color: var(--fill-color);\n",
       "    }\n",
       "    80% {\n",
       "      border-color: transparent;\n",
       "      border-right-color: var(--fill-color);\n",
       "      border-bottom-color: var(--fill-color);\n",
       "    }\n",
       "    90% {\n",
       "      border-color: transparent;\n",
       "      border-bottom-color: var(--fill-color);\n",
       "    }\n",
       "  }\n",
       "</style>\n",
       "\n",
       "  <script>\n",
       "    async function quickchart(key) {\n",
       "      const quickchartButtonEl =\n",
       "        document.querySelector('#' + key + ' button');\n",
       "      quickchartButtonEl.disabled = true;  // To prevent multiple clicks.\n",
       "      quickchartButtonEl.classList.add('colab-df-spinner');\n",
       "      try {\n",
       "        const charts = await google.colab.kernel.invokeFunction(\n",
       "            'suggestCharts', [key], {});\n",
       "      } catch (error) {\n",
       "        console.error('Error during call to suggestCharts:', error);\n",
       "      }\n",
       "      quickchartButtonEl.classList.remove('colab-df-spinner');\n",
       "      quickchartButtonEl.classList.add('colab-df-quickchart-complete');\n",
       "    }\n",
       "    (() => {\n",
       "      let quickchartButtonEl =\n",
       "        document.querySelector('#df-fe4492b2-3184-415f-bd7c-c89b9add9aa5 button');\n",
       "      quickchartButtonEl.style.display =\n",
       "        google.colab.kernel.accessAllowed ? 'block' : 'none';\n",
       "    })();\n",
       "  </script>\n",
       "</div>\n",
       "\n",
       "    </div>\n",
       "  </div>\n"
      ],
      "text/plain": [
       "   male  age  education  currentSmoker  cigsPerDay  BPMeds  prevalentStroke  \\\n",
       "0     1   39        4.0              0         0.0     0.0                0   \n",
       "1     0   46        2.0              0         0.0     0.0                0   \n",
       "2     1   48        1.0              1        20.0     0.0                0   \n",
       "3     0   61        3.0              1        30.0     0.0                0   \n",
       "4     0   46        3.0              1        23.0     0.0                0   \n",
       "\n",
       "   prevalentHyp  diabetes  totChol  sysBP  diaBP    BMI  heartRate  glucose  \\\n",
       "0             0         0    195.0  106.0   70.0  26.97       80.0     77.0   \n",
       "1             0         0    250.0  121.0   81.0  28.73       95.0     76.0   \n",
       "2             0         0    245.0  127.5   80.0  25.34       75.0     70.0   \n",
       "3             1         0    225.0  150.0   95.0  28.58       65.0    103.0   \n",
       "4             0         0    285.0  130.0   84.0  23.10       85.0     85.0   \n",
       "\n",
       "   TenYearCHD  \n",
       "0           0  \n",
       "1           0  \n",
       "2           0  \n",
       "3           1  \n",
       "4           0  "
      ]
     },
     "execution_count": 9,
     "metadata": {},
     "output_type": "execute_result"
    }
   ],
   "source": [
    "df.head()"
   ]
  },
  {
   "cell_type": "code",
   "execution_count": null,
   "metadata": {
    "colab": {
     "base_uri": "https://localhost:8080/",
     "height": 320
    },
    "executionInfo": {
     "elapsed": 407,
     "status": "ok",
     "timestamp": 1714817323354,
     "user": {
      "displayName": "Nakato Esther",
      "userId": "16250477698798363218"
     },
     "user_tz": -180
    },
    "id": "VnJo_hB4LpjK",
    "outputId": "31be3c3b-2585-458b-f497-a50b3b282304"
   },
   "outputs": [
    {
     "data": {
      "application/vnd.google.colaboratory.intrinsic+json": {
       "summary": "{\n  \"name\": \"df\",\n  \"rows\": 8,\n  \"fields\": [\n    {\n      \"column\": \"male\",\n      \"properties\": {\n        \"dtype\": \"number\",\n        \"std\": 1498.9187356195594,\n        \"min\": 0.0,\n        \"max\": 4240.0,\n        \"num_unique_values\": 5,\n        \"samples\": [\n          0.42924528301886794,\n          1.0,\n          0.4950268328135282\n        ],\n        \"semantic_type\": \"\",\n        \"description\": \"\"\n      }\n    },\n    {\n      \"column\": \"age\",\n      \"properties\": {\n        \"dtype\": \"number\",\n        \"std\": 1483.6625285814434,\n        \"min\": 8.57294217547334,\n        \"max\": 4240.0,\n        \"num_unique_values\": 8,\n        \"samples\": [\n          49.58018867924528,\n          49.0,\n          4240.0\n        ],\n        \"semantic_type\": \"\",\n        \"description\": \"\"\n      }\n    },\n    {\n      \"column\": \"education\",\n      \"properties\": {\n        \"dtype\": \"number\",\n        \"std\": 1461.236591125946,\n        \"min\": 1.0,\n        \"max\": 4135.0,\n        \"num_unique_values\": 7,\n        \"samples\": [\n          4135.0,\n          1.9794437726723095,\n          3.0\n        ],\n        \"semantic_type\": \"\",\n        \"description\": \"\"\n      }\n    },\n    {\n      \"column\": \"currentSmoker\",\n      \"properties\": {\n        \"dtype\": \"number\",\n        \"std\": 1498.9152076422486,\n        \"min\": 0.0,\n        \"max\": 4240.0,\n        \"num_unique_values\": 5,\n        \"samples\": [\n          0.49410377358490565,\n          1.0,\n          0.5000242019006145\n        ],\n        \"semantic_type\": \"\",\n        \"description\": \"\"\n      }\n    },\n    {\n      \"column\": \"cigsPerDay\",\n      \"properties\": {\n        \"dtype\": \"number\",\n        \"std\": 1483.391919922047,\n        \"min\": 0.0,\n        \"max\": 4211.0,\n        \"num_unique_values\": 6,\n        \"samples\": [\n          4211.0,\n          9.005936832106388,\n          70.0\n        ],\n        \"semantic_type\": \"\",\n        \"description\": \"\"\n      }\n    },\n    {\n      \"column\": \"BPMeds\",\n      \"properties\": {\n        \"dtype\": \"number\",\n        \"std\": 1480.26751947031,\n        \"min\": 0.0,\n        \"max\": 4187.0,\n        \"num_unique_values\": 5,\n        \"samples\": [\n          0.029615476474802963,\n          1.0,\n          0.16954428739626196\n        ],\n        \"semantic_type\": \"\",\n        \"description\": \"\"\n      }\n    },\n    {\n      \"column\": \"prevalentStroke\",\n      \"properties\": {\n        \"dtype\": \"number\",\n        \"std\": 1499.0117433100606,\n        \"min\": 0.0,\n        \"max\": 4240.0,\n        \"num_unique_values\": 5,\n        \"samples\": [\n          0.00589622641509434,\n          1.0,\n          0.0765692084019818\n        ],\n        \"semantic_type\": \"\",\n        \"description\": \"\"\n      }\n    },\n    {\n      \"column\": \"prevalentHyp\",\n      \"properties\": {\n        \"dtype\": \"number\",\n        \"std\": 1498.9263553799317,\n        \"min\": 0.0,\n        \"max\": 4240.0,\n        \"num_unique_values\": 5,\n        \"samples\": [\n          0.3106132075471698,\n          1.0,\n          0.4627992628992856\n        ],\n        \"semantic_type\": \"\",\n        \"description\": \"\"\n      }\n    },\n    {\n      \"column\": \"diabetes\",\n      \"properties\": {\n        \"dtype\": \"number\",\n        \"std\": 1499.0066150440198,\n        \"min\": 0.0,\n        \"max\": 4240.0,\n        \"num_unique_values\": 5,\n        \"samples\": [\n          0.025707547169811322,\n          1.0,\n          0.15828006133169917\n        ],\n        \"semantic_type\": \"\",\n        \"description\": \"\"\n      }\n    },\n    {\n      \"column\": \"totChol\",\n      \"properties\": {\n        \"dtype\": \"number\",\n        \"std\": 1404.601640190698,\n        \"min\": 44.59128386860701,\n        \"max\": 4190.0,\n        \"num_unique_values\": 8,\n        \"samples\": [\n          236.69952267303103,\n          234.0,\n          4190.0\n        ],\n        \"semantic_type\": \"\",\n        \"description\": \"\"\n      }\n    },\n    {\n      \"column\": \"sysBP\",\n      \"properties\": {\n        \"dtype\": \"number\",\n        \"std\": 1454.5383961628752,\n        \"min\": 22.033299608849184,\n        \"max\": 4240.0,\n        \"num_unique_values\": 8,\n        \"samples\": [\n          132.35459905660377,\n          128.0,\n          4240.0\n        ],\n        \"semantic_type\": \"\",\n        \"description\": \"\"\n      }\n    },\n    {\n      \"column\": \"diaBP\",\n      \"properties\": {\n        \"dtype\": \"number\",\n        \"std\": 1472.6461851531444,\n        \"min\": 11.91039448330595,\n        \"max\": 4240.0,\n        \"num_unique_values\": 8,\n        \"samples\": [\n          82.89775943396226,\n          82.0,\n          4240.0\n        ],\n        \"semantic_type\": \"\",\n        \"description\": \"\"\n      }\n    },\n    {\n      \"column\": \"BMI\",\n      \"properties\": {\n        \"dtype\": \"number\",\n        \"std\": 1483.3962465729257,\n        \"min\": 4.079840168944382,\n        \"max\": 4221.0,\n        \"num_unique_values\": 8,\n        \"samples\": [\n          25.80080075811419,\n          25.4,\n          4221.0\n        ],\n        \"semantic_type\": \"\",\n        \"description\": \"\"\n      }\n    },\n    {\n      \"column\": \"heartRate\",\n      \"properties\": {\n        \"dtype\": \"number\",\n        \"std\": 1473.8777618374554,\n        \"min\": 12.025347984469386,\n        \"max\": 4239.0,\n        \"num_unique_values\": 8,\n        \"samples\": [\n          75.87898089171975,\n          75.0,\n          4239.0\n        ],\n        \"semantic_type\": \"\",\n        \"description\": \"\"\n      }\n    },\n    {\n      \"column\": \"glucose\",\n      \"properties\": {\n        \"dtype\": \"number\",\n        \"std\": 1327.9158071204477,\n        \"min\": 23.954334811344744,\n        \"max\": 3852.0,\n        \"num_unique_values\": 8,\n        \"samples\": [\n          81.96365524402907,\n          78.0,\n          3852.0\n        ],\n        \"semantic_type\": \"\",\n        \"description\": \"\"\n      }\n    },\n    {\n      \"column\": \"TenYearCHD\",\n      \"properties\": {\n        \"dtype\": \"number\",\n        \"std\": 1498.990106510972,\n        \"min\": 0.0,\n        \"max\": 4240.0,\n        \"num_unique_values\": 5,\n        \"samples\": [\n          0.15188679245283018,\n          1.0,\n          0.35895345563483705\n        ],\n        \"semantic_type\": \"\",\n        \"description\": \"\"\n      }\n    }\n  ]\n}",
       "type": "dataframe"
      },
      "text/html": [
       "\n",
       "  <div id=\"df-22df2bbd-d897-4191-a999-5d84bf4124db\" class=\"colab-df-container\">\n",
       "    <div>\n",
       "<style scoped>\n",
       "    .dataframe tbody tr th:only-of-type {\n",
       "        vertical-align: middle;\n",
       "    }\n",
       "\n",
       "    .dataframe tbody tr th {\n",
       "        vertical-align: top;\n",
       "    }\n",
       "\n",
       "    .dataframe thead th {\n",
       "        text-align: right;\n",
       "    }\n",
       "</style>\n",
       "<table border=\"1\" class=\"dataframe\">\n",
       "  <thead>\n",
       "    <tr style=\"text-align: right;\">\n",
       "      <th></th>\n",
       "      <th>male</th>\n",
       "      <th>age</th>\n",
       "      <th>education</th>\n",
       "      <th>currentSmoker</th>\n",
       "      <th>cigsPerDay</th>\n",
       "      <th>BPMeds</th>\n",
       "      <th>prevalentStroke</th>\n",
       "      <th>prevalentHyp</th>\n",
       "      <th>diabetes</th>\n",
       "      <th>totChol</th>\n",
       "      <th>sysBP</th>\n",
       "      <th>diaBP</th>\n",
       "      <th>BMI</th>\n",
       "      <th>heartRate</th>\n",
       "      <th>glucose</th>\n",
       "      <th>TenYearCHD</th>\n",
       "    </tr>\n",
       "  </thead>\n",
       "  <tbody>\n",
       "    <tr>\n",
       "      <th>count</th>\n",
       "      <td>4240.000000</td>\n",
       "      <td>4240.000000</td>\n",
       "      <td>4135.000000</td>\n",
       "      <td>4240.000000</td>\n",
       "      <td>4211.000000</td>\n",
       "      <td>4187.000000</td>\n",
       "      <td>4240.000000</td>\n",
       "      <td>4240.000000</td>\n",
       "      <td>4240.000000</td>\n",
       "      <td>4190.000000</td>\n",
       "      <td>4240.000000</td>\n",
       "      <td>4240.000000</td>\n",
       "      <td>4221.000000</td>\n",
       "      <td>4239.000000</td>\n",
       "      <td>3852.000000</td>\n",
       "      <td>4240.000000</td>\n",
       "    </tr>\n",
       "    <tr>\n",
       "      <th>mean</th>\n",
       "      <td>0.429245</td>\n",
       "      <td>49.580189</td>\n",
       "      <td>1.979444</td>\n",
       "      <td>0.494104</td>\n",
       "      <td>9.005937</td>\n",
       "      <td>0.029615</td>\n",
       "      <td>0.005896</td>\n",
       "      <td>0.310613</td>\n",
       "      <td>0.025708</td>\n",
       "      <td>236.699523</td>\n",
       "      <td>132.354599</td>\n",
       "      <td>82.897759</td>\n",
       "      <td>25.800801</td>\n",
       "      <td>75.878981</td>\n",
       "      <td>81.963655</td>\n",
       "      <td>0.151887</td>\n",
       "    </tr>\n",
       "    <tr>\n",
       "      <th>std</th>\n",
       "      <td>0.495027</td>\n",
       "      <td>8.572942</td>\n",
       "      <td>1.019791</td>\n",
       "      <td>0.500024</td>\n",
       "      <td>11.922462</td>\n",
       "      <td>0.169544</td>\n",
       "      <td>0.076569</td>\n",
       "      <td>0.462799</td>\n",
       "      <td>0.158280</td>\n",
       "      <td>44.591284</td>\n",
       "      <td>22.033300</td>\n",
       "      <td>11.910394</td>\n",
       "      <td>4.079840</td>\n",
       "      <td>12.025348</td>\n",
       "      <td>23.954335</td>\n",
       "      <td>0.358953</td>\n",
       "    </tr>\n",
       "    <tr>\n",
       "      <th>min</th>\n",
       "      <td>0.000000</td>\n",
       "      <td>32.000000</td>\n",
       "      <td>1.000000</td>\n",
       "      <td>0.000000</td>\n",
       "      <td>0.000000</td>\n",
       "      <td>0.000000</td>\n",
       "      <td>0.000000</td>\n",
       "      <td>0.000000</td>\n",
       "      <td>0.000000</td>\n",
       "      <td>107.000000</td>\n",
       "      <td>83.500000</td>\n",
       "      <td>48.000000</td>\n",
       "      <td>15.540000</td>\n",
       "      <td>44.000000</td>\n",
       "      <td>40.000000</td>\n",
       "      <td>0.000000</td>\n",
       "    </tr>\n",
       "    <tr>\n",
       "      <th>25%</th>\n",
       "      <td>0.000000</td>\n",
       "      <td>42.000000</td>\n",
       "      <td>1.000000</td>\n",
       "      <td>0.000000</td>\n",
       "      <td>0.000000</td>\n",
       "      <td>0.000000</td>\n",
       "      <td>0.000000</td>\n",
       "      <td>0.000000</td>\n",
       "      <td>0.000000</td>\n",
       "      <td>206.000000</td>\n",
       "      <td>117.000000</td>\n",
       "      <td>75.000000</td>\n",
       "      <td>23.070000</td>\n",
       "      <td>68.000000</td>\n",
       "      <td>71.000000</td>\n",
       "      <td>0.000000</td>\n",
       "    </tr>\n",
       "    <tr>\n",
       "      <th>50%</th>\n",
       "      <td>0.000000</td>\n",
       "      <td>49.000000</td>\n",
       "      <td>2.000000</td>\n",
       "      <td>0.000000</td>\n",
       "      <td>0.000000</td>\n",
       "      <td>0.000000</td>\n",
       "      <td>0.000000</td>\n",
       "      <td>0.000000</td>\n",
       "      <td>0.000000</td>\n",
       "      <td>234.000000</td>\n",
       "      <td>128.000000</td>\n",
       "      <td>82.000000</td>\n",
       "      <td>25.400000</td>\n",
       "      <td>75.000000</td>\n",
       "      <td>78.000000</td>\n",
       "      <td>0.000000</td>\n",
       "    </tr>\n",
       "    <tr>\n",
       "      <th>75%</th>\n",
       "      <td>1.000000</td>\n",
       "      <td>56.000000</td>\n",
       "      <td>3.000000</td>\n",
       "      <td>1.000000</td>\n",
       "      <td>20.000000</td>\n",
       "      <td>0.000000</td>\n",
       "      <td>0.000000</td>\n",
       "      <td>1.000000</td>\n",
       "      <td>0.000000</td>\n",
       "      <td>263.000000</td>\n",
       "      <td>144.000000</td>\n",
       "      <td>90.000000</td>\n",
       "      <td>28.040000</td>\n",
       "      <td>83.000000</td>\n",
       "      <td>87.000000</td>\n",
       "      <td>0.000000</td>\n",
       "    </tr>\n",
       "    <tr>\n",
       "      <th>max</th>\n",
       "      <td>1.000000</td>\n",
       "      <td>70.000000</td>\n",
       "      <td>4.000000</td>\n",
       "      <td>1.000000</td>\n",
       "      <td>70.000000</td>\n",
       "      <td>1.000000</td>\n",
       "      <td>1.000000</td>\n",
       "      <td>1.000000</td>\n",
       "      <td>1.000000</td>\n",
       "      <td>696.000000</td>\n",
       "      <td>295.000000</td>\n",
       "      <td>142.500000</td>\n",
       "      <td>56.800000</td>\n",
       "      <td>143.000000</td>\n",
       "      <td>394.000000</td>\n",
       "      <td>1.000000</td>\n",
       "    </tr>\n",
       "  </tbody>\n",
       "</table>\n",
       "</div>\n",
       "    <div class=\"colab-df-buttons\">\n",
       "\n",
       "  <div class=\"colab-df-container\">\n",
       "    <button class=\"colab-df-convert\" onclick=\"convertToInteractive('df-22df2bbd-d897-4191-a999-5d84bf4124db')\"\n",
       "            title=\"Convert this dataframe to an interactive table.\"\n",
       "            style=\"display:none;\">\n",
       "\n",
       "  <svg xmlns=\"http://www.w3.org/2000/svg\" height=\"24px\" viewBox=\"0 -960 960 960\">\n",
       "    <path d=\"M120-120v-720h720v720H120Zm60-500h600v-160H180v160Zm220 220h160v-160H400v160Zm0 220h160v-160H400v160ZM180-400h160v-160H180v160Zm440 0h160v-160H620v160ZM180-180h160v-160H180v160Zm440 0h160v-160H620v160Z\"/>\n",
       "  </svg>\n",
       "    </button>\n",
       "\n",
       "  <style>\n",
       "    .colab-df-container {\n",
       "      display:flex;\n",
       "      gap: 12px;\n",
       "    }\n",
       "\n",
       "    .colab-df-convert {\n",
       "      background-color: #E8F0FE;\n",
       "      border: none;\n",
       "      border-radius: 50%;\n",
       "      cursor: pointer;\n",
       "      display: none;\n",
       "      fill: #1967D2;\n",
       "      height: 32px;\n",
       "      padding: 0 0 0 0;\n",
       "      width: 32px;\n",
       "    }\n",
       "\n",
       "    .colab-df-convert:hover {\n",
       "      background-color: #E2EBFA;\n",
       "      box-shadow: 0px 1px 2px rgba(60, 64, 67, 0.3), 0px 1px 3px 1px rgba(60, 64, 67, 0.15);\n",
       "      fill: #174EA6;\n",
       "    }\n",
       "\n",
       "    .colab-df-buttons div {\n",
       "      margin-bottom: 4px;\n",
       "    }\n",
       "\n",
       "    [theme=dark] .colab-df-convert {\n",
       "      background-color: #3B4455;\n",
       "      fill: #D2E3FC;\n",
       "    }\n",
       "\n",
       "    [theme=dark] .colab-df-convert:hover {\n",
       "      background-color: #434B5C;\n",
       "      box-shadow: 0px 1px 3px 1px rgba(0, 0, 0, 0.15);\n",
       "      filter: drop-shadow(0px 1px 2px rgba(0, 0, 0, 0.3));\n",
       "      fill: #FFFFFF;\n",
       "    }\n",
       "  </style>\n",
       "\n",
       "    <script>\n",
       "      const buttonEl =\n",
       "        document.querySelector('#df-22df2bbd-d897-4191-a999-5d84bf4124db button.colab-df-convert');\n",
       "      buttonEl.style.display =\n",
       "        google.colab.kernel.accessAllowed ? 'block' : 'none';\n",
       "\n",
       "      async function convertToInteractive(key) {\n",
       "        const element = document.querySelector('#df-22df2bbd-d897-4191-a999-5d84bf4124db');\n",
       "        const dataTable =\n",
       "          await google.colab.kernel.invokeFunction('convertToInteractive',\n",
       "                                                    [key], {});\n",
       "        if (!dataTable) return;\n",
       "\n",
       "        const docLinkHtml = 'Like what you see? Visit the ' +\n",
       "          '<a target=\"_blank\" href=https://colab.research.google.com/notebooks/data_table.ipynb>data table notebook</a>'\n",
       "          + ' to learn more about interactive tables.';\n",
       "        element.innerHTML = '';\n",
       "        dataTable['output_type'] = 'display_data';\n",
       "        await google.colab.output.renderOutput(dataTable, element);\n",
       "        const docLink = document.createElement('div');\n",
       "        docLink.innerHTML = docLinkHtml;\n",
       "        element.appendChild(docLink);\n",
       "      }\n",
       "    </script>\n",
       "  </div>\n",
       "\n",
       "\n",
       "<div id=\"df-8d3a2dfd-9342-43b8-9008-5428e068d22f\">\n",
       "  <button class=\"colab-df-quickchart\" onclick=\"quickchart('df-8d3a2dfd-9342-43b8-9008-5428e068d22f')\"\n",
       "            title=\"Suggest charts\"\n",
       "            style=\"display:none;\">\n",
       "\n",
       "<svg xmlns=\"http://www.w3.org/2000/svg\" height=\"24px\"viewBox=\"0 0 24 24\"\n",
       "     width=\"24px\">\n",
       "    <g>\n",
       "        <path d=\"M19 3H5c-1.1 0-2 .9-2 2v14c0 1.1.9 2 2 2h14c1.1 0 2-.9 2-2V5c0-1.1-.9-2-2-2zM9 17H7v-7h2v7zm4 0h-2V7h2v10zm4 0h-2v-4h2v4z\"/>\n",
       "    </g>\n",
       "</svg>\n",
       "  </button>\n",
       "\n",
       "<style>\n",
       "  .colab-df-quickchart {\n",
       "      --bg-color: #E8F0FE;\n",
       "      --fill-color: #1967D2;\n",
       "      --hover-bg-color: #E2EBFA;\n",
       "      --hover-fill-color: #174EA6;\n",
       "      --disabled-fill-color: #AAA;\n",
       "      --disabled-bg-color: #DDD;\n",
       "  }\n",
       "\n",
       "  [theme=dark] .colab-df-quickchart {\n",
       "      --bg-color: #3B4455;\n",
       "      --fill-color: #D2E3FC;\n",
       "      --hover-bg-color: #434B5C;\n",
       "      --hover-fill-color: #FFFFFF;\n",
       "      --disabled-bg-color: #3B4455;\n",
       "      --disabled-fill-color: #666;\n",
       "  }\n",
       "\n",
       "  .colab-df-quickchart {\n",
       "    background-color: var(--bg-color);\n",
       "    border: none;\n",
       "    border-radius: 50%;\n",
       "    cursor: pointer;\n",
       "    display: none;\n",
       "    fill: var(--fill-color);\n",
       "    height: 32px;\n",
       "    padding: 0;\n",
       "    width: 32px;\n",
       "  }\n",
       "\n",
       "  .colab-df-quickchart:hover {\n",
       "    background-color: var(--hover-bg-color);\n",
       "    box-shadow: 0 1px 2px rgba(60, 64, 67, 0.3), 0 1px 3px 1px rgba(60, 64, 67, 0.15);\n",
       "    fill: var(--button-hover-fill-color);\n",
       "  }\n",
       "\n",
       "  .colab-df-quickchart-complete:disabled,\n",
       "  .colab-df-quickchart-complete:disabled:hover {\n",
       "    background-color: var(--disabled-bg-color);\n",
       "    fill: var(--disabled-fill-color);\n",
       "    box-shadow: none;\n",
       "  }\n",
       "\n",
       "  .colab-df-spinner {\n",
       "    border: 2px solid var(--fill-color);\n",
       "    border-color: transparent;\n",
       "    border-bottom-color: var(--fill-color);\n",
       "    animation:\n",
       "      spin 1s steps(1) infinite;\n",
       "  }\n",
       "\n",
       "  @keyframes spin {\n",
       "    0% {\n",
       "      border-color: transparent;\n",
       "      border-bottom-color: var(--fill-color);\n",
       "      border-left-color: var(--fill-color);\n",
       "    }\n",
       "    20% {\n",
       "      border-color: transparent;\n",
       "      border-left-color: var(--fill-color);\n",
       "      border-top-color: var(--fill-color);\n",
       "    }\n",
       "    30% {\n",
       "      border-color: transparent;\n",
       "      border-left-color: var(--fill-color);\n",
       "      border-top-color: var(--fill-color);\n",
       "      border-right-color: var(--fill-color);\n",
       "    }\n",
       "    40% {\n",
       "      border-color: transparent;\n",
       "      border-right-color: var(--fill-color);\n",
       "      border-top-color: var(--fill-color);\n",
       "    }\n",
       "    60% {\n",
       "      border-color: transparent;\n",
       "      border-right-color: var(--fill-color);\n",
       "    }\n",
       "    80% {\n",
       "      border-color: transparent;\n",
       "      border-right-color: var(--fill-color);\n",
       "      border-bottom-color: var(--fill-color);\n",
       "    }\n",
       "    90% {\n",
       "      border-color: transparent;\n",
       "      border-bottom-color: var(--fill-color);\n",
       "    }\n",
       "  }\n",
       "</style>\n",
       "\n",
       "  <script>\n",
       "    async function quickchart(key) {\n",
       "      const quickchartButtonEl =\n",
       "        document.querySelector('#' + key + ' button');\n",
       "      quickchartButtonEl.disabled = true;  // To prevent multiple clicks.\n",
       "      quickchartButtonEl.classList.add('colab-df-spinner');\n",
       "      try {\n",
       "        const charts = await google.colab.kernel.invokeFunction(\n",
       "            'suggestCharts', [key], {});\n",
       "      } catch (error) {\n",
       "        console.error('Error during call to suggestCharts:', error);\n",
       "      }\n",
       "      quickchartButtonEl.classList.remove('colab-df-spinner');\n",
       "      quickchartButtonEl.classList.add('colab-df-quickchart-complete');\n",
       "    }\n",
       "    (() => {\n",
       "      let quickchartButtonEl =\n",
       "        document.querySelector('#df-8d3a2dfd-9342-43b8-9008-5428e068d22f button');\n",
       "      quickchartButtonEl.style.display =\n",
       "        google.colab.kernel.accessAllowed ? 'block' : 'none';\n",
       "    })();\n",
       "  </script>\n",
       "</div>\n",
       "\n",
       "    </div>\n",
       "  </div>\n"
      ],
      "text/plain": [
       "              male          age    education  currentSmoker   cigsPerDay  \\\n",
       "count  4240.000000  4240.000000  4135.000000    4240.000000  4211.000000   \n",
       "mean      0.429245    49.580189     1.979444       0.494104     9.005937   \n",
       "std       0.495027     8.572942     1.019791       0.500024    11.922462   \n",
       "min       0.000000    32.000000     1.000000       0.000000     0.000000   \n",
       "25%       0.000000    42.000000     1.000000       0.000000     0.000000   \n",
       "50%       0.000000    49.000000     2.000000       0.000000     0.000000   \n",
       "75%       1.000000    56.000000     3.000000       1.000000    20.000000   \n",
       "max       1.000000    70.000000     4.000000       1.000000    70.000000   \n",
       "\n",
       "            BPMeds  prevalentStroke  prevalentHyp     diabetes      totChol  \\\n",
       "count  4187.000000      4240.000000   4240.000000  4240.000000  4190.000000   \n",
       "mean      0.029615         0.005896      0.310613     0.025708   236.699523   \n",
       "std       0.169544         0.076569      0.462799     0.158280    44.591284   \n",
       "min       0.000000         0.000000      0.000000     0.000000   107.000000   \n",
       "25%       0.000000         0.000000      0.000000     0.000000   206.000000   \n",
       "50%       0.000000         0.000000      0.000000     0.000000   234.000000   \n",
       "75%       0.000000         0.000000      1.000000     0.000000   263.000000   \n",
       "max       1.000000         1.000000      1.000000     1.000000   696.000000   \n",
       "\n",
       "             sysBP        diaBP          BMI    heartRate      glucose  \\\n",
       "count  4240.000000  4240.000000  4221.000000  4239.000000  3852.000000   \n",
       "mean    132.354599    82.897759    25.800801    75.878981    81.963655   \n",
       "std      22.033300    11.910394     4.079840    12.025348    23.954335   \n",
       "min      83.500000    48.000000    15.540000    44.000000    40.000000   \n",
       "25%     117.000000    75.000000    23.070000    68.000000    71.000000   \n",
       "50%     128.000000    82.000000    25.400000    75.000000    78.000000   \n",
       "75%     144.000000    90.000000    28.040000    83.000000    87.000000   \n",
       "max     295.000000   142.500000    56.800000   143.000000   394.000000   \n",
       "\n",
       "        TenYearCHD  \n",
       "count  4240.000000  \n",
       "mean      0.151887  \n",
       "std       0.358953  \n",
       "min       0.000000  \n",
       "25%       0.000000  \n",
       "50%       0.000000  \n",
       "75%       0.000000  \n",
       "max       1.000000  "
      ]
     },
     "execution_count": 10,
     "metadata": {},
     "output_type": "execute_result"
    }
   ],
   "source": [
    "#This decribes our dataset\n",
    "df.describe()"
   ]
  },
  {
   "cell_type": "code",
   "execution_count": null,
   "metadata": {
    "colab": {
     "base_uri": "https://localhost:8080/",
     "height": 226
    },
    "executionInfo": {
     "elapsed": 13,
     "status": "ok",
     "timestamp": 1714817324577,
     "user": {
      "displayName": "Nakato Esther",
      "userId": "16250477698798363218"
     },
     "user_tz": -180
    },
    "id": "qBkc0ecbLv29",
    "outputId": "24a2ea33-d409-4102-b11a-bd10bd0d8679"
   },
   "outputs": [
    {
     "data": {
      "application/vnd.google.colaboratory.intrinsic+json": {
       "summary": "{\n  \"name\": \"df\",\n  \"rows\": 5,\n  \"fields\": [\n    {\n      \"column\": \"male\",\n      \"properties\": {\n        \"dtype\": \"number\",\n        \"std\": 0,\n        \"min\": 0,\n        \"max\": 1,\n        \"num_unique_values\": 2,\n        \"samples\": [\n          1,\n          0\n        ],\n        \"semantic_type\": \"\",\n        \"description\": \"\"\n      }\n    },\n    {\n      \"column\": \"age\",\n      \"properties\": {\n        \"dtype\": \"number\",\n        \"std\": 5,\n        \"min\": 39,\n        \"max\": 52,\n        \"num_unique_values\": 5,\n        \"samples\": [\n          44,\n          39\n        ],\n        \"semantic_type\": \"\",\n        \"description\": \"\"\n      }\n    },\n    {\n      \"column\": \"education\",\n      \"properties\": {\n        \"dtype\": \"number\",\n        \"std\": 0.8366600265340756,\n        \"min\": 1.0,\n        \"max\": 3.0,\n        \"num_unique_values\": 3,\n        \"samples\": [\n          2.0,\n          1.0\n        ],\n        \"semantic_type\": \"\",\n        \"description\": \"\"\n      }\n    },\n    {\n      \"column\": \"currentSmoker\",\n      \"properties\": {\n        \"dtype\": \"number\",\n        \"std\": 0,\n        \"min\": 0,\n        \"max\": 1,\n        \"num_unique_values\": 2,\n        \"samples\": [\n          0,\n          1\n        ],\n        \"semantic_type\": \"\",\n        \"description\": \"\"\n      }\n    },\n    {\n      \"column\": \"cigsPerDay\",\n      \"properties\": {\n        \"dtype\": \"number\",\n        \"std\": 13.038404810405298,\n        \"min\": 0.0,\n        \"max\": 30.0,\n        \"num_unique_values\": 4,\n        \"samples\": [\n          15.0,\n          30.0\n        ],\n        \"semantic_type\": \"\",\n        \"description\": \"\"\n      }\n    },\n    {\n      \"column\": \"BPMeds\",\n      \"properties\": {\n        \"dtype\": \"number\",\n        \"std\": 0.0,\n        \"min\": 0.0,\n        \"max\": 0.0,\n        \"num_unique_values\": 1,\n        \"samples\": [\n          0.0\n        ],\n        \"semantic_type\": \"\",\n        \"description\": \"\"\n      }\n    },\n    {\n      \"column\": \"prevalentStroke\",\n      \"properties\": {\n        \"dtype\": \"number\",\n        \"std\": 0,\n        \"min\": 0,\n        \"max\": 0,\n        \"num_unique_values\": 1,\n        \"samples\": [\n          0\n        ],\n        \"semantic_type\": \"\",\n        \"description\": \"\"\n      }\n    },\n    {\n      \"column\": \"prevalentHyp\",\n      \"properties\": {\n        \"dtype\": \"number\",\n        \"std\": 0,\n        \"min\": 0,\n        \"max\": 1,\n        \"num_unique_values\": 2,\n        \"samples\": [\n          1\n        ],\n        \"semantic_type\": \"\",\n        \"description\": \"\"\n      }\n    },\n    {\n      \"column\": \"diabetes\",\n      \"properties\": {\n        \"dtype\": \"number\",\n        \"std\": 0,\n        \"min\": 0,\n        \"max\": 0,\n        \"num_unique_values\": 1,\n        \"samples\": [\n          0\n        ],\n        \"semantic_type\": \"\",\n        \"description\": \"\"\n      }\n    },\n    {\n      \"column\": \"totChol\",\n      \"properties\": {\n        \"dtype\": \"number\",\n        \"std\": 35.61319980007413,\n        \"min\": 185.0,\n        \"max\": 269.0,\n        \"num_unique_values\": 5,\n        \"samples\": [\n          210.0\n        ],\n        \"semantic_type\": \"\",\n        \"description\": \"\"\n      }\n    },\n    {\n      \"column\": \"sysBP\",\n      \"properties\": {\n        \"dtype\": \"number\",\n        \"std\": 5.25594901040716,\n        \"min\": 126.5,\n        \"max\": 141.0,\n        \"num_unique_values\": 5,\n        \"samples\": [\n          126.5\n        ],\n        \"semantic_type\": \"\",\n        \"description\": \"\"\n      }\n    },\n    {\n      \"column\": \"diaBP\",\n      \"properties\": {\n        \"dtype\": \"number\",\n        \"std\": 9.311283477587823,\n        \"min\": 72.0,\n        \"max\": 98.0,\n        \"num_unique_values\": 5,\n        \"samples\": [\n          87.0\n        ],\n        \"semantic_type\": \"\",\n        \"description\": \"\"\n      }\n    },\n    {\n      \"column\": \"BMI\",\n      \"properties\": {\n        \"dtype\": \"number\",\n        \"std\": 2.363613758633166,\n        \"min\": 19.16,\n        \"max\": 25.6,\n        \"num_unique_values\": 5,\n        \"samples\": [\n          19.16\n        ],\n        \"semantic_type\": \"\",\n        \"description\": \"\"\n      }\n    },\n    {\n      \"column\": \"heartRate\",\n      \"properties\": {\n        \"dtype\": \"number\",\n        \"std\": 7.829431652425353,\n        \"min\": 67.0,\n        \"max\": 86.0,\n        \"num_unique_values\": 5,\n        \"samples\": [\n          86.0\n        ],\n        \"semantic_type\": \"\",\n        \"description\": \"\"\n      }\n    },\n    {\n      \"column\": \"glucose\",\n      \"properties\": {\n        \"dtype\": \"number\",\n        \"std\": 14.974979131871937,\n        \"min\": 72.0,\n        \"max\": 107.0,\n        \"num_unique_values\": 4,\n        \"samples\": [\n          107.0\n        ],\n        \"semantic_type\": \"\",\n        \"description\": \"\"\n      }\n    },\n    {\n      \"column\": \"TenYearCHD\",\n      \"properties\": {\n        \"dtype\": \"number\",\n        \"std\": 0,\n        \"min\": 0,\n        \"max\": 0,\n        \"num_unique_values\": 1,\n        \"samples\": [\n          0\n        ],\n        \"semantic_type\": \"\",\n        \"description\": \"\"\n      }\n    }\n  ]\n}",
       "type": "dataframe"
      },
      "text/html": [
       "\n",
       "  <div id=\"df-87383ef8-1cb0-4b27-aab0-b86fe2d05566\" class=\"colab-df-container\">\n",
       "    <div>\n",
       "<style scoped>\n",
       "    .dataframe tbody tr th:only-of-type {\n",
       "        vertical-align: middle;\n",
       "    }\n",
       "\n",
       "    .dataframe tbody tr th {\n",
       "        vertical-align: top;\n",
       "    }\n",
       "\n",
       "    .dataframe thead th {\n",
       "        text-align: right;\n",
       "    }\n",
       "</style>\n",
       "<table border=\"1\" class=\"dataframe\">\n",
       "  <thead>\n",
       "    <tr style=\"text-align: right;\">\n",
       "      <th></th>\n",
       "      <th>male</th>\n",
       "      <th>age</th>\n",
       "      <th>education</th>\n",
       "      <th>currentSmoker</th>\n",
       "      <th>cigsPerDay</th>\n",
       "      <th>BPMeds</th>\n",
       "      <th>prevalentStroke</th>\n",
       "      <th>prevalentHyp</th>\n",
       "      <th>diabetes</th>\n",
       "      <th>totChol</th>\n",
       "      <th>sysBP</th>\n",
       "      <th>diaBP</th>\n",
       "      <th>BMI</th>\n",
       "      <th>heartRate</th>\n",
       "      <th>glucose</th>\n",
       "      <th>TenYearCHD</th>\n",
       "    </tr>\n",
       "  </thead>\n",
       "  <tbody>\n",
       "    <tr>\n",
       "      <th>4235</th>\n",
       "      <td>0</td>\n",
       "      <td>48</td>\n",
       "      <td>2.0</td>\n",
       "      <td>1</td>\n",
       "      <td>20.0</td>\n",
       "      <td>NaN</td>\n",
       "      <td>0</td>\n",
       "      <td>0</td>\n",
       "      <td>0</td>\n",
       "      <td>248.0</td>\n",
       "      <td>131.0</td>\n",
       "      <td>72.0</td>\n",
       "      <td>22.00</td>\n",
       "      <td>84.0</td>\n",
       "      <td>86.0</td>\n",
       "      <td>0</td>\n",
       "    </tr>\n",
       "    <tr>\n",
       "      <th>4236</th>\n",
       "      <td>0</td>\n",
       "      <td>44</td>\n",
       "      <td>1.0</td>\n",
       "      <td>1</td>\n",
       "      <td>15.0</td>\n",
       "      <td>0.0</td>\n",
       "      <td>0</td>\n",
       "      <td>0</td>\n",
       "      <td>0</td>\n",
       "      <td>210.0</td>\n",
       "      <td>126.5</td>\n",
       "      <td>87.0</td>\n",
       "      <td>19.16</td>\n",
       "      <td>86.0</td>\n",
       "      <td>NaN</td>\n",
       "      <td>0</td>\n",
       "    </tr>\n",
       "    <tr>\n",
       "      <th>4237</th>\n",
       "      <td>0</td>\n",
       "      <td>52</td>\n",
       "      <td>2.0</td>\n",
       "      <td>0</td>\n",
       "      <td>0.0</td>\n",
       "      <td>0.0</td>\n",
       "      <td>0</td>\n",
       "      <td>0</td>\n",
       "      <td>0</td>\n",
       "      <td>269.0</td>\n",
       "      <td>133.5</td>\n",
       "      <td>83.0</td>\n",
       "      <td>21.47</td>\n",
       "      <td>80.0</td>\n",
       "      <td>107.0</td>\n",
       "      <td>0</td>\n",
       "    </tr>\n",
       "    <tr>\n",
       "      <th>4238</th>\n",
       "      <td>1</td>\n",
       "      <td>40</td>\n",
       "      <td>3.0</td>\n",
       "      <td>0</td>\n",
       "      <td>0.0</td>\n",
       "      <td>0.0</td>\n",
       "      <td>0</td>\n",
       "      <td>1</td>\n",
       "      <td>0</td>\n",
       "      <td>185.0</td>\n",
       "      <td>141.0</td>\n",
       "      <td>98.0</td>\n",
       "      <td>25.60</td>\n",
       "      <td>67.0</td>\n",
       "      <td>72.0</td>\n",
       "      <td>0</td>\n",
       "    </tr>\n",
       "    <tr>\n",
       "      <th>4239</th>\n",
       "      <td>0</td>\n",
       "      <td>39</td>\n",
       "      <td>3.0</td>\n",
       "      <td>1</td>\n",
       "      <td>30.0</td>\n",
       "      <td>0.0</td>\n",
       "      <td>0</td>\n",
       "      <td>0</td>\n",
       "      <td>0</td>\n",
       "      <td>196.0</td>\n",
       "      <td>133.0</td>\n",
       "      <td>86.0</td>\n",
       "      <td>20.91</td>\n",
       "      <td>85.0</td>\n",
       "      <td>80.0</td>\n",
       "      <td>0</td>\n",
       "    </tr>\n",
       "  </tbody>\n",
       "</table>\n",
       "</div>\n",
       "    <div class=\"colab-df-buttons\">\n",
       "\n",
       "  <div class=\"colab-df-container\">\n",
       "    <button class=\"colab-df-convert\" onclick=\"convertToInteractive('df-87383ef8-1cb0-4b27-aab0-b86fe2d05566')\"\n",
       "            title=\"Convert this dataframe to an interactive table.\"\n",
       "            style=\"display:none;\">\n",
       "\n",
       "  <svg xmlns=\"http://www.w3.org/2000/svg\" height=\"24px\" viewBox=\"0 -960 960 960\">\n",
       "    <path d=\"M120-120v-720h720v720H120Zm60-500h600v-160H180v160Zm220 220h160v-160H400v160Zm0 220h160v-160H400v160ZM180-400h160v-160H180v160Zm440 0h160v-160H620v160ZM180-180h160v-160H180v160Zm440 0h160v-160H620v160Z\"/>\n",
       "  </svg>\n",
       "    </button>\n",
       "\n",
       "  <style>\n",
       "    .colab-df-container {\n",
       "      display:flex;\n",
       "      gap: 12px;\n",
       "    }\n",
       "\n",
       "    .colab-df-convert {\n",
       "      background-color: #E8F0FE;\n",
       "      border: none;\n",
       "      border-radius: 50%;\n",
       "      cursor: pointer;\n",
       "      display: none;\n",
       "      fill: #1967D2;\n",
       "      height: 32px;\n",
       "      padding: 0 0 0 0;\n",
       "      width: 32px;\n",
       "    }\n",
       "\n",
       "    .colab-df-convert:hover {\n",
       "      background-color: #E2EBFA;\n",
       "      box-shadow: 0px 1px 2px rgba(60, 64, 67, 0.3), 0px 1px 3px 1px rgba(60, 64, 67, 0.15);\n",
       "      fill: #174EA6;\n",
       "    }\n",
       "\n",
       "    .colab-df-buttons div {\n",
       "      margin-bottom: 4px;\n",
       "    }\n",
       "\n",
       "    [theme=dark] .colab-df-convert {\n",
       "      background-color: #3B4455;\n",
       "      fill: #D2E3FC;\n",
       "    }\n",
       "\n",
       "    [theme=dark] .colab-df-convert:hover {\n",
       "      background-color: #434B5C;\n",
       "      box-shadow: 0px 1px 3px 1px rgba(0, 0, 0, 0.15);\n",
       "      filter: drop-shadow(0px 1px 2px rgba(0, 0, 0, 0.3));\n",
       "      fill: #FFFFFF;\n",
       "    }\n",
       "  </style>\n",
       "\n",
       "    <script>\n",
       "      const buttonEl =\n",
       "        document.querySelector('#df-87383ef8-1cb0-4b27-aab0-b86fe2d05566 button.colab-df-convert');\n",
       "      buttonEl.style.display =\n",
       "        google.colab.kernel.accessAllowed ? 'block' : 'none';\n",
       "\n",
       "      async function convertToInteractive(key) {\n",
       "        const element = document.querySelector('#df-87383ef8-1cb0-4b27-aab0-b86fe2d05566');\n",
       "        const dataTable =\n",
       "          await google.colab.kernel.invokeFunction('convertToInteractive',\n",
       "                                                    [key], {});\n",
       "        if (!dataTable) return;\n",
       "\n",
       "        const docLinkHtml = 'Like what you see? Visit the ' +\n",
       "          '<a target=\"_blank\" href=https://colab.research.google.com/notebooks/data_table.ipynb>data table notebook</a>'\n",
       "          + ' to learn more about interactive tables.';\n",
       "        element.innerHTML = '';\n",
       "        dataTable['output_type'] = 'display_data';\n",
       "        await google.colab.output.renderOutput(dataTable, element);\n",
       "        const docLink = document.createElement('div');\n",
       "        docLink.innerHTML = docLinkHtml;\n",
       "        element.appendChild(docLink);\n",
       "      }\n",
       "    </script>\n",
       "  </div>\n",
       "\n",
       "\n",
       "<div id=\"df-047e0092-f671-46a7-9fc3-c61eb7c57e83\">\n",
       "  <button class=\"colab-df-quickchart\" onclick=\"quickchart('df-047e0092-f671-46a7-9fc3-c61eb7c57e83')\"\n",
       "            title=\"Suggest charts\"\n",
       "            style=\"display:none;\">\n",
       "\n",
       "<svg xmlns=\"http://www.w3.org/2000/svg\" height=\"24px\"viewBox=\"0 0 24 24\"\n",
       "     width=\"24px\">\n",
       "    <g>\n",
       "        <path d=\"M19 3H5c-1.1 0-2 .9-2 2v14c0 1.1.9 2 2 2h14c1.1 0 2-.9 2-2V5c0-1.1-.9-2-2-2zM9 17H7v-7h2v7zm4 0h-2V7h2v10zm4 0h-2v-4h2v4z\"/>\n",
       "    </g>\n",
       "</svg>\n",
       "  </button>\n",
       "\n",
       "<style>\n",
       "  .colab-df-quickchart {\n",
       "      --bg-color: #E8F0FE;\n",
       "      --fill-color: #1967D2;\n",
       "      --hover-bg-color: #E2EBFA;\n",
       "      --hover-fill-color: #174EA6;\n",
       "      --disabled-fill-color: #AAA;\n",
       "      --disabled-bg-color: #DDD;\n",
       "  }\n",
       "\n",
       "  [theme=dark] .colab-df-quickchart {\n",
       "      --bg-color: #3B4455;\n",
       "      --fill-color: #D2E3FC;\n",
       "      --hover-bg-color: #434B5C;\n",
       "      --hover-fill-color: #FFFFFF;\n",
       "      --disabled-bg-color: #3B4455;\n",
       "      --disabled-fill-color: #666;\n",
       "  }\n",
       "\n",
       "  .colab-df-quickchart {\n",
       "    background-color: var(--bg-color);\n",
       "    border: none;\n",
       "    border-radius: 50%;\n",
       "    cursor: pointer;\n",
       "    display: none;\n",
       "    fill: var(--fill-color);\n",
       "    height: 32px;\n",
       "    padding: 0;\n",
       "    width: 32px;\n",
       "  }\n",
       "\n",
       "  .colab-df-quickchart:hover {\n",
       "    background-color: var(--hover-bg-color);\n",
       "    box-shadow: 0 1px 2px rgba(60, 64, 67, 0.3), 0 1px 3px 1px rgba(60, 64, 67, 0.15);\n",
       "    fill: var(--button-hover-fill-color);\n",
       "  }\n",
       "\n",
       "  .colab-df-quickchart-complete:disabled,\n",
       "  .colab-df-quickchart-complete:disabled:hover {\n",
       "    background-color: var(--disabled-bg-color);\n",
       "    fill: var(--disabled-fill-color);\n",
       "    box-shadow: none;\n",
       "  }\n",
       "\n",
       "  .colab-df-spinner {\n",
       "    border: 2px solid var(--fill-color);\n",
       "    border-color: transparent;\n",
       "    border-bottom-color: var(--fill-color);\n",
       "    animation:\n",
       "      spin 1s steps(1) infinite;\n",
       "  }\n",
       "\n",
       "  @keyframes spin {\n",
       "    0% {\n",
       "      border-color: transparent;\n",
       "      border-bottom-color: var(--fill-color);\n",
       "      border-left-color: var(--fill-color);\n",
       "    }\n",
       "    20% {\n",
       "      border-color: transparent;\n",
       "      border-left-color: var(--fill-color);\n",
       "      border-top-color: var(--fill-color);\n",
       "    }\n",
       "    30% {\n",
       "      border-color: transparent;\n",
       "      border-left-color: var(--fill-color);\n",
       "      border-top-color: var(--fill-color);\n",
       "      border-right-color: var(--fill-color);\n",
       "    }\n",
       "    40% {\n",
       "      border-color: transparent;\n",
       "      border-right-color: var(--fill-color);\n",
       "      border-top-color: var(--fill-color);\n",
       "    }\n",
       "    60% {\n",
       "      border-color: transparent;\n",
       "      border-right-color: var(--fill-color);\n",
       "    }\n",
       "    80% {\n",
       "      border-color: transparent;\n",
       "      border-right-color: var(--fill-color);\n",
       "      border-bottom-color: var(--fill-color);\n",
       "    }\n",
       "    90% {\n",
       "      border-color: transparent;\n",
       "      border-bottom-color: var(--fill-color);\n",
       "    }\n",
       "  }\n",
       "</style>\n",
       "\n",
       "  <script>\n",
       "    async function quickchart(key) {\n",
       "      const quickchartButtonEl =\n",
       "        document.querySelector('#' + key + ' button');\n",
       "      quickchartButtonEl.disabled = true;  // To prevent multiple clicks.\n",
       "      quickchartButtonEl.classList.add('colab-df-spinner');\n",
       "      try {\n",
       "        const charts = await google.colab.kernel.invokeFunction(\n",
       "            'suggestCharts', [key], {});\n",
       "      } catch (error) {\n",
       "        console.error('Error during call to suggestCharts:', error);\n",
       "      }\n",
       "      quickchartButtonEl.classList.remove('colab-df-spinner');\n",
       "      quickchartButtonEl.classList.add('colab-df-quickchart-complete');\n",
       "    }\n",
       "    (() => {\n",
       "      let quickchartButtonEl =\n",
       "        document.querySelector('#df-047e0092-f671-46a7-9fc3-c61eb7c57e83 button');\n",
       "      quickchartButtonEl.style.display =\n",
       "        google.colab.kernel.accessAllowed ? 'block' : 'none';\n",
       "    })();\n",
       "  </script>\n",
       "</div>\n",
       "\n",
       "    </div>\n",
       "  </div>\n"
      ],
      "text/plain": [
       "      male  age  education  currentSmoker  cigsPerDay  BPMeds  \\\n",
       "4235     0   48        2.0              1        20.0     NaN   \n",
       "4236     0   44        1.0              1        15.0     0.0   \n",
       "4237     0   52        2.0              0         0.0     0.0   \n",
       "4238     1   40        3.0              0         0.0     0.0   \n",
       "4239     0   39        3.0              1        30.0     0.0   \n",
       "\n",
       "      prevalentStroke  prevalentHyp  diabetes  totChol  sysBP  diaBP    BMI  \\\n",
       "4235                0             0         0    248.0  131.0   72.0  22.00   \n",
       "4236                0             0         0    210.0  126.5   87.0  19.16   \n",
       "4237                0             0         0    269.0  133.5   83.0  21.47   \n",
       "4238                0             1         0    185.0  141.0   98.0  25.60   \n",
       "4239                0             0         0    196.0  133.0   86.0  20.91   \n",
       "\n",
       "      heartRate  glucose  TenYearCHD  \n",
       "4235       84.0     86.0           0  \n",
       "4236       86.0      NaN           0  \n",
       "4237       80.0    107.0           0  \n",
       "4238       67.0     72.0           0  \n",
       "4239       85.0     80.0           0  "
      ]
     },
     "execution_count": 11,
     "metadata": {},
     "output_type": "execute_result"
    }
   ],
   "source": [
    "df.tail()"
   ]
  },
  {
   "cell_type": "code",
   "execution_count": null,
   "metadata": {
    "colab": {
     "base_uri": "https://localhost:8080/",
     "height": 383
    },
    "executionInfo": {
     "elapsed": 18,
     "status": "ok",
     "timestamp": 1714817326227,
     "user": {
      "displayName": "Nakato Esther",
      "userId": "16250477698798363218"
     },
     "user_tz": -180
    },
    "id": "5-pCIUkz9ABz",
    "outputId": "b5fc6c96-4dd5-48a4-eb1b-adf07edb97fe"
   },
   "outputs": [
    {
     "data": {
      "application/vnd.google.colaboratory.intrinsic+json": {
       "summary": "{\n  \"name\": \"df\",\n  \"rows\": 10,\n  \"fields\": [\n    {\n      \"column\": \"male\",\n      \"properties\": {\n        \"dtype\": \"number\",\n        \"std\": 0,\n        \"min\": 0,\n        \"max\": 1,\n        \"num_unique_values\": 2,\n        \"samples\": [\n          0,\n          1\n        ],\n        \"semantic_type\": \"\",\n        \"description\": \"\"\n      }\n    },\n    {\n      \"column\": \"age\",\n      \"properties\": {\n        \"dtype\": \"number\",\n        \"std\": 10,\n        \"min\": 35,\n        \"max\": 62,\n        \"num_unique_values\": 9,\n        \"samples\": [\n          60,\n          62\n        ],\n        \"semantic_type\": \"\",\n        \"description\": \"\"\n      }\n    },\n    {\n      \"column\": \"education\",\n      \"properties\": {\n        \"dtype\": \"number\",\n        \"std\": 1.0749676997731399,\n        \"min\": 1.0,\n        \"max\": 4.0,\n        \"num_unique_values\": 4,\n        \"samples\": [\n          2.0,\n          1.0\n        ],\n        \"semantic_type\": \"\",\n        \"description\": \"\"\n      }\n    },\n    {\n      \"column\": \"currentSmoker\",\n      \"properties\": {\n        \"dtype\": \"number\",\n        \"std\": 0,\n        \"min\": 0,\n        \"max\": 1,\n        \"num_unique_values\": 2,\n        \"samples\": [\n          0,\n          1\n        ],\n        \"semantic_type\": \"\",\n        \"description\": \"\"\n      }\n    },\n    {\n      \"column\": \"cigsPerDay\",\n      \"properties\": {\n        \"dtype\": \"number\",\n        \"std\": 7.833333333333333,\n        \"min\": 0.0,\n        \"max\": 20.0,\n        \"num_unique_values\": 4,\n        \"samples\": [\n          0.0,\n          20.0\n        ],\n        \"semantic_type\": \"\",\n        \"description\": \"\"\n      }\n    },\n    {\n      \"column\": \"BPMeds\",\n      \"properties\": {\n        \"dtype\": \"number\",\n        \"std\": 0.0,\n        \"min\": 0.0,\n        \"max\": 0.0,\n        \"num_unique_values\": 1,\n        \"samples\": [\n          0.0\n        ],\n        \"semantic_type\": \"\",\n        \"description\": \"\"\n      }\n    },\n    {\n      \"column\": \"prevalentStroke\",\n      \"properties\": {\n        \"dtype\": \"number\",\n        \"std\": 0,\n        \"min\": 0,\n        \"max\": 0,\n        \"num_unique_values\": 1,\n        \"samples\": [\n          0\n        ],\n        \"semantic_type\": \"\",\n        \"description\": \"\"\n      }\n    },\n    {\n      \"column\": \"prevalentHyp\",\n      \"properties\": {\n        \"dtype\": \"number\",\n        \"std\": 0,\n        \"min\": 0,\n        \"max\": 1,\n        \"num_unique_values\": 2,\n        \"samples\": [\n          1\n        ],\n        \"semantic_type\": \"\",\n        \"description\": \"\"\n      }\n    },\n    {\n      \"column\": \"diabetes\",\n      \"properties\": {\n        \"dtype\": \"number\",\n        \"std\": 0,\n        \"min\": 0,\n        \"max\": 0,\n        \"num_unique_values\": 1,\n        \"samples\": [\n          0\n        ],\n        \"semantic_type\": \"\",\n        \"description\": \"\"\n      }\n    },\n    {\n      \"column\": \"totChol\",\n      \"properties\": {\n        \"dtype\": \"number\",\n        \"std\": 53.986006417301226,\n        \"min\": 188.0,\n        \"max\": 335.0,\n        \"num_unique_values\": 10,\n        \"samples\": [\n          200.0\n        ],\n        \"semantic_type\": \"\",\n        \"description\": \"\"\n      }\n    },\n    {\n      \"column\": \"sysBP\",\n      \"properties\": {\n        \"dtype\": \"number\",\n        \"std\": 29.011731343640207,\n        \"min\": 108.5,\n        \"max\": 199.0,\n        \"num_unique_values\": 10,\n        \"samples\": [\n          112.0\n        ],\n        \"semantic_type\": \"\",\n        \"description\": \"\"\n      }\n    },\n    {\n      \"column\": \"diaBP\",\n      \"properties\": {\n        \"dtype\": \"number\",\n        \"std\": 9.31784429051174,\n        \"min\": 62.5,\n        \"max\": 98.0,\n        \"num_unique_values\": 10,\n        \"samples\": [\n          76.0\n        ],\n        \"semantic_type\": \"\",\n        \"description\": \"\"\n      }\n    },\n    {\n      \"column\": \"BMI\",\n      \"properties\": {\n        \"dtype\": \"number\",\n        \"std\": 1.3734886643547923,\n        \"min\": 23.8,\n        \"max\": 28.3,\n        \"num_unique_values\": 10,\n        \"samples\": [\n          26.03\n        ],\n        \"semantic_type\": \"\",\n        \"description\": \"\"\n      }\n    },\n    {\n      \"column\": \"heartRate\",\n      \"properties\": {\n        \"dtype\": \"number\",\n        \"std\": 10.243697249203207,\n        \"min\": 60.0,\n        \"max\": 98.0,\n        \"num_unique_values\": 8,\n        \"samples\": [\n          77.0\n        ],\n        \"semantic_type\": \"\",\n        \"description\": \"\"\n      }\n    },\n    {\n      \"column\": \"glucose\",\n      \"properties\": {\n        \"dtype\": \"number\",\n        \"std\": 10.093452222989802,\n        \"min\": 62.0,\n        \"max\": 95.0,\n        \"num_unique_values\": 8,\n        \"samples\": [\n          95.0\n        ],\n        \"semantic_type\": \"\",\n        \"description\": \"\"\n      }\n    },\n    {\n      \"column\": \"TenYearCHD\",\n      \"properties\": {\n        \"dtype\": \"number\",\n        \"std\": 0,\n        \"min\": 0,\n        \"max\": 1,\n        \"num_unique_values\": 2,\n        \"samples\": [\n          1\n        ],\n        \"semantic_type\": \"\",\n        \"description\": \"\"\n      }\n    }\n  ]\n}",
       "type": "dataframe"
      },
      "text/html": [
       "\n",
       "  <div id=\"df-f5a37afc-85c7-4e41-be97-50f131ba1bb6\" class=\"colab-df-container\">\n",
       "    <div>\n",
       "<style scoped>\n",
       "    .dataframe tbody tr th:only-of-type {\n",
       "        vertical-align: middle;\n",
       "    }\n",
       "\n",
       "    .dataframe tbody tr th {\n",
       "        vertical-align: top;\n",
       "    }\n",
       "\n",
       "    .dataframe thead th {\n",
       "        text-align: right;\n",
       "    }\n",
       "</style>\n",
       "<table border=\"1\" class=\"dataframe\">\n",
       "  <thead>\n",
       "    <tr style=\"text-align: right;\">\n",
       "      <th></th>\n",
       "      <th>male</th>\n",
       "      <th>age</th>\n",
       "      <th>education</th>\n",
       "      <th>currentSmoker</th>\n",
       "      <th>cigsPerDay</th>\n",
       "      <th>BPMeds</th>\n",
       "      <th>prevalentStroke</th>\n",
       "      <th>prevalentHyp</th>\n",
       "      <th>diabetes</th>\n",
       "      <th>totChol</th>\n",
       "      <th>sysBP</th>\n",
       "      <th>diaBP</th>\n",
       "      <th>BMI</th>\n",
       "      <th>heartRate</th>\n",
       "      <th>glucose</th>\n",
       "      <th>TenYearCHD</th>\n",
       "    </tr>\n",
       "  </thead>\n",
       "  <tbody>\n",
       "    <tr>\n",
       "      <th>1310</th>\n",
       "      <td>1</td>\n",
       "      <td>50</td>\n",
       "      <td>4.0</td>\n",
       "      <td>1</td>\n",
       "      <td>15.0</td>\n",
       "      <td>0.0</td>\n",
       "      <td>0</td>\n",
       "      <td>0</td>\n",
       "      <td>0</td>\n",
       "      <td>212.0</td>\n",
       "      <td>132.0</td>\n",
       "      <td>87.0</td>\n",
       "      <td>25.90</td>\n",
       "      <td>75.0</td>\n",
       "      <td>83.0</td>\n",
       "      <td>0</td>\n",
       "    </tr>\n",
       "    <tr>\n",
       "      <th>752</th>\n",
       "      <td>1</td>\n",
       "      <td>62</td>\n",
       "      <td>2.0</td>\n",
       "      <td>0</td>\n",
       "      <td>0.0</td>\n",
       "      <td>0.0</td>\n",
       "      <td>0</td>\n",
       "      <td>0</td>\n",
       "      <td>0</td>\n",
       "      <td>214.0</td>\n",
       "      <td>110.0</td>\n",
       "      <td>62.5</td>\n",
       "      <td>23.80</td>\n",
       "      <td>77.0</td>\n",
       "      <td>95.0</td>\n",
       "      <td>1</td>\n",
       "    </tr>\n",
       "    <tr>\n",
       "      <th>1285</th>\n",
       "      <td>0</td>\n",
       "      <td>40</td>\n",
       "      <td>2.0</td>\n",
       "      <td>0</td>\n",
       "      <td>0.0</td>\n",
       "      <td>0.0</td>\n",
       "      <td>0</td>\n",
       "      <td>0</td>\n",
       "      <td>0</td>\n",
       "      <td>233.0</td>\n",
       "      <td>108.5</td>\n",
       "      <td>75.0</td>\n",
       "      <td>28.30</td>\n",
       "      <td>60.0</td>\n",
       "      <td>73.0</td>\n",
       "      <td>0</td>\n",
       "    </tr>\n",
       "    <tr>\n",
       "      <th>3156</th>\n",
       "      <td>1</td>\n",
       "      <td>37</td>\n",
       "      <td>3.0</td>\n",
       "      <td>1</td>\n",
       "      <td>NaN</td>\n",
       "      <td>0.0</td>\n",
       "      <td>0</td>\n",
       "      <td>0</td>\n",
       "      <td>0</td>\n",
       "      <td>188.0</td>\n",
       "      <td>123.5</td>\n",
       "      <td>77.0</td>\n",
       "      <td>26.62</td>\n",
       "      <td>65.0</td>\n",
       "      <td>80.0</td>\n",
       "      <td>0</td>\n",
       "    </tr>\n",
       "    <tr>\n",
       "      <th>3510</th>\n",
       "      <td>1</td>\n",
       "      <td>51</td>\n",
       "      <td>4.0</td>\n",
       "      <td>1</td>\n",
       "      <td>9.0</td>\n",
       "      <td>0.0</td>\n",
       "      <td>0</td>\n",
       "      <td>1</td>\n",
       "      <td>0</td>\n",
       "      <td>251.0</td>\n",
       "      <td>160.0</td>\n",
       "      <td>98.0</td>\n",
       "      <td>24.63</td>\n",
       "      <td>98.0</td>\n",
       "      <td>85.0</td>\n",
       "      <td>0</td>\n",
       "    </tr>\n",
       "    <tr>\n",
       "      <th>3426</th>\n",
       "      <td>0</td>\n",
       "      <td>45</td>\n",
       "      <td>4.0</td>\n",
       "      <td>0</td>\n",
       "      <td>0.0</td>\n",
       "      <td>0.0</td>\n",
       "      <td>0</td>\n",
       "      <td>0</td>\n",
       "      <td>0</td>\n",
       "      <td>333.0</td>\n",
       "      <td>122.0</td>\n",
       "      <td>80.0</td>\n",
       "      <td>24.39</td>\n",
       "      <td>75.0</td>\n",
       "      <td>80.0</td>\n",
       "      <td>0</td>\n",
       "    </tr>\n",
       "    <tr>\n",
       "      <th>2207</th>\n",
       "      <td>0</td>\n",
       "      <td>35</td>\n",
       "      <td>2.0</td>\n",
       "      <td>0</td>\n",
       "      <td>0.0</td>\n",
       "      <td>0.0</td>\n",
       "      <td>0</td>\n",
       "      <td>0</td>\n",
       "      <td>0</td>\n",
       "      <td>197.0</td>\n",
       "      <td>109.0</td>\n",
       "      <td>73.0</td>\n",
       "      <td>26.38</td>\n",
       "      <td>71.0</td>\n",
       "      <td>95.0</td>\n",
       "      <td>0</td>\n",
       "    </tr>\n",
       "    <tr>\n",
       "      <th>932</th>\n",
       "      <td>0</td>\n",
       "      <td>60</td>\n",
       "      <td>2.0</td>\n",
       "      <td>0</td>\n",
       "      <td>0.0</td>\n",
       "      <td>0.0</td>\n",
       "      <td>0</td>\n",
       "      <td>1</td>\n",
       "      <td>0</td>\n",
       "      <td>335.0</td>\n",
       "      <td>199.0</td>\n",
       "      <td>83.0</td>\n",
       "      <td>24.61</td>\n",
       "      <td>80.0</td>\n",
       "      <td>90.0</td>\n",
       "      <td>0</td>\n",
       "    </tr>\n",
       "    <tr>\n",
       "      <th>658</th>\n",
       "      <td>0</td>\n",
       "      <td>36</td>\n",
       "      <td>1.0</td>\n",
       "      <td>0</td>\n",
       "      <td>0.0</td>\n",
       "      <td>0.0</td>\n",
       "      <td>0</td>\n",
       "      <td>0</td>\n",
       "      <td>0</td>\n",
       "      <td>200.0</td>\n",
       "      <td>112.0</td>\n",
       "      <td>76.0</td>\n",
       "      <td>26.03</td>\n",
       "      <td>75.0</td>\n",
       "      <td>62.0</td>\n",
       "      <td>0</td>\n",
       "    </tr>\n",
       "    <tr>\n",
       "      <th>1923</th>\n",
       "      <td>1</td>\n",
       "      <td>37</td>\n",
       "      <td>2.0</td>\n",
       "      <td>1</td>\n",
       "      <td>20.0</td>\n",
       "      <td>0.0</td>\n",
       "      <td>0</td>\n",
       "      <td>0</td>\n",
       "      <td>0</td>\n",
       "      <td>211.0</td>\n",
       "      <td>116.5</td>\n",
       "      <td>77.5</td>\n",
       "      <td>24.50</td>\n",
       "      <td>68.0</td>\n",
       "      <td>78.0</td>\n",
       "      <td>1</td>\n",
       "    </tr>\n",
       "  </tbody>\n",
       "</table>\n",
       "</div>\n",
       "    <div class=\"colab-df-buttons\">\n",
       "\n",
       "  <div class=\"colab-df-container\">\n",
       "    <button class=\"colab-df-convert\" onclick=\"convertToInteractive('df-f5a37afc-85c7-4e41-be97-50f131ba1bb6')\"\n",
       "            title=\"Convert this dataframe to an interactive table.\"\n",
       "            style=\"display:none;\">\n",
       "\n",
       "  <svg xmlns=\"http://www.w3.org/2000/svg\" height=\"24px\" viewBox=\"0 -960 960 960\">\n",
       "    <path d=\"M120-120v-720h720v720H120Zm60-500h600v-160H180v160Zm220 220h160v-160H400v160Zm0 220h160v-160H400v160ZM180-400h160v-160H180v160Zm440 0h160v-160H620v160ZM180-180h160v-160H180v160Zm440 0h160v-160H620v160Z\"/>\n",
       "  </svg>\n",
       "    </button>\n",
       "\n",
       "  <style>\n",
       "    .colab-df-container {\n",
       "      display:flex;\n",
       "      gap: 12px;\n",
       "    }\n",
       "\n",
       "    .colab-df-convert {\n",
       "      background-color: #E8F0FE;\n",
       "      border: none;\n",
       "      border-radius: 50%;\n",
       "      cursor: pointer;\n",
       "      display: none;\n",
       "      fill: #1967D2;\n",
       "      height: 32px;\n",
       "      padding: 0 0 0 0;\n",
       "      width: 32px;\n",
       "    }\n",
       "\n",
       "    .colab-df-convert:hover {\n",
       "      background-color: #E2EBFA;\n",
       "      box-shadow: 0px 1px 2px rgba(60, 64, 67, 0.3), 0px 1px 3px 1px rgba(60, 64, 67, 0.15);\n",
       "      fill: #174EA6;\n",
       "    }\n",
       "\n",
       "    .colab-df-buttons div {\n",
       "      margin-bottom: 4px;\n",
       "    }\n",
       "\n",
       "    [theme=dark] .colab-df-convert {\n",
       "      background-color: #3B4455;\n",
       "      fill: #D2E3FC;\n",
       "    }\n",
       "\n",
       "    [theme=dark] .colab-df-convert:hover {\n",
       "      background-color: #434B5C;\n",
       "      box-shadow: 0px 1px 3px 1px rgba(0, 0, 0, 0.15);\n",
       "      filter: drop-shadow(0px 1px 2px rgba(0, 0, 0, 0.3));\n",
       "      fill: #FFFFFF;\n",
       "    }\n",
       "  </style>\n",
       "\n",
       "    <script>\n",
       "      const buttonEl =\n",
       "        document.querySelector('#df-f5a37afc-85c7-4e41-be97-50f131ba1bb6 button.colab-df-convert');\n",
       "      buttonEl.style.display =\n",
       "        google.colab.kernel.accessAllowed ? 'block' : 'none';\n",
       "\n",
       "      async function convertToInteractive(key) {\n",
       "        const element = document.querySelector('#df-f5a37afc-85c7-4e41-be97-50f131ba1bb6');\n",
       "        const dataTable =\n",
       "          await google.colab.kernel.invokeFunction('convertToInteractive',\n",
       "                                                    [key], {});\n",
       "        if (!dataTable) return;\n",
       "\n",
       "        const docLinkHtml = 'Like what you see? Visit the ' +\n",
       "          '<a target=\"_blank\" href=https://colab.research.google.com/notebooks/data_table.ipynb>data table notebook</a>'\n",
       "          + ' to learn more about interactive tables.';\n",
       "        element.innerHTML = '';\n",
       "        dataTable['output_type'] = 'display_data';\n",
       "        await google.colab.output.renderOutput(dataTable, element);\n",
       "        const docLink = document.createElement('div');\n",
       "        docLink.innerHTML = docLinkHtml;\n",
       "        element.appendChild(docLink);\n",
       "      }\n",
       "    </script>\n",
       "  </div>\n",
       "\n",
       "\n",
       "<div id=\"df-2a59096a-443d-4f40-92f5-97a848ac5ff4\">\n",
       "  <button class=\"colab-df-quickchart\" onclick=\"quickchart('df-2a59096a-443d-4f40-92f5-97a848ac5ff4')\"\n",
       "            title=\"Suggest charts\"\n",
       "            style=\"display:none;\">\n",
       "\n",
       "<svg xmlns=\"http://www.w3.org/2000/svg\" height=\"24px\"viewBox=\"0 0 24 24\"\n",
       "     width=\"24px\">\n",
       "    <g>\n",
       "        <path d=\"M19 3H5c-1.1 0-2 .9-2 2v14c0 1.1.9 2 2 2h14c1.1 0 2-.9 2-2V5c0-1.1-.9-2-2-2zM9 17H7v-7h2v7zm4 0h-2V7h2v10zm4 0h-2v-4h2v4z\"/>\n",
       "    </g>\n",
       "</svg>\n",
       "  </button>\n",
       "\n",
       "<style>\n",
       "  .colab-df-quickchart {\n",
       "      --bg-color: #E8F0FE;\n",
       "      --fill-color: #1967D2;\n",
       "      --hover-bg-color: #E2EBFA;\n",
       "      --hover-fill-color: #174EA6;\n",
       "      --disabled-fill-color: #AAA;\n",
       "      --disabled-bg-color: #DDD;\n",
       "  }\n",
       "\n",
       "  [theme=dark] .colab-df-quickchart {\n",
       "      --bg-color: #3B4455;\n",
       "      --fill-color: #D2E3FC;\n",
       "      --hover-bg-color: #434B5C;\n",
       "      --hover-fill-color: #FFFFFF;\n",
       "      --disabled-bg-color: #3B4455;\n",
       "      --disabled-fill-color: #666;\n",
       "  }\n",
       "\n",
       "  .colab-df-quickchart {\n",
       "    background-color: var(--bg-color);\n",
       "    border: none;\n",
       "    border-radius: 50%;\n",
       "    cursor: pointer;\n",
       "    display: none;\n",
       "    fill: var(--fill-color);\n",
       "    height: 32px;\n",
       "    padding: 0;\n",
       "    width: 32px;\n",
       "  }\n",
       "\n",
       "  .colab-df-quickchart:hover {\n",
       "    background-color: var(--hover-bg-color);\n",
       "    box-shadow: 0 1px 2px rgba(60, 64, 67, 0.3), 0 1px 3px 1px rgba(60, 64, 67, 0.15);\n",
       "    fill: var(--button-hover-fill-color);\n",
       "  }\n",
       "\n",
       "  .colab-df-quickchart-complete:disabled,\n",
       "  .colab-df-quickchart-complete:disabled:hover {\n",
       "    background-color: var(--disabled-bg-color);\n",
       "    fill: var(--disabled-fill-color);\n",
       "    box-shadow: none;\n",
       "  }\n",
       "\n",
       "  .colab-df-spinner {\n",
       "    border: 2px solid var(--fill-color);\n",
       "    border-color: transparent;\n",
       "    border-bottom-color: var(--fill-color);\n",
       "    animation:\n",
       "      spin 1s steps(1) infinite;\n",
       "  }\n",
       "\n",
       "  @keyframes spin {\n",
       "    0% {\n",
       "      border-color: transparent;\n",
       "      border-bottom-color: var(--fill-color);\n",
       "      border-left-color: var(--fill-color);\n",
       "    }\n",
       "    20% {\n",
       "      border-color: transparent;\n",
       "      border-left-color: var(--fill-color);\n",
       "      border-top-color: var(--fill-color);\n",
       "    }\n",
       "    30% {\n",
       "      border-color: transparent;\n",
       "      border-left-color: var(--fill-color);\n",
       "      border-top-color: var(--fill-color);\n",
       "      border-right-color: var(--fill-color);\n",
       "    }\n",
       "    40% {\n",
       "      border-color: transparent;\n",
       "      border-right-color: var(--fill-color);\n",
       "      border-top-color: var(--fill-color);\n",
       "    }\n",
       "    60% {\n",
       "      border-color: transparent;\n",
       "      border-right-color: var(--fill-color);\n",
       "    }\n",
       "    80% {\n",
       "      border-color: transparent;\n",
       "      border-right-color: var(--fill-color);\n",
       "      border-bottom-color: var(--fill-color);\n",
       "    }\n",
       "    90% {\n",
       "      border-color: transparent;\n",
       "      border-bottom-color: var(--fill-color);\n",
       "    }\n",
       "  }\n",
       "</style>\n",
       "\n",
       "  <script>\n",
       "    async function quickchart(key) {\n",
       "      const quickchartButtonEl =\n",
       "        document.querySelector('#' + key + ' button');\n",
       "      quickchartButtonEl.disabled = true;  // To prevent multiple clicks.\n",
       "      quickchartButtonEl.classList.add('colab-df-spinner');\n",
       "      try {\n",
       "        const charts = await google.colab.kernel.invokeFunction(\n",
       "            'suggestCharts', [key], {});\n",
       "      } catch (error) {\n",
       "        console.error('Error during call to suggestCharts:', error);\n",
       "      }\n",
       "      quickchartButtonEl.classList.remove('colab-df-spinner');\n",
       "      quickchartButtonEl.classList.add('colab-df-quickchart-complete');\n",
       "    }\n",
       "    (() => {\n",
       "      let quickchartButtonEl =\n",
       "        document.querySelector('#df-2a59096a-443d-4f40-92f5-97a848ac5ff4 button');\n",
       "      quickchartButtonEl.style.display =\n",
       "        google.colab.kernel.accessAllowed ? 'block' : 'none';\n",
       "    })();\n",
       "  </script>\n",
       "</div>\n",
       "\n",
       "    </div>\n",
       "  </div>\n"
      ],
      "text/plain": [
       "      male  age  education  currentSmoker  cigsPerDay  BPMeds  \\\n",
       "1310     1   50        4.0              1        15.0     0.0   \n",
       "752      1   62        2.0              0         0.0     0.0   \n",
       "1285     0   40        2.0              0         0.0     0.0   \n",
       "3156     1   37        3.0              1         NaN     0.0   \n",
       "3510     1   51        4.0              1         9.0     0.0   \n",
       "3426     0   45        4.0              0         0.0     0.0   \n",
       "2207     0   35        2.0              0         0.0     0.0   \n",
       "932      0   60        2.0              0         0.0     0.0   \n",
       "658      0   36        1.0              0         0.0     0.0   \n",
       "1923     1   37        2.0              1        20.0     0.0   \n",
       "\n",
       "      prevalentStroke  prevalentHyp  diabetes  totChol  sysBP  diaBP    BMI  \\\n",
       "1310                0             0         0    212.0  132.0   87.0  25.90   \n",
       "752                 0             0         0    214.0  110.0   62.5  23.80   \n",
       "1285                0             0         0    233.0  108.5   75.0  28.30   \n",
       "3156                0             0         0    188.0  123.5   77.0  26.62   \n",
       "3510                0             1         0    251.0  160.0   98.0  24.63   \n",
       "3426                0             0         0    333.0  122.0   80.0  24.39   \n",
       "2207                0             0         0    197.0  109.0   73.0  26.38   \n",
       "932                 0             1         0    335.0  199.0   83.0  24.61   \n",
       "658                 0             0         0    200.0  112.0   76.0  26.03   \n",
       "1923                0             0         0    211.0  116.5   77.5  24.50   \n",
       "\n",
       "      heartRate  glucose  TenYearCHD  \n",
       "1310       75.0     83.0           0  \n",
       "752        77.0     95.0           1  \n",
       "1285       60.0     73.0           0  \n",
       "3156       65.0     80.0           0  \n",
       "3510       98.0     85.0           0  \n",
       "3426       75.0     80.0           0  \n",
       "2207       71.0     95.0           0  \n",
       "932        80.0     90.0           0  \n",
       "658        75.0     62.0           0  \n",
       "1923       68.0     78.0           1  "
      ]
     },
     "execution_count": 12,
     "metadata": {},
     "output_type": "execute_result"
    }
   ],
   "source": [
    "#This randomly choses 1o rows\n",
    "df.sample(10)"
   ]
  },
  {
   "cell_type": "code",
   "execution_count": null,
   "metadata": {
    "colab": {
     "base_uri": "https://localhost:8080/"
    },
    "executionInfo": {
     "elapsed": 6,
     "status": "ok",
     "timestamp": 1714817327656,
     "user": {
      "displayName": "Nakato Esther",
      "userId": "16250477698798363218"
     },
     "user_tz": -180
    },
    "id": "D9sok5JdMLCO",
    "outputId": "cd109e17-afd2-4e32-f6d2-5f84b41656b1"
   },
   "outputs": [
    {
     "data": {
      "text/plain": [
       "(4240, 16)"
      ]
     },
     "execution_count": 13,
     "metadata": {},
     "output_type": "execute_result"
    }
   ],
   "source": [
    "df.shape"
   ]
  },
  {
   "cell_type": "code",
   "execution_count": null,
   "metadata": {
    "colab": {
     "base_uri": "https://localhost:8080/"
    },
    "executionInfo": {
     "elapsed": 12,
     "status": "ok",
     "timestamp": 1714817330055,
     "user": {
      "displayName": "Nakato Esther",
      "userId": "16250477698798363218"
     },
     "user_tz": -180
    },
    "id": "NtLHcwty91IE",
    "outputId": "980741e5-6cc4-4f08-be0d-30c85bb41405"
   },
   "outputs": [
    {
     "name": "stdout",
     "output_type": "stream",
     "text": [
      "<class 'pandas.core.frame.DataFrame'>\n",
      "RangeIndex: 4240 entries, 0 to 4239\n",
      "Data columns (total 16 columns):\n",
      " #   Column           Non-Null Count  Dtype  \n",
      "---  ------           --------------  -----  \n",
      " 0   male             4240 non-null   int64  \n",
      " 1   age              4240 non-null   int64  \n",
      " 2   education        4135 non-null   float64\n",
      " 3   currentSmoker    4240 non-null   int64  \n",
      " 4   cigsPerDay       4211 non-null   float64\n",
      " 5   BPMeds           4187 non-null   float64\n",
      " 6   prevalentStroke  4240 non-null   int64  \n",
      " 7   prevalentHyp     4240 non-null   int64  \n",
      " 8   diabetes         4240 non-null   int64  \n",
      " 9   totChol          4190 non-null   float64\n",
      " 10  sysBP            4240 non-null   float64\n",
      " 11  diaBP            4240 non-null   float64\n",
      " 12  BMI              4221 non-null   float64\n",
      " 13  heartRate        4239 non-null   float64\n",
      " 14  glucose          3852 non-null   float64\n",
      " 15  TenYearCHD       4240 non-null   int64  \n",
      "dtypes: float64(9), int64(7)\n",
      "memory usage: 530.1 KB\n"
     ]
    }
   ],
   "source": [
    "df.info()"
   ]
  },
  {
   "cell_type": "code",
   "execution_count": null,
   "metadata": {
    "colab": {
     "base_uri": "https://localhost:8080/",
     "height": 444
    },
    "executionInfo": {
     "elapsed": 421,
     "status": "ok",
     "timestamp": 1714817333180,
     "user": {
      "displayName": "Nakato Esther",
      "userId": "16250477698798363218"
     },
     "user_tz": -180
    },
    "id": "oimr5PU3Oamu",
    "outputId": "e3f95532-8797-45a6-fb19-776c2170ae84"
   },
   "outputs": [
    {
     "data": {
      "application/vnd.google.colaboratory.intrinsic+json": {
       "summary": "{\n  \"name\": \"df\",\n  \"rows\": 4240,\n  \"fields\": [\n    {\n      \"column\": \"male\",\n      \"properties\": {\n        \"dtype\": \"boolean\",\n        \"num_unique_values\": 1,\n        \"samples\": [\n          false\n        ],\n        \"semantic_type\": \"\",\n        \"description\": \"\"\n      }\n    },\n    {\n      \"column\": \"age\",\n      \"properties\": {\n        \"dtype\": \"boolean\",\n        \"num_unique_values\": 1,\n        \"samples\": [\n          false\n        ],\n        \"semantic_type\": \"\",\n        \"description\": \"\"\n      }\n    },\n    {\n      \"column\": \"education\",\n      \"properties\": {\n        \"dtype\": \"boolean\",\n        \"num_unique_values\": 2,\n        \"samples\": [\n          true\n        ],\n        \"semantic_type\": \"\",\n        \"description\": \"\"\n      }\n    },\n    {\n      \"column\": \"currentSmoker\",\n      \"properties\": {\n        \"dtype\": \"boolean\",\n        \"num_unique_values\": 1,\n        \"samples\": [\n          false\n        ],\n        \"semantic_type\": \"\",\n        \"description\": \"\"\n      }\n    },\n    {\n      \"column\": \"cigsPerDay\",\n      \"properties\": {\n        \"dtype\": \"boolean\",\n        \"num_unique_values\": 2,\n        \"samples\": [\n          true\n        ],\n        \"semantic_type\": \"\",\n        \"description\": \"\"\n      }\n    },\n    {\n      \"column\": \"BPMeds\",\n      \"properties\": {\n        \"dtype\": \"boolean\",\n        \"num_unique_values\": 2,\n        \"samples\": [\n          true\n        ],\n        \"semantic_type\": \"\",\n        \"description\": \"\"\n      }\n    },\n    {\n      \"column\": \"prevalentStroke\",\n      \"properties\": {\n        \"dtype\": \"boolean\",\n        \"num_unique_values\": 1,\n        \"samples\": [\n          false\n        ],\n        \"semantic_type\": \"\",\n        \"description\": \"\"\n      }\n    },\n    {\n      \"column\": \"prevalentHyp\",\n      \"properties\": {\n        \"dtype\": \"boolean\",\n        \"num_unique_values\": 1,\n        \"samples\": [\n          false\n        ],\n        \"semantic_type\": \"\",\n        \"description\": \"\"\n      }\n    },\n    {\n      \"column\": \"diabetes\",\n      \"properties\": {\n        \"dtype\": \"boolean\",\n        \"num_unique_values\": 1,\n        \"samples\": [\n          false\n        ],\n        \"semantic_type\": \"\",\n        \"description\": \"\"\n      }\n    },\n    {\n      \"column\": \"totChol\",\n      \"properties\": {\n        \"dtype\": \"boolean\",\n        \"num_unique_values\": 2,\n        \"samples\": [\n          true\n        ],\n        \"semantic_type\": \"\",\n        \"description\": \"\"\n      }\n    },\n    {\n      \"column\": \"sysBP\",\n      \"properties\": {\n        \"dtype\": \"boolean\",\n        \"num_unique_values\": 1,\n        \"samples\": [\n          false\n        ],\n        \"semantic_type\": \"\",\n        \"description\": \"\"\n      }\n    },\n    {\n      \"column\": \"diaBP\",\n      \"properties\": {\n        \"dtype\": \"boolean\",\n        \"num_unique_values\": 1,\n        \"samples\": [\n          false\n        ],\n        \"semantic_type\": \"\",\n        \"description\": \"\"\n      }\n    },\n    {\n      \"column\": \"BMI\",\n      \"properties\": {\n        \"dtype\": \"boolean\",\n        \"num_unique_values\": 2,\n        \"samples\": [\n          true\n        ],\n        \"semantic_type\": \"\",\n        \"description\": \"\"\n      }\n    },\n    {\n      \"column\": \"heartRate\",\n      \"properties\": {\n        \"dtype\": \"boolean\",\n        \"num_unique_values\": 2,\n        \"samples\": [\n          true\n        ],\n        \"semantic_type\": \"\",\n        \"description\": \"\"\n      }\n    },\n    {\n      \"column\": \"glucose\",\n      \"properties\": {\n        \"dtype\": \"boolean\",\n        \"num_unique_values\": 2,\n        \"samples\": [\n          true\n        ],\n        \"semantic_type\": \"\",\n        \"description\": \"\"\n      }\n    },\n    {\n      \"column\": \"TenYearCHD\",\n      \"properties\": {\n        \"dtype\": \"boolean\",\n        \"num_unique_values\": 1,\n        \"samples\": [\n          false\n        ],\n        \"semantic_type\": \"\",\n        \"description\": \"\"\n      }\n    }\n  ]\n}",
       "type": "dataframe"
      },
      "text/html": [
       "\n",
       "  <div id=\"df-8e9275dc-86f6-4917-9f87-17bb533389be\" class=\"colab-df-container\">\n",
       "    <div>\n",
       "<style scoped>\n",
       "    .dataframe tbody tr th:only-of-type {\n",
       "        vertical-align: middle;\n",
       "    }\n",
       "\n",
       "    .dataframe tbody tr th {\n",
       "        vertical-align: top;\n",
       "    }\n",
       "\n",
       "    .dataframe thead th {\n",
       "        text-align: right;\n",
       "    }\n",
       "</style>\n",
       "<table border=\"1\" class=\"dataframe\">\n",
       "  <thead>\n",
       "    <tr style=\"text-align: right;\">\n",
       "      <th></th>\n",
       "      <th>male</th>\n",
       "      <th>age</th>\n",
       "      <th>education</th>\n",
       "      <th>currentSmoker</th>\n",
       "      <th>cigsPerDay</th>\n",
       "      <th>BPMeds</th>\n",
       "      <th>prevalentStroke</th>\n",
       "      <th>prevalentHyp</th>\n",
       "      <th>diabetes</th>\n",
       "      <th>totChol</th>\n",
       "      <th>sysBP</th>\n",
       "      <th>diaBP</th>\n",
       "      <th>BMI</th>\n",
       "      <th>heartRate</th>\n",
       "      <th>glucose</th>\n",
       "      <th>TenYearCHD</th>\n",
       "    </tr>\n",
       "  </thead>\n",
       "  <tbody>\n",
       "    <tr>\n",
       "      <th>0</th>\n",
       "      <td>False</td>\n",
       "      <td>False</td>\n",
       "      <td>False</td>\n",
       "      <td>False</td>\n",
       "      <td>False</td>\n",
       "      <td>False</td>\n",
       "      <td>False</td>\n",
       "      <td>False</td>\n",
       "      <td>False</td>\n",
       "      <td>False</td>\n",
       "      <td>False</td>\n",
       "      <td>False</td>\n",
       "      <td>False</td>\n",
       "      <td>False</td>\n",
       "      <td>False</td>\n",
       "      <td>False</td>\n",
       "    </tr>\n",
       "    <tr>\n",
       "      <th>1</th>\n",
       "      <td>False</td>\n",
       "      <td>False</td>\n",
       "      <td>False</td>\n",
       "      <td>False</td>\n",
       "      <td>False</td>\n",
       "      <td>False</td>\n",
       "      <td>False</td>\n",
       "      <td>False</td>\n",
       "      <td>False</td>\n",
       "      <td>False</td>\n",
       "      <td>False</td>\n",
       "      <td>False</td>\n",
       "      <td>False</td>\n",
       "      <td>False</td>\n",
       "      <td>False</td>\n",
       "      <td>False</td>\n",
       "    </tr>\n",
       "    <tr>\n",
       "      <th>2</th>\n",
       "      <td>False</td>\n",
       "      <td>False</td>\n",
       "      <td>False</td>\n",
       "      <td>False</td>\n",
       "      <td>False</td>\n",
       "      <td>False</td>\n",
       "      <td>False</td>\n",
       "      <td>False</td>\n",
       "      <td>False</td>\n",
       "      <td>False</td>\n",
       "      <td>False</td>\n",
       "      <td>False</td>\n",
       "      <td>False</td>\n",
       "      <td>False</td>\n",
       "      <td>False</td>\n",
       "      <td>False</td>\n",
       "    </tr>\n",
       "    <tr>\n",
       "      <th>3</th>\n",
       "      <td>False</td>\n",
       "      <td>False</td>\n",
       "      <td>False</td>\n",
       "      <td>False</td>\n",
       "      <td>False</td>\n",
       "      <td>False</td>\n",
       "      <td>False</td>\n",
       "      <td>False</td>\n",
       "      <td>False</td>\n",
       "      <td>False</td>\n",
       "      <td>False</td>\n",
       "      <td>False</td>\n",
       "      <td>False</td>\n",
       "      <td>False</td>\n",
       "      <td>False</td>\n",
       "      <td>False</td>\n",
       "    </tr>\n",
       "    <tr>\n",
       "      <th>4</th>\n",
       "      <td>False</td>\n",
       "      <td>False</td>\n",
       "      <td>False</td>\n",
       "      <td>False</td>\n",
       "      <td>False</td>\n",
       "      <td>False</td>\n",
       "      <td>False</td>\n",
       "      <td>False</td>\n",
       "      <td>False</td>\n",
       "      <td>False</td>\n",
       "      <td>False</td>\n",
       "      <td>False</td>\n",
       "      <td>False</td>\n",
       "      <td>False</td>\n",
       "      <td>False</td>\n",
       "      <td>False</td>\n",
       "    </tr>\n",
       "    <tr>\n",
       "      <th>...</th>\n",
       "      <td>...</td>\n",
       "      <td>...</td>\n",
       "      <td>...</td>\n",
       "      <td>...</td>\n",
       "      <td>...</td>\n",
       "      <td>...</td>\n",
       "      <td>...</td>\n",
       "      <td>...</td>\n",
       "      <td>...</td>\n",
       "      <td>...</td>\n",
       "      <td>...</td>\n",
       "      <td>...</td>\n",
       "      <td>...</td>\n",
       "      <td>...</td>\n",
       "      <td>...</td>\n",
       "      <td>...</td>\n",
       "    </tr>\n",
       "    <tr>\n",
       "      <th>4235</th>\n",
       "      <td>False</td>\n",
       "      <td>False</td>\n",
       "      <td>False</td>\n",
       "      <td>False</td>\n",
       "      <td>False</td>\n",
       "      <td>True</td>\n",
       "      <td>False</td>\n",
       "      <td>False</td>\n",
       "      <td>False</td>\n",
       "      <td>False</td>\n",
       "      <td>False</td>\n",
       "      <td>False</td>\n",
       "      <td>False</td>\n",
       "      <td>False</td>\n",
       "      <td>False</td>\n",
       "      <td>False</td>\n",
       "    </tr>\n",
       "    <tr>\n",
       "      <th>4236</th>\n",
       "      <td>False</td>\n",
       "      <td>False</td>\n",
       "      <td>False</td>\n",
       "      <td>False</td>\n",
       "      <td>False</td>\n",
       "      <td>False</td>\n",
       "      <td>False</td>\n",
       "      <td>False</td>\n",
       "      <td>False</td>\n",
       "      <td>False</td>\n",
       "      <td>False</td>\n",
       "      <td>False</td>\n",
       "      <td>False</td>\n",
       "      <td>False</td>\n",
       "      <td>True</td>\n",
       "      <td>False</td>\n",
       "    </tr>\n",
       "    <tr>\n",
       "      <th>4237</th>\n",
       "      <td>False</td>\n",
       "      <td>False</td>\n",
       "      <td>False</td>\n",
       "      <td>False</td>\n",
       "      <td>False</td>\n",
       "      <td>False</td>\n",
       "      <td>False</td>\n",
       "      <td>False</td>\n",
       "      <td>False</td>\n",
       "      <td>False</td>\n",
       "      <td>False</td>\n",
       "      <td>False</td>\n",
       "      <td>False</td>\n",
       "      <td>False</td>\n",
       "      <td>False</td>\n",
       "      <td>False</td>\n",
       "    </tr>\n",
       "    <tr>\n",
       "      <th>4238</th>\n",
       "      <td>False</td>\n",
       "      <td>False</td>\n",
       "      <td>False</td>\n",
       "      <td>False</td>\n",
       "      <td>False</td>\n",
       "      <td>False</td>\n",
       "      <td>False</td>\n",
       "      <td>False</td>\n",
       "      <td>False</td>\n",
       "      <td>False</td>\n",
       "      <td>False</td>\n",
       "      <td>False</td>\n",
       "      <td>False</td>\n",
       "      <td>False</td>\n",
       "      <td>False</td>\n",
       "      <td>False</td>\n",
       "    </tr>\n",
       "    <tr>\n",
       "      <th>4239</th>\n",
       "      <td>False</td>\n",
       "      <td>False</td>\n",
       "      <td>False</td>\n",
       "      <td>False</td>\n",
       "      <td>False</td>\n",
       "      <td>False</td>\n",
       "      <td>False</td>\n",
       "      <td>False</td>\n",
       "      <td>False</td>\n",
       "      <td>False</td>\n",
       "      <td>False</td>\n",
       "      <td>False</td>\n",
       "      <td>False</td>\n",
       "      <td>False</td>\n",
       "      <td>False</td>\n",
       "      <td>False</td>\n",
       "    </tr>\n",
       "  </tbody>\n",
       "</table>\n",
       "<p>4240 rows × 16 columns</p>\n",
       "</div>\n",
       "    <div class=\"colab-df-buttons\">\n",
       "\n",
       "  <div class=\"colab-df-container\">\n",
       "    <button class=\"colab-df-convert\" onclick=\"convertToInteractive('df-8e9275dc-86f6-4917-9f87-17bb533389be')\"\n",
       "            title=\"Convert this dataframe to an interactive table.\"\n",
       "            style=\"display:none;\">\n",
       "\n",
       "  <svg xmlns=\"http://www.w3.org/2000/svg\" height=\"24px\" viewBox=\"0 -960 960 960\">\n",
       "    <path d=\"M120-120v-720h720v720H120Zm60-500h600v-160H180v160Zm220 220h160v-160H400v160Zm0 220h160v-160H400v160ZM180-400h160v-160H180v160Zm440 0h160v-160H620v160ZM180-180h160v-160H180v160Zm440 0h160v-160H620v160Z\"/>\n",
       "  </svg>\n",
       "    </button>\n",
       "\n",
       "  <style>\n",
       "    .colab-df-container {\n",
       "      display:flex;\n",
       "      gap: 12px;\n",
       "    }\n",
       "\n",
       "    .colab-df-convert {\n",
       "      background-color: #E8F0FE;\n",
       "      border: none;\n",
       "      border-radius: 50%;\n",
       "      cursor: pointer;\n",
       "      display: none;\n",
       "      fill: #1967D2;\n",
       "      height: 32px;\n",
       "      padding: 0 0 0 0;\n",
       "      width: 32px;\n",
       "    }\n",
       "\n",
       "    .colab-df-convert:hover {\n",
       "      background-color: #E2EBFA;\n",
       "      box-shadow: 0px 1px 2px rgba(60, 64, 67, 0.3), 0px 1px 3px 1px rgba(60, 64, 67, 0.15);\n",
       "      fill: #174EA6;\n",
       "    }\n",
       "\n",
       "    .colab-df-buttons div {\n",
       "      margin-bottom: 4px;\n",
       "    }\n",
       "\n",
       "    [theme=dark] .colab-df-convert {\n",
       "      background-color: #3B4455;\n",
       "      fill: #D2E3FC;\n",
       "    }\n",
       "\n",
       "    [theme=dark] .colab-df-convert:hover {\n",
       "      background-color: #434B5C;\n",
       "      box-shadow: 0px 1px 3px 1px rgba(0, 0, 0, 0.15);\n",
       "      filter: drop-shadow(0px 1px 2px rgba(0, 0, 0, 0.3));\n",
       "      fill: #FFFFFF;\n",
       "    }\n",
       "  </style>\n",
       "\n",
       "    <script>\n",
       "      const buttonEl =\n",
       "        document.querySelector('#df-8e9275dc-86f6-4917-9f87-17bb533389be button.colab-df-convert');\n",
       "      buttonEl.style.display =\n",
       "        google.colab.kernel.accessAllowed ? 'block' : 'none';\n",
       "\n",
       "      async function convertToInteractive(key) {\n",
       "        const element = document.querySelector('#df-8e9275dc-86f6-4917-9f87-17bb533389be');\n",
       "        const dataTable =\n",
       "          await google.colab.kernel.invokeFunction('convertToInteractive',\n",
       "                                                    [key], {});\n",
       "        if (!dataTable) return;\n",
       "\n",
       "        const docLinkHtml = 'Like what you see? Visit the ' +\n",
       "          '<a target=\"_blank\" href=https://colab.research.google.com/notebooks/data_table.ipynb>data table notebook</a>'\n",
       "          + ' to learn more about interactive tables.';\n",
       "        element.innerHTML = '';\n",
       "        dataTable['output_type'] = 'display_data';\n",
       "        await google.colab.output.renderOutput(dataTable, element);\n",
       "        const docLink = document.createElement('div');\n",
       "        docLink.innerHTML = docLinkHtml;\n",
       "        element.appendChild(docLink);\n",
       "      }\n",
       "    </script>\n",
       "  </div>\n",
       "\n",
       "\n",
       "<div id=\"df-7b62d2b9-dd06-4917-b9c3-0ce35e87051d\">\n",
       "  <button class=\"colab-df-quickchart\" onclick=\"quickchart('df-7b62d2b9-dd06-4917-b9c3-0ce35e87051d')\"\n",
       "            title=\"Suggest charts\"\n",
       "            style=\"display:none;\">\n",
       "\n",
       "<svg xmlns=\"http://www.w3.org/2000/svg\" height=\"24px\"viewBox=\"0 0 24 24\"\n",
       "     width=\"24px\">\n",
       "    <g>\n",
       "        <path d=\"M19 3H5c-1.1 0-2 .9-2 2v14c0 1.1.9 2 2 2h14c1.1 0 2-.9 2-2V5c0-1.1-.9-2-2-2zM9 17H7v-7h2v7zm4 0h-2V7h2v10zm4 0h-2v-4h2v4z\"/>\n",
       "    </g>\n",
       "</svg>\n",
       "  </button>\n",
       "\n",
       "<style>\n",
       "  .colab-df-quickchart {\n",
       "      --bg-color: #E8F0FE;\n",
       "      --fill-color: #1967D2;\n",
       "      --hover-bg-color: #E2EBFA;\n",
       "      --hover-fill-color: #174EA6;\n",
       "      --disabled-fill-color: #AAA;\n",
       "      --disabled-bg-color: #DDD;\n",
       "  }\n",
       "\n",
       "  [theme=dark] .colab-df-quickchart {\n",
       "      --bg-color: #3B4455;\n",
       "      --fill-color: #D2E3FC;\n",
       "      --hover-bg-color: #434B5C;\n",
       "      --hover-fill-color: #FFFFFF;\n",
       "      --disabled-bg-color: #3B4455;\n",
       "      --disabled-fill-color: #666;\n",
       "  }\n",
       "\n",
       "  .colab-df-quickchart {\n",
       "    background-color: var(--bg-color);\n",
       "    border: none;\n",
       "    border-radius: 50%;\n",
       "    cursor: pointer;\n",
       "    display: none;\n",
       "    fill: var(--fill-color);\n",
       "    height: 32px;\n",
       "    padding: 0;\n",
       "    width: 32px;\n",
       "  }\n",
       "\n",
       "  .colab-df-quickchart:hover {\n",
       "    background-color: var(--hover-bg-color);\n",
       "    box-shadow: 0 1px 2px rgba(60, 64, 67, 0.3), 0 1px 3px 1px rgba(60, 64, 67, 0.15);\n",
       "    fill: var(--button-hover-fill-color);\n",
       "  }\n",
       "\n",
       "  .colab-df-quickchart-complete:disabled,\n",
       "  .colab-df-quickchart-complete:disabled:hover {\n",
       "    background-color: var(--disabled-bg-color);\n",
       "    fill: var(--disabled-fill-color);\n",
       "    box-shadow: none;\n",
       "  }\n",
       "\n",
       "  .colab-df-spinner {\n",
       "    border: 2px solid var(--fill-color);\n",
       "    border-color: transparent;\n",
       "    border-bottom-color: var(--fill-color);\n",
       "    animation:\n",
       "      spin 1s steps(1) infinite;\n",
       "  }\n",
       "\n",
       "  @keyframes spin {\n",
       "    0% {\n",
       "      border-color: transparent;\n",
       "      border-bottom-color: var(--fill-color);\n",
       "      border-left-color: var(--fill-color);\n",
       "    }\n",
       "    20% {\n",
       "      border-color: transparent;\n",
       "      border-left-color: var(--fill-color);\n",
       "      border-top-color: var(--fill-color);\n",
       "    }\n",
       "    30% {\n",
       "      border-color: transparent;\n",
       "      border-left-color: var(--fill-color);\n",
       "      border-top-color: var(--fill-color);\n",
       "      border-right-color: var(--fill-color);\n",
       "    }\n",
       "    40% {\n",
       "      border-color: transparent;\n",
       "      border-right-color: var(--fill-color);\n",
       "      border-top-color: var(--fill-color);\n",
       "    }\n",
       "    60% {\n",
       "      border-color: transparent;\n",
       "      border-right-color: var(--fill-color);\n",
       "    }\n",
       "    80% {\n",
       "      border-color: transparent;\n",
       "      border-right-color: var(--fill-color);\n",
       "      border-bottom-color: var(--fill-color);\n",
       "    }\n",
       "    90% {\n",
       "      border-color: transparent;\n",
       "      border-bottom-color: var(--fill-color);\n",
       "    }\n",
       "  }\n",
       "</style>\n",
       "\n",
       "  <script>\n",
       "    async function quickchart(key) {\n",
       "      const quickchartButtonEl =\n",
       "        document.querySelector('#' + key + ' button');\n",
       "      quickchartButtonEl.disabled = true;  // To prevent multiple clicks.\n",
       "      quickchartButtonEl.classList.add('colab-df-spinner');\n",
       "      try {\n",
       "        const charts = await google.colab.kernel.invokeFunction(\n",
       "            'suggestCharts', [key], {});\n",
       "      } catch (error) {\n",
       "        console.error('Error during call to suggestCharts:', error);\n",
       "      }\n",
       "      quickchartButtonEl.classList.remove('colab-df-spinner');\n",
       "      quickchartButtonEl.classList.add('colab-df-quickchart-complete');\n",
       "    }\n",
       "    (() => {\n",
       "      let quickchartButtonEl =\n",
       "        document.querySelector('#df-7b62d2b9-dd06-4917-b9c3-0ce35e87051d button');\n",
       "      quickchartButtonEl.style.display =\n",
       "        google.colab.kernel.accessAllowed ? 'block' : 'none';\n",
       "    })();\n",
       "  </script>\n",
       "</div>\n",
       "\n",
       "    </div>\n",
       "  </div>\n"
      ],
      "text/plain": [
       "       male    age  education  currentSmoker  cigsPerDay  BPMeds  \\\n",
       "0     False  False      False          False       False   False   \n",
       "1     False  False      False          False       False   False   \n",
       "2     False  False      False          False       False   False   \n",
       "3     False  False      False          False       False   False   \n",
       "4     False  False      False          False       False   False   \n",
       "...     ...    ...        ...            ...         ...     ...   \n",
       "4235  False  False      False          False       False    True   \n",
       "4236  False  False      False          False       False   False   \n",
       "4237  False  False      False          False       False   False   \n",
       "4238  False  False      False          False       False   False   \n",
       "4239  False  False      False          False       False   False   \n",
       "\n",
       "      prevalentStroke  prevalentHyp  diabetes  totChol  sysBP  diaBP    BMI  \\\n",
       "0               False         False     False    False  False  False  False   \n",
       "1               False         False     False    False  False  False  False   \n",
       "2               False         False     False    False  False  False  False   \n",
       "3               False         False     False    False  False  False  False   \n",
       "4               False         False     False    False  False  False  False   \n",
       "...               ...           ...       ...      ...    ...    ...    ...   \n",
       "4235            False         False     False    False  False  False  False   \n",
       "4236            False         False     False    False  False  False  False   \n",
       "4237            False         False     False    False  False  False  False   \n",
       "4238            False         False     False    False  False  False  False   \n",
       "4239            False         False     False    False  False  False  False   \n",
       "\n",
       "      heartRate  glucose  TenYearCHD  \n",
       "0         False    False       False  \n",
       "1         False    False       False  \n",
       "2         False    False       False  \n",
       "3         False    False       False  \n",
       "4         False    False       False  \n",
       "...         ...      ...         ...  \n",
       "4235      False    False       False  \n",
       "4236      False     True       False  \n",
       "4237      False    False       False  \n",
       "4238      False    False       False  \n",
       "4239      False    False       False  \n",
       "\n",
       "[4240 rows x 16 columns]"
      ]
     },
     "execution_count": 15,
     "metadata": {},
     "output_type": "execute_result"
    }
   ],
   "source": [
    "df.isnull()"
   ]
  },
  {
   "cell_type": "code",
   "execution_count": null,
   "metadata": {
    "colab": {
     "base_uri": "https://localhost:8080/"
    },
    "executionInfo": {
     "elapsed": 4,
     "status": "ok",
     "timestamp": 1714817335937,
     "user": {
      "displayName": "Nakato Esther",
      "userId": "16250477698798363218"
     },
     "user_tz": -180
    },
    "id": "DoqT0aoKOxFJ",
    "outputId": "bf967052-529d-4a25-818d-43fbbd3c0a96"
   },
   "outputs": [
    {
     "data": {
      "text/plain": [
       "male                 0\n",
       "age                  0\n",
       "education          105\n",
       "currentSmoker        0\n",
       "cigsPerDay          29\n",
       "BPMeds              53\n",
       "prevalentStroke      0\n",
       "prevalentHyp         0\n",
       "diabetes             0\n",
       "totChol             50\n",
       "sysBP                0\n",
       "diaBP                0\n",
       "BMI                 19\n",
       "heartRate            1\n",
       "glucose            388\n",
       "TenYearCHD           0\n",
       "dtype: int64"
      ]
     },
     "execution_count": 16,
     "metadata": {},
     "output_type": "execute_result"
    }
   ],
   "source": [
    "df.isnull().sum()"
   ]
  },
  {
   "cell_type": "code",
   "execution_count": null,
   "metadata": {
    "colab": {
     "base_uri": "https://localhost:8080/"
    },
    "executionInfo": {
     "elapsed": 6,
     "status": "ok",
     "timestamp": 1714817338743,
     "user": {
      "displayName": "Nakato Esther",
      "userId": "16250477698798363218"
     },
     "user_tz": -180
    },
    "id": "JN1v4NLDPbXm",
    "outputId": "05b25232-ff97-40f5-d164-bac9d3174a03"
   },
   "outputs": [
    {
     "data": {
      "text/plain": [
       "male               0.000000\n",
       "age                0.000000\n",
       "education          2.476415\n",
       "currentSmoker      0.000000\n",
       "cigsPerDay         0.683962\n",
       "BPMeds             1.250000\n",
       "prevalentStroke    0.000000\n",
       "prevalentHyp       0.000000\n",
       "diabetes           0.000000\n",
       "totChol            1.179245\n",
       "sysBP              0.000000\n",
       "diaBP              0.000000\n",
       "BMI                0.448113\n",
       "heartRate          0.023585\n",
       "glucose            9.150943\n",
       "TenYearCHD         0.000000\n",
       "dtype: float64"
      ]
     },
     "execution_count": 17,
     "metadata": {},
     "output_type": "execute_result"
    }
   ],
   "source": [
    "df.isnull().sum()/len(df)*100"
   ]
  },
  {
   "cell_type": "code",
   "execution_count": null,
   "metadata": {
    "colab": {
     "base_uri": "https://localhost:8080/"
    },
    "executionInfo": {
     "elapsed": 7,
     "status": "ok",
     "timestamp": 1714817341613,
     "user": {
      "displayName": "Nakato Esther",
      "userId": "16250477698798363218"
     },
     "user_tz": -180
    },
    "id": "OGkcbIt3mJxm",
    "outputId": "fc301c81-fba2-4070-e27d-43e027dacbf4"
   },
   "outputs": [
    {
     "name": "stdout",
     "output_type": "stream",
     "text": [
      "(3658, 16)\n"
     ]
    }
   ],
   "source": [
    "df.dropna(axis = 0, inplace = True)\n",
    "print(df.shape)"
   ]
  },
  {
   "cell_type": "code",
   "execution_count": null,
   "metadata": {
    "colab": {
     "base_uri": "https://localhost:8080/"
    },
    "executionInfo": {
     "elapsed": 718,
     "status": "ok",
     "timestamp": 1714817346380,
     "user": {
      "displayName": "Nakato Esther",
      "userId": "16250477698798363218"
     },
     "user_tz": -180
    },
    "id": "n_IhdeZKEV6V",
    "outputId": "d28076cb-51bd-4244-e74f-7c51a069b7e8"
   },
   "outputs": [
    {
     "name": "stdout",
     "output_type": "stream",
     "text": [
      "male:\t\t\tage\n",
      "age:\t\t\t1: male, 0: female\n",
      "education:\t\t\tchest pain type, 1: typical angina, 2: atypical angina, 3: non-anginal pain, 4: asymptomatic\n",
      "currentSmoker:\t\t\tresting blood pressure\n",
      "cigsPerDay:\t\t\t serum cholestoral in mg/dl\n",
      "BPMeds:\t\t\tfasting blood sugar > 120 mg/dl\n",
      "prevalentStroke:\t\t\tresting electrocardiographic results (values 0,1,2)\n",
      "prevalentHyp:\t\t\t maximum heart rate achieved\n",
      "diabetes:\t\t\texercise induced angina\n",
      "totChol:\t\t\toldpeak = ST depression induced by exercise relative to rest\n",
      "sysBP:\t\t\tthe slope of the peak exercise ST segment\n",
      "diaBP:\t\t\tnumber of major vessels (0-3) colored by flourosopy\n",
      "BMI:\t\t\tthal: 3 = normal; 6 = fixed defect; 7 = reversable defect\n"
     ]
    }
   ],
   "source": [
    "info = [\"age\",\"1: male, 0: female\",\"chest pain type, 1: typical angina, 2: atypical angina, 3: non-anginal pain, 4: asymptomatic\",\"resting blood pressure\",\" serum cholestoral in mg/dl\",\"fasting blood sugar > 120 mg/dl\",\"resting electrocardiographic results (values 0,1,2)\",\" maximum heart rate achieved\",\"exercise induced angina\",\"oldpeak = ST depression induced by exercise relative to rest\",\"the slope of the peak exercise ST segment\",\"number of major vessels (0-3) colored by flourosopy\",\"thal: 3 = normal; 6 = fixed defect; 7 = reversable defect\"]\n",
    "\n",
    "\n",
    "for i in range(len(info)):\n",
    "    print(df.columns[i]+\":\\t\\t\\t\"+info[i])"
   ]
  },
  {
   "cell_type": "code",
   "execution_count": null,
   "metadata": {
    "colab": {
     "base_uri": "https://localhost:8080/"
    },
    "executionInfo": {
     "elapsed": 402,
     "status": "ok",
     "timestamp": 1714817366142,
     "user": {
      "displayName": "Nakato Esther",
      "userId": "16250477698798363218"
     },
     "user_tz": -180
    },
    "id": "KLUWTTptAyv3",
    "outputId": "34226f7f-3d97-49eb-b2ca-8356ea0a432f"
   },
   "outputs": [
    {
     "data": {
      "text/plain": [
       "count    3658.000000\n",
       "mean        0.152269\n",
       "std         0.359331\n",
       "min         0.000000\n",
       "25%         0.000000\n",
       "50%         0.000000\n",
       "75%         0.000000\n",
       "max         1.000000\n",
       "Name: TenYearCHD, dtype: float64"
      ]
     },
     "execution_count": 20,
     "metadata": {},
     "output_type": "execute_result"
    }
   ],
   "source": [
    "#Generating descriptive statistics\n",
    "df[\"TenYearCHD\"].describe()"
   ]
  },
  {
   "cell_type": "code",
   "execution_count": null,
   "metadata": {
    "colab": {
     "base_uri": "https://localhost:8080/"
    },
    "executionInfo": {
     "elapsed": 4,
     "status": "ok",
     "timestamp": 1714817368637,
     "user": {
      "displayName": "Nakato Esther",
      "userId": "16250477698798363218"
     },
     "user_tz": -180
    },
    "id": "bdCtXVz_BEG-",
    "outputId": "91bbf7d9-78ab-40ec-a15b-f40327e3245f"
   },
   "outputs": [
    {
     "data": {
      "text/plain": [
       "array([0, 1])"
      ]
     },
     "execution_count": 21,
     "metadata": {},
     "output_type": "execute_result"
    }
   ],
   "source": [
    "df[\"TenYearCHD\"].unique()"
   ]
  },
  {
   "cell_type": "code",
   "execution_count": null,
   "metadata": {
    "colab": {
     "base_uri": "https://localhost:8080/"
    },
    "executionInfo": {
     "elapsed": 7,
     "status": "ok",
     "timestamp": 1714817370650,
     "user": {
      "displayName": "Nakato Esther",
      "userId": "16250477698798363218"
     },
     "user_tz": -180
    },
    "id": "b1T0FQ23XcxM",
    "outputId": "ae7debf4-dbe7-44ed-e970-71277685d828"
   },
   "outputs": [
    {
     "name": "stdout",
     "output_type": "stream",
     "text": [
      "TenYearCHD         1.000000\n",
      "age                0.233983\n",
      "sysBP              0.222821\n",
      "prevalentHyp       0.181387\n",
      "diaBP              0.150124\n",
      "glucose            0.121990\n",
      "diabetes           0.093431\n",
      "male               0.091688\n",
      "totChol            0.091338\n",
      "BPMeds             0.089152\n",
      "BMI                0.082055\n",
      "education          0.063279\n",
      "cigsPerDay         0.052014\n",
      "prevalentStroke    0.048366\n",
      "heartRate          0.020514\n",
      "currentSmoker      0.019165\n",
      "Name: TenYearCHD, dtype: float64\n"
     ]
    }
   ],
   "source": [
    "print(df.corr()[\"TenYearCHD\"].abs().sort_values(ascending=False))"
   ]
  },
  {
   "cell_type": "code",
   "execution_count": null,
   "metadata": {
    "colab": {
     "base_uri": "https://localhost:8080/",
     "height": 482
    },
    "executionInfo": {
     "elapsed": 35254,
     "status": "ok",
     "timestamp": 1714817407640,
     "user": {
      "displayName": "Nakato Esther",
      "userId": "16250477698798363218"
     },
     "user_tz": -180
    },
    "id": "oNGYElR_BQVI",
    "outputId": "f44fd95a-da0d-4c47-e359-d2ab0a022ccb"
   },
   "outputs": [
    {
     "name": "stdout",
     "output_type": "stream",
     "text": [
      "0    3101\n",
      "1     557\n",
      "Name: TenYearCHD, dtype: int64\n"
     ]
    },
    {
     "data": {
      "image/png": "[encoded data removed]",
      "text/plain": [
       "<Figure size 640x480 with 1 Axes>"
      ]
     },
     "metadata": {},
     "output_type": "display_data"
    }
   ],
   "source": [
    "y = df[\"TenYearCHD\"]\n",
    "\n",
    "sns.countplot(y)\n",
    "\n",
    "\n",
    "TenYearCHD_temp = df.TenYearCHD.value_counts()\n",
    "\n",
    "print(TenYearCHD_temp)"
   ]
  },
  {
   "cell_type": "code",
   "execution_count": null,
   "metadata": {
    "colab": {
     "base_uri": "https://localhost:8080/",
     "height": 618
    },
    "executionInfo": {
     "elapsed": 3542,
     "status": "ok",
     "timestamp": 1714817415379,
     "user": {
      "displayName": "Nakato Esther",
      "userId": "16250477698798363218"
     },
     "user_tz": -180
    },
    "id": "ZlhDSJp6mfcR",
    "outputId": "c9e29752-4d61-47e5-e538-bf1948c50167"
   },
   "outputs": [
    {
     "data": {
      "image/png": "[encoded data removed]",
      "text/plain": [
       "<Figure size 1400x1000 with 2 Axes>"
      ]
     },
     "metadata": {},
     "output_type": "display_data"
    }
   ],
   "source": [
    "#Data Visualization, Correlation Matyrix\n",
    "plt.figure(figsize = (14, 10))\n",
    "sns.heatmap(df.corr(), cmap='Purples',annot=True, linecolor='Green', linewidths=1.0)\n",
    "plt.show()"
   ]
  },
  {
   "cell_type": "code",
   "execution_count": null,
   "metadata": {
    "colab": {
     "base_uri": "https://localhost:8080/"
    },
    "executionInfo": {
     "elapsed": 409,
     "status": "ok",
     "timestamp": 1714817419805,
     "user": {
      "displayName": "Nakato Esther",
      "userId": "16250477698798363218"
     },
     "user_tz": -180
    },
    "id": "1ysTqehgabMn",
    "outputId": "0537860b-4f1f-4776-967b-bfa6a14746a7"
   },
   "outputs": [
    {
     "data": {
      "text/plain": [
       "array([4., 2., 1., 3.])"
      ]
     },
     "execution_count": 25,
     "metadata": {},
     "output_type": "execute_result"
    }
   ],
   "source": [
    "df[\"education\"].unique()"
   ]
  },
  {
   "cell_type": "code",
   "execution_count": null,
   "metadata": {
    "colab": {
     "base_uri": "https://localhost:8080/",
     "height": 466
    },
    "executionInfo": {
     "elapsed": 1033,
     "status": "ok",
     "timestamp": 1714817432304,
     "user": {
      "displayName": "Nakato Esther",
      "userId": "16250477698798363218"
     },
     "user_tz": -180
    },
    "id": "tso9C__AByAG",
    "outputId": "0331a3d2-d07e-4070-f22c-44c58a17ab1f"
   },
   "outputs": [
    {
     "data": {
      "text/plain": [
       "<Axes: xlabel='education', ylabel='TenYearCHD'>"
      ]
     },
     "execution_count": 27,
     "metadata": {},
     "output_type": "execute_result"
    },
    {
     "data": {
      "image/png": "[encoded data removed]",
      "text/plain": [
       "<Figure size 640x480 with 1 Axes>"
      ]
     },
     "metadata": {},
     "output_type": "display_data"
    }
   ],
   "source": [
    "#sns.barplot(df[\"education\"],y)\n",
    "sns.barplot(x=\"education\", y=y, data=df)"
   ]
  },
  {
   "cell_type": "code",
   "execution_count": null,
   "metadata": {
    "colab": {
     "base_uri": "https://localhost:8080/"
    },
    "executionInfo": {
     "elapsed": 673,
     "status": "ok",
     "timestamp": 1714817436605,
     "user": {
      "displayName": "Nakato Esther",
      "userId": "16250477698798363218"
     },
     "user_tz": -180
    },
    "id": "jmc1xjP7B5Cm",
    "outputId": "9ae40326-fd0f-4c5f-94f4-8bb2e5fa5444"
   },
   "outputs": [
    {
     "data": {
      "text/plain": [
       "count    3658.000000\n",
       "mean        0.030344\n",
       "std         0.171557\n",
       "min         0.000000\n",
       "25%         0.000000\n",
       "50%         0.000000\n",
       "75%         0.000000\n",
       "max         1.000000\n",
       "Name: BPMeds, dtype: float64"
      ]
     },
     "execution_count": 28,
     "metadata": {},
     "output_type": "execute_result"
    }
   ],
   "source": [
    "df[\"BPMeds\"].describe()"
   ]
  },
  {
   "cell_type": "code",
   "execution_count": null,
   "metadata": {
    "colab": {
     "base_uri": "https://localhost:8080/"
    },
    "executionInfo": {
     "elapsed": 405,
     "status": "ok",
     "timestamp": 1714817440288,
     "user": {
      "displayName": "Nakato Esther",
      "userId": "16250477698798363218"
     },
     "user_tz": -180
    },
    "id": "7W2oxGACa1pt",
    "outputId": "d1dfa95e-dbe6-4755-c443-7cd5bac83949"
   },
   "outputs": [
    {
     "data": {
      "text/plain": [
       "array([0., 1.])"
      ]
     },
     "execution_count": 29,
     "metadata": {},
     "output_type": "execute_result"
    }
   ],
   "source": [
    "df[\"BPMeds\"].unique()"
   ]
  },
  {
   "cell_type": "code",
   "execution_count": null,
   "metadata": {
    "colab": {
     "base_uri": "https://localhost:8080/",
     "height": 466
    },
    "executionInfo": {
     "elapsed": 853,
     "status": "ok",
     "timestamp": 1714817461217,
     "user": {
      "displayName": "Nakato Esther",
      "userId": "16250477698798363218"
     },
     "user_tz": -180
    },
    "id": "JzwW0R2Wb2Of",
    "outputId": "6c9f60ac-42b7-419e-ee1e-4291cca8fa3a"
   },
   "outputs": [
    {
     "data": {
      "text/plain": [
       "<Axes: xlabel='BPMeds', ylabel='TenYearCHD'>"
      ]
     },
     "execution_count": 31,
     "metadata": {},
     "output_type": "execute_result"
    },
    {
     "data": {
      "image/png": "[encoded data removed]",
      "text/plain": [
       "<Figure size 640x480 with 1 Axes>"
      ]
     },
     "metadata": {},
     "output_type": "display_data"
    }
   ],
   "source": [
    "sns.barplot(x=df[\"BPMeds\"], y=y)"
   ]
  },
  {
   "cell_type": "code",
   "execution_count": null,
   "metadata": {
    "colab": {
     "base_uri": "https://localhost:8080/"
    },
    "executionInfo": {
     "elapsed": 604,
     "status": "ok",
     "timestamp": 1714817465999,
     "user": {
      "displayName": "Nakato Esther",
      "userId": "16250477698798363218"
     },
     "user_tz": -180
    },
    "id": "tdxeGJOsCQTw",
    "outputId": "00698ebb-64af-422b-de5d-31949809e0f2"
   },
   "outputs": [
    {
     "data": {
      "text/plain": [
       "array([0, 1])"
      ]
     },
     "execution_count": 32,
     "metadata": {},
     "output_type": "execute_result"
    }
   ],
   "source": [
    "df[\"prevalentStroke\"].unique()"
   ]
  },
  {
   "cell_type": "code",
   "execution_count": null,
   "metadata": {
    "colab": {
     "base_uri": "https://localhost:8080/",
     "height": 472
    },
    "executionInfo": {
     "elapsed": 8,
     "status": "ok",
     "timestamp": 1714817469001,
     "user": {
      "displayName": "Nakato Esther",
      "userId": "16250477698798363218"
     },
     "user_tz": -180
    },
    "id": "zeiF91BJdjJQ",
    "outputId": "653b66cb-786a-4f74-b81a-ca075d77140d"
   },
   "outputs": [
    {
     "data": {
      "text/plain": [
       "<Axes: xlabel='prevalentStroke', ylabel='TenYearCHD'>"
      ]
     },
     "execution_count": 33,
     "metadata": {},
     "output_type": "execute_result"
    },
    {
     "data": {
      "image/png": "[encoded data removed]",
      "text/plain": [
       "<Figure size 640x480 with 1 Axes>"
      ]
     },
     "metadata": {},
     "output_type": "display_data"
    }
   ],
   "source": [
    "sns.barplot(x=\"prevalentStroke\", y=y, data=df)"
   ]
  },
  {
   "cell_type": "code",
   "execution_count": null,
   "metadata": {
    "colab": {
     "base_uri": "https://localhost:8080/"
    },
    "executionInfo": {
     "elapsed": 7,
     "status": "ok",
     "timestamp": 1714817471726,
     "user": {
      "displayName": "Nakato Esther",
      "userId": "16250477698798363218"
     },
     "user_tz": -180
    },
    "id": "AL-_6i8eerIj",
    "outputId": "b16e1970-a193-4580-a436-61d57bd36b82"
   },
   "outputs": [
    {
     "data": {
      "text/plain": [
       "array([ 70. ,  81. ,  80. ,  95. ,  84. , 110. ,  71. ,  89. , 107. ,\n",
       "        76. ,  88. ,  94. ,  90. ,  78. ,  84.5,  70.5,  82. ,  68. ,\n",
       "        91. , 121. ,  85.5,  85. ,  74. ,  92.5,  98. , 101. ,  73. ,\n",
       "        83.5,  92. ,  63. , 114. ,  77.5,  69. ,  66. ,  82.5, 102. ,\n",
       "        79. ,  75. ,  87. ,  99. ,  60. ,  67.5,  72.5, 106. ,  86.5,\n",
       "       104. ,  86. ,  61.5,  71.5,  76.5,  64. ,  77. ,  88.5, 105. ,\n",
       "        96. ,  97. , 100. , 106.5,  93. ,  80.5, 124.5,  61. ,  83. ,\n",
       "        67. ,  74.5,  66.5,  65. ,  72. ,  99.5, 122.5,  57. ,  57.5,\n",
       "       111. ,  78.5, 104.5,  89.5, 112. ,  55. , 120. , 118. ,  59. ,\n",
       "       133. ,  95.5,  96.5, 135. ,  64.5,  68.5,  98.5,  62. , 117. ,\n",
       "        59.5, 103. ,  75.5,  73.5,  69.5,  87.5, 108. ,  93.5,  90.5,\n",
       "       114.5,  62.5,  94.5, 140. , 124. ,  91.5, 115. , 109. , 102.5,\n",
       "        65.5, 105.5, 103.5,  63.5,  79.5, 107.5, 142.5, 109.5,  58. ,\n",
       "        97.5, 116.5, 100.5, 116. , 119. ,  81.5,  54. , 132. , 101.5,\n",
       "       136. ,  51. , 128. , 125. , 130. , 110.5, 113. ,  53. , 108.5,\n",
       "       112.5,  52. ,  48. ,  56. ,  60.5, 115.5, 127.5])"
      ]
     },
     "execution_count": 34,
     "metadata": {},
     "output_type": "execute_result"
    }
   ],
   "source": [
    "df[\"diaBP\"].unique()"
   ]
  },
  {
   "cell_type": "code",
   "execution_count": null,
   "metadata": {
    "colab": {
     "base_uri": "https://localhost:8080/",
     "height": 447
    },
    "executionInfo": {
     "elapsed": 33501,
     "status": "ok",
     "timestamp": 1714817506568,
     "user": {
      "displayName": "Nakato Esther",
      "userId": "16250477698798363218"
     },
     "user_tz": -180
    },
    "id": "kBA_H1Kqe2-y",
    "outputId": "2a38a2f2-4fd8-4760-cd0f-fee07f0c4204"
   },
   "outputs": [
    {
     "data": {
      "text/plain": [
       "<Axes: ylabel='count'>"
      ]
     },
     "execution_count": 35,
     "metadata": {},
     "output_type": "execute_result"
    },
    {
     "data": {
      "image/png": "[encoded data removed]",
      "text/plain": [
       "<Figure size 640x480 with 1 Axes>"
      ]
     },
     "metadata": {},
     "output_type": "display_data"
    }
   ],
   "source": [
    "sns.countplot(df[\"diaBP\"])"
   ]
  },
  {
   "cell_type": "code",
   "execution_count": null,
   "metadata": {
    "colab": {
     "base_uri": "https://localhost:8080/",
     "height": 466
    },
    "executionInfo": {
     "elapsed": 6110,
     "status": "ok",
     "timestamp": 1714817512674,
     "user": {
      "displayName": "Nakato Esther",
      "userId": "16250477698798363218"
     },
     "user_tz": -180
    },
    "id": "3W1TUL4AgVOE",
    "outputId": "3f0a65d2-6922-4924-c2e0-170a8fd6aced"
   },
   "outputs": [
    {
     "data": {
      "text/plain": [
       "<Axes: xlabel='diaBP', ylabel='TenYearCHD'>"
      ]
     },
     "execution_count": 36,
     "metadata": {},
     "output_type": "execute_result"
    },
    {
     "data": {
      "image/png": "[encoded data removed]",
      "text/plain": [
       "<Figure size 640x480 with 1 Axes>"
      ]
     },
     "metadata": {},
     "output_type": "display_data"
    }
   ],
   "source": [
    "sns.barplot(x=\"diaBP\", y=y, data=df)"
   ]
  },
  {
   "cell_type": "code",
   "execution_count": null,
   "metadata": {
    "colab": {
     "base_uri": "https://localhost:8080/"
    },
    "executionInfo": {
     "elapsed": 6,
     "status": "ok",
     "timestamp": 1714817512675,
     "user": {
      "displayName": "Nakato Esther",
      "userId": "16250477698798363218"
     },
     "user_tz": -180
    },
    "id": "vSLQm9FyfBq7",
    "outputId": "ee9cd64d-0f2b-439f-b840-289537410ac2"
   },
   "outputs": [
    {
     "data": {
      "text/plain": [
       "array([26.97, 28.73, 25.34, ..., 43.67, 19.71, 20.91])"
      ]
     },
     "execution_count": 37,
     "metadata": {},
     "output_type": "execute_result"
    }
   ],
   "source": [
    "df[\"BMI\"].unique()"
   ]
  },
  {
   "cell_type": "code",
   "execution_count": null,
   "metadata": {
    "colab": {
     "base_uri": "https://localhost:8080/",
     "height": 466
    },
    "executionInfo": {
     "elapsed": 33673,
     "status": "ok",
     "timestamp": 1714817546343,
     "user": {
      "displayName": "Nakato Esther",
      "userId": "16250477698798363218"
     },
     "user_tz": -180
    },
    "id": "4bpahtmrfECz",
    "outputId": "e3cfbf1f-0d25-4f4f-9fd7-1b5e903aa945"
   },
   "outputs": [
    {
     "data": {
      "text/plain": [
       "<Axes: xlabel='BMI', ylabel='TenYearCHD'>"
      ]
     },
     "execution_count": 38,
     "metadata": {},
     "output_type": "execute_result"
    },
    {
     "data": {
      "image/png": "[encoded data removed]",
      "text/plain": [
       "<Figure size 640x480 with 1 Axes>"
      ]
     },
     "metadata": {},
     "output_type": "display_data"
    }
   ],
   "source": [
    "sns.barplot(x=\"BMI\", y=y, data=df)"
   ]
  },
  {
   "cell_type": "code",
   "execution_count": null,
   "metadata": {
    "colab": {
     "base_uri": "https://localhost:8080/",
     "height": 466
    },
    "executionInfo": {
     "elapsed": 776,
     "status": "ok",
     "timestamp": 1714817547095,
     "user": {
      "displayName": "Nakato Esther",
      "userId": "16250477698798363218"
     },
     "user_tz": -180
    },
    "id": "_enmmetpfV3-",
    "outputId": "0011f256-7edc-4708-97a1-9d0095d6142e"
   },
   "outputs": [
    {
     "data": {
      "text/plain": [
       "<Axes: xlabel='BMI', ylabel='Density'>"
      ]
     },
     "execution_count": 39,
     "metadata": {},
     "output_type": "execute_result"
    },
    {
     "data": {
      "image/png": "[encoded data removed]",
      "text/plain": [
       "<Figure size 640x480 with 1 Axes>"
      ]
     },
     "metadata": {},
     "output_type": "display_data"
    }
   ],
   "source": [
    "sns.distplot(df[\"BMI\"])"
   ]
  },
  {
   "cell_type": "code",
   "execution_count": null,
   "metadata": {
    "id": "eydFz0qHXgXZ"
   },
   "outputs": [],
   "source": [
    "import missingno as msno"
   ]
  },
  {
   "cell_type": "code",
   "execution_count": null,
   "metadata": {
    "colab": {
     "base_uri": "https://localhost:8080/",
     "height": 381
    },
    "executionInfo": {
     "elapsed": 1677,
     "status": "ok",
     "timestamp": 1714817548765,
     "user": {
      "displayName": "Nakato Esther",
      "userId": "16250477698798363218"
     },
     "user_tz": -180
    },
    "id": "xJWskG8DUgTG",
    "outputId": "3961a281-01f4-487b-99f4-e0a33bfc84a9"
   },
   "outputs": [
    {
     "data": {
      "image/png": "[encoded data removed]",
      "text/plain": [
       "<Figure size 2500x1000 with 3 Axes>"
      ]
     },
     "metadata": {},
     "output_type": "display_data"
    }
   ],
   "source": [
    "msno.bar(df)\n",
    "plt.show()"
   ]
  },
  {
   "cell_type": "code",
   "execution_count": null,
   "metadata": {
    "colab": {
     "base_uri": "https://localhost:8080/",
     "height": 365
    },
    "executionInfo": {
     "elapsed": 1031,
     "status": "ok",
     "timestamp": 1714817549788,
     "user": {
      "displayName": "Nakato Esther",
      "userId": "16250477698798363218"
     },
     "user_tz": -180
    },
    "id": "PhSAzrCAYTjz",
    "outputId": "0293c0ac-0d35-4c13-fdc5-2332db192459"
   },
   "outputs": [
    {
     "data": {
      "image/png": "[encoded data removed]",
      "text/plain": [
       "<Figure size 2500x1000 with 2 Axes>"
      ]
     },
     "metadata": {},
     "output_type": "display_data"
    }
   ],
   "source": [
    "msno.matrix(df)\n",
    "plt.show()"
   ]
  },
  {
   "cell_type": "code",
   "execution_count": null,
   "metadata": {
    "colab": {
     "base_uri": "https://localhost:8080/",
     "height": 519
    },
    "executionInfo": {
     "elapsed": 14,
     "status": "ok",
     "timestamp": 1714817549789,
     "user": {
      "displayName": "Nakato Esther",
      "userId": "16250477698798363218"
     },
     "user_tz": -180
    },
    "id": "a1JmVEX1Ygou",
    "outputId": "34db3fb7-8c28-4616-c5db-d581d4a8ef8d"
   },
   "outputs": [
    {
     "data": {
      "image/png": "[encoded data removed]",
      "text/plain": [
       "<Figure size 2000x1200 with 2 Axes>"
      ]
     },
     "metadata": {},
     "output_type": "display_data"
    }
   ],
   "source": [
    "msno.heatmap(df)\n",
    "plt.show()"
   ]
  },
  {
   "cell_type": "code",
   "execution_count": null,
   "metadata": {
    "colab": {
     "base_uri": "https://localhost:8080/",
     "height": 769,
     "output_embedded_package_id": "1pbaavzyR89qlZhWFfxASfgONEnmsrrfn"
    },
    "executionInfo": {
     "elapsed": 107648,
     "status": "ok",
     "timestamp": 1714817657425,
     "user": {
      "displayName": "Nakato Esther",
      "userId": "16250477698798363218"
     },
     "user_tz": -180
    },
    "id": "UHJRc-3AnIaP",
    "outputId": "4942a56d-f0e7-4a29-c1e8-0e2ccdb9b091"
   },
   "outputs": [
    {
     "data": {
      "text/plain": [
       "Output hidden; open in https://colab.research.google.com to view."
      ]
     },
     "metadata": {},
     "output_type": "display_data"
    }
   ],
   "source": [
    "#Pair Plotting\n",
    "sns.pairplot(df)\n",
    "plt.show()"
   ]
  },
  {
   "cell_type": "code",
   "execution_count": null,
   "metadata": {
    "colab": {
     "base_uri": "https://localhost:8080/",
     "height": 506
    },
    "executionInfo": {
     "elapsed": 15,
     "status": "ok",
     "timestamp": 1714817657425,
     "user": {
      "displayName": "Nakato Esther",
      "userId": "16250477698798363218"
     },
     "user_tz": -180
    },
    "id": "FT1Dfsm2nhiM",
    "outputId": "7f525167-1c99-4f56-99d2-049ccb2f66d9"
   },
   "outputs": [
    {
     "data": {
      "image/png": "[encoded data removed]",
      "text/plain": [
       "<Figure size 613.861x500 with 1 Axes>"
      ]
     },
     "metadata": {},
     "output_type": "display_data"
    }
   ],
   "source": [
    "#Count of people based on their sex & weather they are Current smokers or not\n",
    "sns.catplot(data=df, kind='count', x='male',hue='currentSmoker')\n",
    "plt.show()"
   ]
  },
  {
   "cell_type": "code",
   "execution_count": null,
   "metadata": {
    "colab": {
     "base_uri": "https://localhost:8080/",
     "height": 770
    },
    "executionInfo": {
     "elapsed": 1010,
     "status": "ok",
     "timestamp": 1714817658424,
     "user": {
      "displayName": "Nakato Esther",
      "userId": "16250477698798363218"
     },
     "user_tz": -180
    },
    "id": "SJxiKOdmppkB",
    "outputId": "92c5bb50-39bc-46f9-91c3-1276e8679e6a"
   },
   "outputs": [
    {
     "data": {
      "image/png": "[encoded data removed]",
      "text/plain": [
       "<Figure size 1000x1000 with 4 Axes>"
      ]
     },
     "metadata": {},
     "output_type": "display_data"
    }
   ],
   "source": [
    "#Count-subplots of number of people affecting with CHD on basis of their sex and current smoking\n",
    "sns.catplot(data=df, kind='count', x='TenYearCHD', col='male',row='currentSmoker', palette='Blues')\n",
    "plt.show()"
   ]
  },
  {
   "cell_type": "code",
   "execution_count": null,
   "metadata": {
    "colab": {
     "base_uri": "https://localhost:8080/",
     "height": 206
    },
    "executionInfo": {
     "elapsed": 30,
     "status": "ok",
     "timestamp": 1714817658425,
     "user": {
      "displayName": "Nakato Esther",
      "userId": "16250477698798363218"
     },
     "user_tz": -180
    },
    "id": "8E0mH6bkqdTc",
    "outputId": "b032cdf7-3500-4326-ea0a-e8f532393f00"
   },
   "outputs": [
    {
     "data": {
      "application/vnd.google.colaboratory.intrinsic+json": {
       "summary": "{\n  \"name\": \"y\",\n  \"rows\": 3658,\n  \"fields\": [\n    {\n      \"column\": \"TenYearCHD\",\n      \"properties\": {\n        \"dtype\": \"number\",\n        \"std\": 0,\n        \"min\": 0,\n        \"max\": 1,\n        \"num_unique_values\": 2,\n        \"samples\": [\n          1,\n          0\n        ],\n        \"semantic_type\": \"\",\n        \"description\": \"\"\n      }\n    }\n  ]\n}",
       "type": "dataframe",
       "variable_name": "y"
      },
      "text/html": [
       "\n",
       "  <div id=\"df-f3639c2d-7ccc-4753-89b2-37e0922ec7d5\" class=\"colab-df-container\">\n",
       "    <div>\n",
       "<style scoped>\n",
       "    .dataframe tbody tr th:only-of-type {\n",
       "        vertical-align: middle;\n",
       "    }\n",
       "\n",
       "    .dataframe tbody tr th {\n",
       "        vertical-align: top;\n",
       "    }\n",
       "\n",
       "    .dataframe thead th {\n",
       "        text-align: right;\n",
       "    }\n",
       "</style>\n",
       "<table border=\"1\" class=\"dataframe\">\n",
       "  <thead>\n",
       "    <tr style=\"text-align: right;\">\n",
       "      <th></th>\n",
       "      <th>TenYearCHD</th>\n",
       "    </tr>\n",
       "  </thead>\n",
       "  <tbody>\n",
       "    <tr>\n",
       "      <th>0</th>\n",
       "      <td>0</td>\n",
       "    </tr>\n",
       "    <tr>\n",
       "      <th>1</th>\n",
       "      <td>0</td>\n",
       "    </tr>\n",
       "    <tr>\n",
       "      <th>2</th>\n",
       "      <td>0</td>\n",
       "    </tr>\n",
       "    <tr>\n",
       "      <th>3</th>\n",
       "      <td>1</td>\n",
       "    </tr>\n",
       "    <tr>\n",
       "      <th>4</th>\n",
       "      <td>0</td>\n",
       "    </tr>\n",
       "  </tbody>\n",
       "</table>\n",
       "</div>\n",
       "    <div class=\"colab-df-buttons\">\n",
       "\n",
       "  <div class=\"colab-df-container\">\n",
       "    <button class=\"colab-df-convert\" onclick=\"convertToInteractive('df-f3639c2d-7ccc-4753-89b2-37e0922ec7d5')\"\n",
       "            title=\"Convert this dataframe to an interactive table.\"\n",
       "            style=\"display:none;\">\n",
       "\n",
       "  <svg xmlns=\"http://www.w3.org/2000/svg\" height=\"24px\" viewBox=\"0 -960 960 960\">\n",
       "    <path d=\"M120-120v-720h720v720H120Zm60-500h600v-160H180v160Zm220 220h160v-160H400v160Zm0 220h160v-160H400v160ZM180-400h160v-160H180v160Zm440 0h160v-160H620v160ZM180-180h160v-160H180v160Zm440 0h160v-160H620v160Z\"/>\n",
       "  </svg>\n",
       "    </button>\n",
       "\n",
       "  <style>\n",
       "    .colab-df-container {\n",
       "      display:flex;\n",
       "      gap: 12px;\n",
       "    }\n",
       "\n",
       "    .colab-df-convert {\n",
       "      background-color: #E8F0FE;\n",
       "      border: none;\n",
       "      border-radius: 50%;\n",
       "      cursor: pointer;\n",
       "      display: none;\n",
       "      fill: #1967D2;\n",
       "      height: 32px;\n",
       "      padding: 0 0 0 0;\n",
       "      width: 32px;\n",
       "    }\n",
       "\n",
       "    .colab-df-convert:hover {\n",
       "      background-color: #E2EBFA;\n",
       "      box-shadow: 0px 1px 2px rgba(60, 64, 67, 0.3), 0px 1px 3px 1px rgba(60, 64, 67, 0.15);\n",
       "      fill: #174EA6;\n",
       "    }\n",
       "\n",
       "    .colab-df-buttons div {\n",
       "      margin-bottom: 4px;\n",
       "    }\n",
       "\n",
       "    [theme=dark] .colab-df-convert {\n",
       "      background-color: #3B4455;\n",
       "      fill: #D2E3FC;\n",
       "    }\n",
       "\n",
       "    [theme=dark] .colab-df-convert:hover {\n",
       "      background-color: #434B5C;\n",
       "      box-shadow: 0px 1px 3px 1px rgba(0, 0, 0, 0.15);\n",
       "      filter: drop-shadow(0px 1px 2px rgba(0, 0, 0, 0.3));\n",
       "      fill: #FFFFFF;\n",
       "    }\n",
       "  </style>\n",
       "\n",
       "    <script>\n",
       "      const buttonEl =\n",
       "        document.querySelector('#df-f3639c2d-7ccc-4753-89b2-37e0922ec7d5 button.colab-df-convert');\n",
       "      buttonEl.style.display =\n",
       "        google.colab.kernel.accessAllowed ? 'block' : 'none';\n",
       "\n",
       "      async function convertToInteractive(key) {\n",
       "        const element = document.querySelector('#df-f3639c2d-7ccc-4753-89b2-37e0922ec7d5');\n",
       "        const dataTable =\n",
       "          await google.colab.kernel.invokeFunction('convertToInteractive',\n",
       "                                                    [key], {});\n",
       "        if (!dataTable) return;\n",
       "\n",
       "        const docLinkHtml = 'Like what you see? Visit the ' +\n",
       "          '<a target=\"_blank\" href=https://colab.research.google.com/notebooks/data_table.ipynb>data table notebook</a>'\n",
       "          + ' to learn more about interactive tables.';\n",
       "        element.innerHTML = '';\n",
       "        dataTable['output_type'] = 'display_data';\n",
       "        await google.colab.output.renderOutput(dataTable, element);\n",
       "        const docLink = document.createElement('div');\n",
       "        docLink.innerHTML = docLinkHtml;\n",
       "        element.appendChild(docLink);\n",
       "      }\n",
       "    </script>\n",
       "  </div>\n",
       "\n",
       "\n",
       "<div id=\"df-1fcd7d4b-1e68-4541-8058-7ff4364d7b0d\">\n",
       "  <button class=\"colab-df-quickchart\" onclick=\"quickchart('df-1fcd7d4b-1e68-4541-8058-7ff4364d7b0d')\"\n",
       "            title=\"Suggest charts\"\n",
       "            style=\"display:none;\">\n",
       "\n",
       "<svg xmlns=\"http://www.w3.org/2000/svg\" height=\"24px\"viewBox=\"0 0 24 24\"\n",
       "     width=\"24px\">\n",
       "    <g>\n",
       "        <path d=\"M19 3H5c-1.1 0-2 .9-2 2v14c0 1.1.9 2 2 2h14c1.1 0 2-.9 2-2V5c0-1.1-.9-2-2-2zM9 17H7v-7h2v7zm4 0h-2V7h2v10zm4 0h-2v-4h2v4z\"/>\n",
       "    </g>\n",
       "</svg>\n",
       "  </button>\n",
       "\n",
       "<style>\n",
       "  .colab-df-quickchart {\n",
       "      --bg-color: #E8F0FE;\n",
       "      --fill-color: #1967D2;\n",
       "      --hover-bg-color: #E2EBFA;\n",
       "      --hover-fill-color: #174EA6;\n",
       "      --disabled-fill-color: #AAA;\n",
       "      --disabled-bg-color: #DDD;\n",
       "  }\n",
       "\n",
       "  [theme=dark] .colab-df-quickchart {\n",
       "      --bg-color: #3B4455;\n",
       "      --fill-color: #D2E3FC;\n",
       "      --hover-bg-color: #434B5C;\n",
       "      --hover-fill-color: #FFFFFF;\n",
       "      --disabled-bg-color: #3B4455;\n",
       "      --disabled-fill-color: #666;\n",
       "  }\n",
       "\n",
       "  .colab-df-quickchart {\n",
       "    background-color: var(--bg-color);\n",
       "    border: none;\n",
       "    border-radius: 50%;\n",
       "    cursor: pointer;\n",
       "    display: none;\n",
       "    fill: var(--fill-color);\n",
       "    height: 32px;\n",
       "    padding: 0;\n",
       "    width: 32px;\n",
       "  }\n",
       "\n",
       "  .colab-df-quickchart:hover {\n",
       "    background-color: var(--hover-bg-color);\n",
       "    box-shadow: 0 1px 2px rgba(60, 64, 67, 0.3), 0 1px 3px 1px rgba(60, 64, 67, 0.15);\n",
       "    fill: var(--button-hover-fill-color);\n",
       "  }\n",
       "\n",
       "  .colab-df-quickchart-complete:disabled,\n",
       "  .colab-df-quickchart-complete:disabled:hover {\n",
       "    background-color: var(--disabled-bg-color);\n",
       "    fill: var(--disabled-fill-color);\n",
       "    box-shadow: none;\n",
       "  }\n",
       "\n",
       "  .colab-df-spinner {\n",
       "    border: 2px solid var(--fill-color);\n",
       "    border-color: transparent;\n",
       "    border-bottom-color: var(--fill-color);\n",
       "    animation:\n",
       "      spin 1s steps(1) infinite;\n",
       "  }\n",
       "\n",
       "  @keyframes spin {\n",
       "    0% {\n",
       "      border-color: transparent;\n",
       "      border-bottom-color: var(--fill-color);\n",
       "      border-left-color: var(--fill-color);\n",
       "    }\n",
       "    20% {\n",
       "      border-color: transparent;\n",
       "      border-left-color: var(--fill-color);\n",
       "      border-top-color: var(--fill-color);\n",
       "    }\n",
       "    30% {\n",
       "      border-color: transparent;\n",
       "      border-left-color: var(--fill-color);\n",
       "      border-top-color: var(--fill-color);\n",
       "      border-right-color: var(--fill-color);\n",
       "    }\n",
       "    40% {\n",
       "      border-color: transparent;\n",
       "      border-right-color: var(--fill-color);\n",
       "      border-top-color: var(--fill-color);\n",
       "    }\n",
       "    60% {\n",
       "      border-color: transparent;\n",
       "      border-right-color: var(--fill-color);\n",
       "    }\n",
       "    80% {\n",
       "      border-color: transparent;\n",
       "      border-right-color: var(--fill-color);\n",
       "      border-bottom-color: var(--fill-color);\n",
       "    }\n",
       "    90% {\n",
       "      border-color: transparent;\n",
       "      border-bottom-color: var(--fill-color);\n",
       "    }\n",
       "  }\n",
       "</style>\n",
       "\n",
       "  <script>\n",
       "    async function quickchart(key) {\n",
       "      const quickchartButtonEl =\n",
       "        document.querySelector('#' + key + ' button');\n",
       "      quickchartButtonEl.disabled = true;  // To prevent multiple clicks.\n",
       "      quickchartButtonEl.classList.add('colab-df-spinner');\n",
       "      try {\n",
       "        const charts = await google.colab.kernel.invokeFunction(\n",
       "            'suggestCharts', [key], {});\n",
       "      } catch (error) {\n",
       "        console.error('Error during call to suggestCharts:', error);\n",
       "      }\n",
       "      quickchartButtonEl.classList.remove('colab-df-spinner');\n",
       "      quickchartButtonEl.classList.add('colab-df-quickchart-complete');\n",
       "    }\n",
       "    (() => {\n",
       "      let quickchartButtonEl =\n",
       "        document.querySelector('#df-1fcd7d4b-1e68-4541-8058-7ff4364d7b0d button');\n",
       "      quickchartButtonEl.style.display =\n",
       "        google.colab.kernel.accessAllowed ? 'block' : 'none';\n",
       "    })();\n",
       "  </script>\n",
       "</div>\n",
       "\n",
       "    </div>\n",
       "  </div>\n"
      ],
      "text/plain": [
       "   TenYearCHD\n",
       "0           0\n",
       "1           0\n",
       "2           0\n",
       "3           1\n",
       "4           0"
      ]
     },
     "execution_count": 47,
     "metadata": {},
     "output_type": "execute_result"
    }
   ],
   "source": [
    "#ML part\n",
    "#sepaarating data into feature and target data\n",
    "X = df.iloc[:,0:15]\n",
    "y = df.iloc[:,15:16]\n",
    "X.head()\n",
    "y.head()"
   ]
  },
  {
   "cell_type": "code",
   "execution_count": null,
   "metadata": {
    "id": "Sjb1jm9TzML6"
   },
   "outputs": [],
   "source": [
    "#Training , Testing & Spliting\n",
    "\n",
    "\n",
    "from sklearn.model_selection import train_test_split\n",
    "\n",
    "#predictors = df.drop(\"TenYearCHD\",axis=1)\n",
    "#TenYearCHD= df[\"TenYearCHD\"]\n",
    "\n",
    "X_train, X_test, y_train, y_test = train_test_split(X,y, test_size=0.3, random_state=21)\n"
   ]
  },
  {
   "cell_type": "code",
   "execution_count": null,
   "metadata": {
    "colab": {
     "base_uri": "https://localhost:8080/"
    },
    "executionInfo": {
     "elapsed": 26,
     "status": "ok",
     "timestamp": 1714817658426,
     "user": {
      "displayName": "Nakato Esther",
      "userId": "16250477698798363218"
     },
     "user_tz": -180
    },
    "id": "JE63UKF5t5-o",
    "outputId": "0598671f-54a8-4ad6-f815-1715a9e46ea2"
   },
   "outputs": [
    {
     "data": {
      "text/plain": [
       "(2560, 15)"
      ]
     },
     "execution_count": 49,
     "metadata": {},
     "output_type": "execute_result"
    }
   ],
   "source": [
    "X_train.shape"
   ]
  },
  {
   "cell_type": "code",
   "execution_count": null,
   "metadata": {
    "colab": {
     "base_uri": "https://localhost:8080/"
    },
    "executionInfo": {
     "elapsed": 23,
     "status": "ok",
     "timestamp": 1714817658426,
     "user": {
      "displayName": "Nakato Esther",
      "userId": "16250477698798363218"
     },
     "user_tz": -180
    },
    "id": "w9kM_8mluRwK",
    "outputId": "923a2aa7-e611-4733-9801-9a24768e2340"
   },
   "outputs": [
    {
     "data": {
      "text/plain": [
       "(1098, 15)"
      ]
     },
     "execution_count": 50,
     "metadata": {},
     "output_type": "execute_result"
    }
   ],
   "source": [
    "X_test.shape"
   ]
  },
  {
   "cell_type": "code",
   "execution_count": null,
   "metadata": {
    "colab": {
     "base_uri": "https://localhost:8080/"
    },
    "executionInfo": {
     "elapsed": 21,
     "status": "ok",
     "timestamp": 1714817658427,
     "user": {
      "displayName": "Nakato Esther",
      "userId": "16250477698798363218"
     },
     "user_tz": -180
    },
    "id": "BuljSfhmuTt7",
    "outputId": "7dcebc2e-6aac-4bf8-c69d-2856af59899d"
   },
   "outputs": [
    {
     "data": {
      "text/plain": [
       "(2560, 1)"
      ]
     },
     "execution_count": 51,
     "metadata": {},
     "output_type": "execute_result"
    }
   ],
   "source": [
    "y_train.shape"
   ]
  },
  {
   "cell_type": "code",
   "execution_count": null,
   "metadata": {
    "colab": {
     "base_uri": "https://localhost:8080/"
    },
    "executionInfo": {
     "elapsed": 17,
     "status": "ok",
     "timestamp": 1714817658427,
     "user": {
      "displayName": "Nakato Esther",
      "userId": "16250477698798363218"
     },
     "user_tz": -180
    },
    "id": "hcifUZ56ujyt",
    "outputId": "c719ae03-f672-41b4-a312-a6c55b42bd00"
   },
   "outputs": [
    {
     "data": {
      "text/plain": [
       "(1098, 1)"
      ]
     },
     "execution_count": 52,
     "metadata": {},
     "output_type": "execute_result"
    }
   ],
   "source": [
    "y_test.shape"
   ]
  },
  {
   "cell_type": "code",
   "execution_count": null,
   "metadata": {
    "id": "FE05aPO-u4jC"
   },
   "outputs": [],
   "source": [
    "# Model Fitting\n",
    "from sklearn.metrics import accuracy_score"
   ]
  },
  {
   "cell_type": "code",
   "execution_count": null,
   "metadata": {
    "id": "yyjtpwtKljlJ"
   },
   "outputs": [],
   "source": [
    "# SVM\n",
    "from sklearn import svm\n",
    "\n",
    "sv = svm.SVC(kernel='linear')\n",
    "\n",
    "sv.fit(X_train, y_train)\n",
    "\n",
    "y_pred_svm = sv.predict(X_test)"
   ]
  },
  {
   "cell_type": "code",
   "execution_count": null,
   "metadata": {
    "colab": {
     "base_uri": "https://localhost:8080/"
    },
    "executionInfo": {
     "elapsed": 38,
     "status": "ok",
     "timestamp": 1714817797607,
     "user": {
      "displayName": "Nakato Esther",
      "userId": "16250477698798363218"
     },
     "user_tz": -180
    },
    "id": "yvdxJOLdlyHu",
    "outputId": "925556b2-190e-4d8a-e651-31e5132052e8"
   },
   "outputs": [
    {
     "data": {
      "text/plain": [
       "(1098,)"
      ]
     },
     "execution_count": 61,
     "metadata": {},
     "output_type": "execute_result"
    }
   ],
   "source": [
    "y_pred_svm.shape"
   ]
  },
  {
   "cell_type": "code",
   "execution_count": null,
   "metadata": {
    "colab": {
     "base_uri": "https://localhost:8080/"
    },
    "executionInfo": {
     "elapsed": 28,
     "status": "ok",
     "timestamp": 1714817797607,
     "user": {
      "displayName": "Nakato Esther",
      "userId": "16250477698798363218"
     },
     "user_tz": -180
    },
    "id": "evnpAwUVl7K2",
    "outputId": "a8c1928a-1629-47ae-e20e-6c10d5f54f9a"
   },
   "outputs": [
    {
     "name": "stdout",
     "output_type": "stream",
     "text": [
      "The accuracy score achieved using Linear SVM is: 84.79 %\n"
     ]
    }
   ],
   "source": [
    "score_svm = round(accuracy_score(y_pred_svm,y_test)*100,2)\n",
    "\n",
    "print(\"The accuracy score achieved using Linear SVM is: \"+str(score_svm)+\" %\")"
   ]
  },
  {
   "cell_type": "code",
   "execution_count": null,
   "metadata": {
    "id": "0v3Yxev0mNhR"
   },
   "outputs": [],
   "source": [
    "# KNeighborsClassifier\n",
    "from sklearn.neighbors import KNeighborsClassifier\n",
    "knn = KNeighborsClassifier(n_neighbors=7)\n",
    "knn.fit(X_train,y_train)\n",
    "y_pred_knn=knn.predict(X_test)"
   ]
  },
  {
   "cell_type": "code",
   "execution_count": null,
   "metadata": {
    "colab": {
     "base_uri": "https://localhost:8080/"
    },
    "executionInfo": {
     "elapsed": 22,
     "status": "ok",
     "timestamp": 1714817797608,
     "user": {
      "displayName": "Nakato Esther",
      "userId": "16250477698798363218"
     },
     "user_tz": -180
    },
    "id": "iLagnwODmmLS",
    "outputId": "7047c541-6c48-4c2f-d6c1-229782075cc3"
   },
   "outputs": [
    {
     "data": {
      "text/plain": [
       "(1098,)"
      ]
     },
     "execution_count": 64,
     "metadata": {},
     "output_type": "execute_result"
    }
   ],
   "source": [
    "y_pred_knn.shape"
   ]
  },
  {
   "cell_type": "code",
   "execution_count": null,
   "metadata": {
    "colab": {
     "base_uri": "https://localhost:8080/"
    },
    "executionInfo": {
     "elapsed": 13,
     "status": "ok",
     "timestamp": 1714817797608,
     "user": {
      "displayName": "Nakato Esther",
      "userId": "16250477698798363218"
     },
     "user_tz": -180
    },
    "id": "FjbVI5SamrbQ",
    "outputId": "23605143-a794-4357-8f74-ee7104a2a5e9"
   },
   "outputs": [
    {
     "name": "stdout",
     "output_type": "stream",
     "text": [
      "The accuracy score achieved using KNN is: 83.88 %\n"
     ]
    }
   ],
   "source": [
    "score_knn = round(accuracy_score(y_pred_knn,y_test)*100,2)\n",
    "\n",
    "print(\"The accuracy score achieved using KNN is: \"+str(score_knn)+\" %\")"
   ]
  },
  {
   "cell_type": "code",
   "execution_count": null,
   "metadata": {
    "id": "7V5n8rJ-wVdh"
   },
   "outputs": [],
   "source": [
    "# Neural Networks\n",
    "from keras.models import Sequential\n",
    "from keras.layers import Dense"
   ]
  },
  {
   "cell_type": "code",
   "execution_count": null,
   "metadata": {
    "id": "N8QDiPp_s3sj"
   },
   "outputs": [],
   "source": [
    "# https://stats.stackexchange.com/a/136542 helped a lot in avoiding overfitting\n",
    "\n",
    "model = Sequential()\n",
    "model.add(Dense(11,activation='relu',input_dim=15))\n",
    "model.add(Dense(9,activation='relu'))\n",
    "model.add(Dense(6,activation='relu'))\n",
    "model.add(Dense(1,activation='sigmoid'))\n",
    "\n",
    "model.compile(loss='binary_crossentropy',optimizer='adam',metrics=['accuracy'])"
   ]
  },
  {
   "cell_type": "code",
   "execution_count": null,
   "metadata": {
    "colab": {
     "base_uri": "https://localhost:8080/"
    },
    "executionInfo": {
     "elapsed": 62189,
     "status": "ok",
     "timestamp": 1714823886596,
     "user": {
      "displayName": "Nakato Esther",
      "userId": "16250477698798363218"
     },
     "user_tz": -180
    },
    "id": "ajL2Rj7mtHX9",
    "outputId": "1d5cc6b7-c03c-4fad-ba7a-333c6671d8d0"
   },
   "outputs": [
    {
     "name": "stdout",
     "output_type": "stream",
     "text": [
      "Epoch 1/300\n",
      "80/80 [==============================] - 1s 2ms/step - loss: 2.2565 - accuracy: 0.6578\n",
      "Epoch 2/300\n",
      "80/80 [==============================] - 0s 2ms/step - loss: 0.7181 - accuracy: 0.7688\n",
      "Epoch 3/300\n",
      "80/80 [==============================] - 0s 2ms/step - loss: 0.5885 - accuracy: 0.7973\n",
      "Epoch 4/300\n",
      "80/80 [==============================] - 0s 2ms/step - loss: 0.5238 - accuracy: 0.8230\n",
      "Epoch 5/300\n",
      "80/80 [==============================] - 0s 2ms/step - loss: 0.4959 - accuracy: 0.8387\n",
      "Epoch 6/300\n",
      "80/80 [==============================] - 0s 2ms/step - loss: 0.4783 - accuracy: 0.8402\n",
      "Epoch 7/300\n",
      "80/80 [==============================] - 0s 2ms/step - loss: 0.4733 - accuracy: 0.8430\n",
      "Epoch 8/300\n",
      "80/80 [==============================] - 0s 2ms/step - loss: 0.4671 - accuracy: 0.8379\n",
      "Epoch 9/300\n",
      "80/80 [==============================] - 0s 2ms/step - loss: 0.4583 - accuracy: 0.8453\n",
      "Epoch 10/300\n",
      "80/80 [==============================] - 0s 2ms/step - loss: 0.4554 - accuracy: 0.8457\n",
      "Epoch 11/300\n",
      "80/80 [==============================] - 0s 2ms/step - loss: 0.4558 - accuracy: 0.8457\n",
      "Epoch 12/300\n",
      "80/80 [==============================] - 0s 2ms/step - loss: 0.4469 - accuracy: 0.8465\n",
      "Epoch 13/300\n",
      "80/80 [==============================] - 0s 2ms/step - loss: 0.4422 - accuracy: 0.8465\n",
      "Epoch 14/300\n",
      "80/80 [==============================] - 0s 2ms/step - loss: 0.4436 - accuracy: 0.8465\n",
      "Epoch 15/300\n",
      "80/80 [==============================] - 0s 2ms/step - loss: 0.4372 - accuracy: 0.8484\n",
      "Epoch 16/300\n",
      "80/80 [==============================] - 0s 2ms/step - loss: 0.4345 - accuracy: 0.8469\n",
      "Epoch 17/300\n",
      "80/80 [==============================] - 0s 2ms/step - loss: 0.4425 - accuracy: 0.8473\n",
      "Epoch 18/300\n",
      "80/80 [==============================] - 0s 2ms/step - loss: 0.4384 - accuracy: 0.8473\n",
      "Epoch 19/300\n",
      "80/80 [==============================] - 0s 2ms/step - loss: 0.4371 - accuracy: 0.8480\n",
      "Epoch 20/300\n",
      "80/80 [==============================] - 0s 2ms/step - loss: 0.4336 - accuracy: 0.8480\n",
      "Epoch 21/300\n",
      "80/80 [==============================] - 0s 2ms/step - loss: 0.4293 - accuracy: 0.8473\n",
      "Epoch 22/300\n",
      "80/80 [==============================] - 0s 2ms/step - loss: 0.4261 - accuracy: 0.8477\n",
      "Epoch 23/300\n",
      "80/80 [==============================] - 0s 2ms/step - loss: 0.4266 - accuracy: 0.8469\n",
      "Epoch 24/300\n",
      "80/80 [==============================] - 0s 2ms/step - loss: 0.4311 - accuracy: 0.8484\n",
      "Epoch 25/300\n",
      "80/80 [==============================] - 0s 2ms/step - loss: 0.4251 - accuracy: 0.8465\n",
      "Epoch 26/300\n",
      "80/80 [==============================] - 0s 2ms/step - loss: 0.4202 - accuracy: 0.8480\n",
      "Epoch 27/300\n",
      "80/80 [==============================] - 0s 2ms/step - loss: 0.4208 - accuracy: 0.8477\n",
      "Epoch 28/300\n",
      "80/80 [==============================] - 0s 2ms/step - loss: 0.4215 - accuracy: 0.8473\n",
      "Epoch 29/300\n",
      "80/80 [==============================] - 0s 2ms/step - loss: 0.4169 - accuracy: 0.8469\n",
      "Epoch 30/300\n",
      "80/80 [==============================] - 0s 2ms/step - loss: 0.4177 - accuracy: 0.8473\n",
      "Epoch 31/300\n",
      "80/80 [==============================] - 0s 2ms/step - loss: 0.4181 - accuracy: 0.8492\n",
      "Epoch 32/300\n",
      "80/80 [==============================] - 0s 2ms/step - loss: 0.4149 - accuracy: 0.8473\n",
      "Epoch 33/300\n",
      "80/80 [==============================] - 0s 2ms/step - loss: 0.4138 - accuracy: 0.8488\n",
      "Epoch 34/300\n",
      "80/80 [==============================] - 0s 3ms/step - loss: 0.4196 - accuracy: 0.8492\n",
      "Epoch 35/300\n",
      "80/80 [==============================] - 0s 3ms/step - loss: 0.4113 - accuracy: 0.8480\n",
      "Epoch 36/300\n",
      "80/80 [==============================] - 0s 3ms/step - loss: 0.4107 - accuracy: 0.8512\n",
      "Epoch 37/300\n",
      "80/80 [==============================] - 0s 3ms/step - loss: 0.4137 - accuracy: 0.8508\n",
      "Epoch 38/300\n",
      "80/80 [==============================] - 0s 3ms/step - loss: 0.4142 - accuracy: 0.8480\n",
      "Epoch 39/300\n",
      "80/80 [==============================] - 0s 3ms/step - loss: 0.4068 - accuracy: 0.8512\n",
      "Epoch 40/300\n",
      "80/80 [==============================] - 0s 3ms/step - loss: 0.4123 - accuracy: 0.8508\n",
      "Epoch 41/300\n",
      "80/80 [==============================] - 0s 3ms/step - loss: 0.4145 - accuracy: 0.8520\n",
      "Epoch 42/300\n",
      "80/80 [==============================] - 0s 3ms/step - loss: 0.4050 - accuracy: 0.8496\n",
      "Epoch 43/300\n",
      "80/80 [==============================] - 0s 3ms/step - loss: 0.4061 - accuracy: 0.8496\n",
      "Epoch 44/300\n",
      "80/80 [==============================] - 0s 3ms/step - loss: 0.4029 - accuracy: 0.8500\n",
      "Epoch 45/300\n",
      "80/80 [==============================] - 0s 3ms/step - loss: 0.4014 - accuracy: 0.8492\n",
      "Epoch 46/300\n",
      "80/80 [==============================] - 0s 3ms/step - loss: 0.4040 - accuracy: 0.8492\n",
      "Epoch 47/300\n",
      "80/80 [==============================] - 0s 4ms/step - loss: 0.4001 - accuracy: 0.8516\n",
      "Epoch 48/300\n",
      "80/80 [==============================] - 0s 3ms/step - loss: 0.3978 - accuracy: 0.8504\n",
      "Epoch 49/300\n",
      "80/80 [==============================] - 0s 3ms/step - loss: 0.3992 - accuracy: 0.8496\n",
      "Epoch 50/300\n",
      "80/80 [==============================] - 0s 4ms/step - loss: 0.4313 - accuracy: 0.8445\n",
      "Epoch 51/300\n",
      "80/80 [==============================] - 0s 3ms/step - loss: 0.4040 - accuracy: 0.8500\n",
      "Epoch 52/300\n",
      "80/80 [==============================] - 0s 2ms/step - loss: 0.4030 - accuracy: 0.8527\n",
      "Epoch 53/300\n",
      "80/80 [==============================] - 0s 2ms/step - loss: 0.4058 - accuracy: 0.8496\n",
      "Epoch 54/300\n",
      "80/80 [==============================] - 0s 2ms/step - loss: 0.3975 - accuracy: 0.8516\n",
      "Epoch 55/300\n",
      "80/80 [==============================] - 0s 2ms/step - loss: 0.3984 - accuracy: 0.8484\n",
      "Epoch 56/300\n",
      "80/80 [==============================] - 0s 2ms/step - loss: 0.4023 - accuracy: 0.8492\n",
      "Epoch 57/300\n",
      "80/80 [==============================] - 0s 2ms/step - loss: 0.3958 - accuracy: 0.8520\n",
      "Epoch 58/300\n",
      "80/80 [==============================] - 0s 2ms/step - loss: 0.3971 - accuracy: 0.8516\n",
      "Epoch 59/300\n",
      "80/80 [==============================] - 0s 2ms/step - loss: 0.4007 - accuracy: 0.8477\n",
      "Epoch 60/300\n",
      "80/80 [==============================] - 0s 2ms/step - loss: 0.3989 - accuracy: 0.8504\n",
      "Epoch 61/300\n",
      "80/80 [==============================] - 0s 2ms/step - loss: 0.3943 - accuracy: 0.8520\n",
      "Epoch 62/300\n",
      "80/80 [==============================] - 0s 2ms/step - loss: 0.3996 - accuracy: 0.8496\n",
      "Epoch 63/300\n",
      "80/80 [==============================] - 0s 2ms/step - loss: 0.3990 - accuracy: 0.8531\n",
      "Epoch 64/300\n",
      "80/80 [==============================] - 0s 2ms/step - loss: 0.3953 - accuracy: 0.8508\n",
      "Epoch 65/300\n",
      "80/80 [==============================] - 0s 2ms/step - loss: 0.4026 - accuracy: 0.8523\n",
      "Epoch 66/300\n",
      "80/80 [==============================] - 0s 2ms/step - loss: 0.4024 - accuracy: 0.8469\n",
      "Epoch 67/300\n",
      "80/80 [==============================] - 0s 2ms/step - loss: 0.4025 - accuracy: 0.8469\n",
      "Epoch 68/300\n",
      "80/80 [==============================] - 0s 2ms/step - loss: 0.4016 - accuracy: 0.8492\n",
      "Epoch 69/300\n",
      "80/80 [==============================] - 0s 2ms/step - loss: 0.3990 - accuracy: 0.8504\n",
      "Epoch 70/300\n",
      "80/80 [==============================] - 0s 2ms/step - loss: 0.4039 - accuracy: 0.8465\n",
      "Epoch 71/300\n",
      "80/80 [==============================] - 0s 2ms/step - loss: 0.3946 - accuracy: 0.8512\n",
      "Epoch 72/300\n",
      "80/80 [==============================] - 0s 2ms/step - loss: 0.3966 - accuracy: 0.8500\n",
      "Epoch 73/300\n",
      "80/80 [==============================] - 0s 2ms/step - loss: 0.3936 - accuracy: 0.8512\n",
      "Epoch 74/300\n",
      "80/80 [==============================] - 0s 2ms/step - loss: 0.4069 - accuracy: 0.8488\n",
      "Epoch 75/300\n",
      "80/80 [==============================] - 0s 2ms/step - loss: 0.3952 - accuracy: 0.8488\n",
      "Epoch 76/300\n",
      "80/80 [==============================] - 0s 2ms/step - loss: 0.3945 - accuracy: 0.8508\n",
      "Epoch 77/300\n",
      "80/80 [==============================] - 0s 2ms/step - loss: 0.3989 - accuracy: 0.8480\n",
      "Epoch 78/300\n",
      "80/80 [==============================] - 0s 2ms/step - loss: 0.3977 - accuracy: 0.8488\n",
      "Epoch 79/300\n",
      "80/80 [==============================] - 0s 2ms/step - loss: 0.3962 - accuracy: 0.8492\n",
      "Epoch 80/300\n",
      "80/80 [==============================] - 0s 2ms/step - loss: 0.3936 - accuracy: 0.8508\n",
      "Epoch 81/300\n",
      "80/80 [==============================] - 0s 2ms/step - loss: 0.3920 - accuracy: 0.8516\n",
      "Epoch 82/300\n",
      "80/80 [==============================] - 0s 2ms/step - loss: 0.3976 - accuracy: 0.8512\n",
      "Epoch 83/300\n",
      "80/80 [==============================] - 0s 2ms/step - loss: 0.3934 - accuracy: 0.8504\n",
      "Epoch 84/300\n",
      "80/80 [==============================] - 0s 2ms/step - loss: 0.3966 - accuracy: 0.8516\n",
      "Epoch 85/300\n",
      "80/80 [==============================] - 0s 2ms/step - loss: 0.3934 - accuracy: 0.8531\n",
      "Epoch 86/300\n",
      "80/80 [==============================] - 0s 2ms/step - loss: 0.3922 - accuracy: 0.8520\n",
      "Epoch 87/300\n",
      "80/80 [==============================] - 0s 2ms/step - loss: 0.3914 - accuracy: 0.8531\n",
      "Epoch 88/300\n",
      "80/80 [==============================] - 0s 2ms/step - loss: 0.3940 - accuracy: 0.8520\n",
      "Epoch 89/300\n",
      "80/80 [==============================] - 0s 2ms/step - loss: 0.3914 - accuracy: 0.8523\n",
      "Epoch 90/300\n",
      "80/80 [==============================] - 0s 2ms/step - loss: 0.4013 - accuracy: 0.8465\n",
      "Epoch 91/300\n",
      "80/80 [==============================] - 0s 2ms/step - loss: 0.3963 - accuracy: 0.8512\n",
      "Epoch 92/300\n",
      "80/80 [==============================] - 0s 2ms/step - loss: 0.3953 - accuracy: 0.8527\n",
      "Epoch 93/300\n",
      "80/80 [==============================] - 0s 2ms/step - loss: 0.3952 - accuracy: 0.8496\n",
      "Epoch 94/300\n",
      "80/80 [==============================] - 0s 2ms/step - loss: 0.3886 - accuracy: 0.8531\n",
      "Epoch 95/300\n",
      "80/80 [==============================] - 0s 2ms/step - loss: 0.3909 - accuracy: 0.8496\n",
      "Epoch 96/300\n",
      "80/80 [==============================] - 0s 2ms/step - loss: 0.3995 - accuracy: 0.8508\n",
      "Epoch 97/300\n",
      "80/80 [==============================] - 0s 2ms/step - loss: 0.3969 - accuracy: 0.8500\n",
      "Epoch 98/300\n",
      "80/80 [==============================] - 0s 2ms/step - loss: 0.3926 - accuracy: 0.8531\n",
      "Epoch 99/300\n",
      "80/80 [==============================] - 0s 2ms/step - loss: 0.3900 - accuracy: 0.8535\n",
      "Epoch 100/300\n",
      "80/80 [==============================] - 0s 2ms/step - loss: 0.3908 - accuracy: 0.8535\n",
      "Epoch 101/300\n",
      "80/80 [==============================] - 0s 2ms/step - loss: 0.3981 - accuracy: 0.8496\n",
      "Epoch 102/300\n",
      "80/80 [==============================] - 0s 2ms/step - loss: 0.3870 - accuracy: 0.8520\n",
      "Epoch 103/300\n",
      "80/80 [==============================] - 0s 2ms/step - loss: 0.3895 - accuracy: 0.8516\n",
      "Epoch 104/300\n",
      "80/80 [==============================] - 0s 2ms/step - loss: 0.3937 - accuracy: 0.8480\n",
      "Epoch 105/300\n",
      "80/80 [==============================] - 0s 2ms/step - loss: 0.3990 - accuracy: 0.8520\n",
      "Epoch 106/300\n",
      "80/80 [==============================] - 0s 2ms/step - loss: 0.3879 - accuracy: 0.8516\n",
      "Epoch 107/300\n",
      "80/80 [==============================] - 0s 2ms/step - loss: 0.3866 - accuracy: 0.8520\n",
      "Epoch 108/300\n",
      "80/80 [==============================] - 0s 3ms/step - loss: 0.3959 - accuracy: 0.8500\n",
      "Epoch 109/300\n",
      "80/80 [==============================] - 0s 3ms/step - loss: 0.3864 - accuracy: 0.8516\n",
      "Epoch 110/300\n",
      "80/80 [==============================] - 0s 3ms/step - loss: 0.3893 - accuracy: 0.8500\n",
      "Epoch 111/300\n",
      "80/80 [==============================] - 0s 3ms/step - loss: 0.3914 - accuracy: 0.8508\n",
      "Epoch 112/300\n",
      "80/80 [==============================] - 0s 3ms/step - loss: 0.3881 - accuracy: 0.8512\n",
      "Epoch 113/300\n",
      "80/80 [==============================] - 0s 4ms/step - loss: 0.3913 - accuracy: 0.8520\n",
      "Epoch 114/300\n",
      "80/80 [==============================] - 0s 3ms/step - loss: 0.3891 - accuracy: 0.8500\n",
      "Epoch 115/300\n",
      "80/80 [==============================] - 0s 3ms/step - loss: 0.3875 - accuracy: 0.8516\n",
      "Epoch 116/300\n",
      "80/80 [==============================] - 0s 3ms/step - loss: 0.3860 - accuracy: 0.8484\n",
      "Epoch 117/300\n",
      "80/80 [==============================] - 0s 3ms/step - loss: 0.3941 - accuracy: 0.8512\n",
      "Epoch 118/300\n",
      "80/80 [==============================] - 0s 3ms/step - loss: 0.3891 - accuracy: 0.8539\n",
      "Epoch 119/300\n",
      "80/80 [==============================] - 0s 3ms/step - loss: 0.3964 - accuracy: 0.8500\n",
      "Epoch 120/300\n",
      "80/80 [==============================] - 0s 3ms/step - loss: 0.3904 - accuracy: 0.8527\n",
      "Epoch 121/300\n",
      "80/80 [==============================] - 0s 3ms/step - loss: 0.3873 - accuracy: 0.8520\n",
      "Epoch 122/300\n",
      "80/80 [==============================] - 0s 3ms/step - loss: 0.3848 - accuracy: 0.8535\n",
      "Epoch 123/300\n",
      "80/80 [==============================] - 0s 3ms/step - loss: 0.3912 - accuracy: 0.8508\n",
      "Epoch 124/300\n",
      "80/80 [==============================] - 0s 3ms/step - loss: 0.3880 - accuracy: 0.8516\n",
      "Epoch 125/300\n",
      "80/80 [==============================] - 0s 2ms/step - loss: 0.3915 - accuracy: 0.8500\n",
      "Epoch 126/300\n",
      "80/80 [==============================] - 0s 2ms/step - loss: 0.3889 - accuracy: 0.8520\n",
      "Epoch 127/300\n",
      "80/80 [==============================] - 0s 2ms/step - loss: 0.3874 - accuracy: 0.8547\n",
      "Epoch 128/300\n",
      "80/80 [==============================] - 0s 2ms/step - loss: 0.3920 - accuracy: 0.8484\n",
      "Epoch 129/300\n",
      "80/80 [==============================] - 0s 2ms/step - loss: 0.3854 - accuracy: 0.8496\n",
      "Epoch 130/300\n",
      "80/80 [==============================] - 0s 2ms/step - loss: 0.3879 - accuracy: 0.8496\n",
      "Epoch 131/300\n",
      "80/80 [==============================] - 0s 2ms/step - loss: 0.3909 - accuracy: 0.8488\n",
      "Epoch 132/300\n",
      "80/80 [==============================] - 0s 2ms/step - loss: 0.3880 - accuracy: 0.8504\n",
      "Epoch 133/300\n",
      "80/80 [==============================] - 0s 2ms/step - loss: 0.3932 - accuracy: 0.8527\n",
      "Epoch 134/300\n",
      "80/80 [==============================] - 0s 2ms/step - loss: 0.3891 - accuracy: 0.8520\n",
      "Epoch 135/300\n",
      "80/80 [==============================] - 0s 2ms/step - loss: 0.3903 - accuracy: 0.8492\n",
      "Epoch 136/300\n",
      "80/80 [==============================] - 0s 2ms/step - loss: 0.3895 - accuracy: 0.8496\n",
      "Epoch 137/300\n",
      "80/80 [==============================] - 0s 2ms/step - loss: 0.3956 - accuracy: 0.8512\n",
      "Epoch 138/300\n",
      "80/80 [==============================] - 0s 2ms/step - loss: 0.3942 - accuracy: 0.8527\n",
      "Epoch 139/300\n",
      "80/80 [==============================] - 0s 2ms/step - loss: 0.3893 - accuracy: 0.8516\n",
      "Epoch 140/300\n",
      "80/80 [==============================] - 0s 2ms/step - loss: 0.3937 - accuracy: 0.8453\n",
      "Epoch 141/300\n",
      "80/80 [==============================] - 0s 2ms/step - loss: 0.3872 - accuracy: 0.8488\n",
      "Epoch 142/300\n",
      "80/80 [==============================] - 0s 2ms/step - loss: 0.3865 - accuracy: 0.8523\n",
      "Epoch 143/300\n",
      "80/80 [==============================] - 0s 2ms/step - loss: 0.3862 - accuracy: 0.8504\n",
      "Epoch 144/300\n",
      "80/80 [==============================] - 0s 2ms/step - loss: 0.3888 - accuracy: 0.8535\n",
      "Epoch 145/300\n",
      "80/80 [==============================] - 0s 3ms/step - loss: 0.3891 - accuracy: 0.8500\n",
      "Epoch 146/300\n",
      "80/80 [==============================] - 0s 3ms/step - loss: 0.3896 - accuracy: 0.8520\n",
      "Epoch 147/300\n",
      "80/80 [==============================] - 0s 4ms/step - loss: 0.4018 - accuracy: 0.8477\n",
      "Epoch 148/300\n",
      "80/80 [==============================] - 0s 3ms/step - loss: 0.3910 - accuracy: 0.8500\n",
      "Epoch 149/300\n",
      "80/80 [==============================] - 0s 3ms/step - loss: 0.3866 - accuracy: 0.8520\n",
      "Epoch 150/300\n",
      "80/80 [==============================] - 0s 3ms/step - loss: 0.3927 - accuracy: 0.8523\n",
      "Epoch 151/300\n",
      "80/80 [==============================] - 0s 4ms/step - loss: 0.3876 - accuracy: 0.8531\n",
      "Epoch 152/300\n",
      "80/80 [==============================] - 0s 3ms/step - loss: 0.3867 - accuracy: 0.8508\n",
      "Epoch 153/300\n",
      "80/80 [==============================] - 0s 3ms/step - loss: 0.3945 - accuracy: 0.8504\n",
      "Epoch 154/300\n",
      "80/80 [==============================] - 0s 3ms/step - loss: 0.3934 - accuracy: 0.8531\n",
      "Epoch 155/300\n",
      "80/80 [==============================] - 0s 3ms/step - loss: 0.3895 - accuracy: 0.8512\n",
      "Epoch 156/300\n",
      "80/80 [==============================] - 0s 3ms/step - loss: 0.3854 - accuracy: 0.8516\n",
      "Epoch 157/300\n",
      "80/80 [==============================] - 0s 3ms/step - loss: 0.3856 - accuracy: 0.8516\n",
      "Epoch 158/300\n",
      "80/80 [==============================] - 0s 3ms/step - loss: 0.3906 - accuracy: 0.8488\n",
      "Epoch 159/300\n",
      "80/80 [==============================] - 0s 4ms/step - loss: 0.3892 - accuracy: 0.8520\n",
      "Epoch 160/300\n",
      "80/80 [==============================] - 0s 3ms/step - loss: 0.3891 - accuracy: 0.8488\n",
      "Epoch 161/300\n",
      "80/80 [==============================] - 0s 3ms/step - loss: 0.3880 - accuracy: 0.8504\n",
      "Epoch 162/300\n",
      "80/80 [==============================] - 0s 3ms/step - loss: 0.3920 - accuracy: 0.8504\n",
      "Epoch 163/300\n",
      "80/80 [==============================] - 0s 2ms/step - loss: 0.3896 - accuracy: 0.8473\n",
      "Epoch 164/300\n",
      "80/80 [==============================] - 0s 2ms/step - loss: 0.3889 - accuracy: 0.8500\n",
      "Epoch 165/300\n",
      "80/80 [==============================] - 0s 2ms/step - loss: 0.3891 - accuracy: 0.8484\n",
      "Epoch 166/300\n",
      "80/80 [==============================] - 0s 2ms/step - loss: 0.3866 - accuracy: 0.8520\n",
      "Epoch 167/300\n",
      "80/80 [==============================] - 0s 2ms/step - loss: 0.3897 - accuracy: 0.8504\n",
      "Epoch 168/300\n",
      "80/80 [==============================] - 0s 2ms/step - loss: 0.3894 - accuracy: 0.8523\n",
      "Epoch 169/300\n",
      "80/80 [==============================] - 0s 2ms/step - loss: 0.3873 - accuracy: 0.8504\n",
      "Epoch 170/300\n",
      "80/80 [==============================] - 0s 2ms/step - loss: 0.3880 - accuracy: 0.8504\n",
      "Epoch 171/300\n",
      "80/80 [==============================] - 0s 2ms/step - loss: 0.3888 - accuracy: 0.8520\n",
      "Epoch 172/300\n",
      "80/80 [==============================] - 0s 3ms/step - loss: 0.3865 - accuracy: 0.8473\n",
      "Epoch 173/300\n",
      "80/80 [==============================] - 0s 3ms/step - loss: 0.3886 - accuracy: 0.8496\n",
      "Epoch 174/300\n",
      "80/80 [==============================] - 0s 3ms/step - loss: 0.3878 - accuracy: 0.8516\n",
      "Epoch 175/300\n",
      "80/80 [==============================] - 0s 3ms/step - loss: 0.3849 - accuracy: 0.8531\n",
      "Epoch 176/300\n",
      "80/80 [==============================] - 0s 4ms/step - loss: 0.3889 - accuracy: 0.8480\n",
      "Epoch 177/300\n",
      "80/80 [==============================] - 0s 3ms/step - loss: 0.3893 - accuracy: 0.8508\n",
      "Epoch 178/300\n",
      "80/80 [==============================] - 0s 3ms/step - loss: 0.3869 - accuracy: 0.8539\n",
      "Epoch 179/300\n",
      "80/80 [==============================] - 0s 3ms/step - loss: 0.3839 - accuracy: 0.8516\n",
      "Epoch 180/300\n",
      "80/80 [==============================] - 0s 3ms/step - loss: 0.3888 - accuracy: 0.8527\n",
      "Epoch 181/300\n",
      "80/80 [==============================] - 0s 3ms/step - loss: 0.3880 - accuracy: 0.8488\n",
      "Epoch 182/300\n",
      "80/80 [==============================] - 0s 3ms/step - loss: 0.3916 - accuracy: 0.8523\n",
      "Epoch 183/300\n",
      "80/80 [==============================] - 0s 4ms/step - loss: 0.3854 - accuracy: 0.8516\n",
      "Epoch 184/300\n",
      "80/80 [==============================] - 0s 3ms/step - loss: 0.3867 - accuracy: 0.8508\n",
      "Epoch 185/300\n",
      "80/80 [==============================] - 0s 3ms/step - loss: 0.3879 - accuracy: 0.8496\n",
      "Epoch 186/300\n",
      "80/80 [==============================] - 0s 3ms/step - loss: 0.3899 - accuracy: 0.8492\n",
      "Epoch 187/300\n",
      "80/80 [==============================] - 0s 3ms/step - loss: 0.3879 - accuracy: 0.8527\n",
      "Epoch 188/300\n",
      "80/80 [==============================] - 0s 4ms/step - loss: 0.3900 - accuracy: 0.8527\n",
      "Epoch 189/300\n",
      "80/80 [==============================] - 0s 2ms/step - loss: 0.3905 - accuracy: 0.8523\n",
      "Epoch 190/300\n",
      "80/80 [==============================] - 0s 2ms/step - loss: 0.3883 - accuracy: 0.8520\n",
      "Epoch 191/300\n",
      "80/80 [==============================] - 0s 2ms/step - loss: 0.3859 - accuracy: 0.8492\n",
      "Epoch 192/300\n",
      "80/80 [==============================] - 0s 2ms/step - loss: 0.3860 - accuracy: 0.8512\n",
      "Epoch 193/300\n",
      "80/80 [==============================] - 0s 2ms/step - loss: 0.3886 - accuracy: 0.8516\n",
      "Epoch 194/300\n",
      "80/80 [==============================] - 0s 2ms/step - loss: 0.3888 - accuracy: 0.8488\n",
      "Epoch 195/300\n",
      "80/80 [==============================] - 0s 2ms/step - loss: 0.3882 - accuracy: 0.8531\n",
      "Epoch 196/300\n",
      "80/80 [==============================] - 0s 2ms/step - loss: 0.3889 - accuracy: 0.8527\n",
      "Epoch 197/300\n",
      "80/80 [==============================] - 0s 2ms/step - loss: 0.3850 - accuracy: 0.8508\n",
      "Epoch 198/300\n",
      "80/80 [==============================] - 0s 2ms/step - loss: 0.3882 - accuracy: 0.8512\n",
      "Epoch 199/300\n",
      "80/80 [==============================] - 0s 2ms/step - loss: 0.3863 - accuracy: 0.8512\n",
      "Epoch 200/300\n",
      "80/80 [==============================] - 0s 2ms/step - loss: 0.3874 - accuracy: 0.8504\n",
      "Epoch 201/300\n",
      "80/80 [==============================] - 0s 2ms/step - loss: 0.3846 - accuracy: 0.8504\n",
      "Epoch 202/300\n",
      "80/80 [==============================] - 0s 2ms/step - loss: 0.3869 - accuracy: 0.8496\n",
      "Epoch 203/300\n",
      "80/80 [==============================] - 0s 2ms/step - loss: 0.3861 - accuracy: 0.8516\n",
      "Epoch 204/300\n",
      "80/80 [==============================] - 0s 2ms/step - loss: 0.3896 - accuracy: 0.8512\n",
      "Epoch 205/300\n",
      "80/80 [==============================] - 0s 2ms/step - loss: 0.3867 - accuracy: 0.8496\n",
      "Epoch 206/300\n",
      "80/80 [==============================] - 0s 2ms/step - loss: 0.3832 - accuracy: 0.8523\n",
      "Epoch 207/300\n",
      "80/80 [==============================] - 0s 2ms/step - loss: 0.3883 - accuracy: 0.8480\n",
      "Epoch 208/300\n",
      "80/80 [==============================] - 0s 2ms/step - loss: 0.3886 - accuracy: 0.8520\n",
      "Epoch 209/300\n",
      "80/80 [==============================] - 0s 2ms/step - loss: 0.3868 - accuracy: 0.8504\n",
      "Epoch 210/300\n",
      "80/80 [==============================] - 0s 2ms/step - loss: 0.3914 - accuracy: 0.8492\n",
      "Epoch 211/300\n",
      "80/80 [==============================] - 0s 2ms/step - loss: 0.3848 - accuracy: 0.8520\n",
      "Epoch 212/300\n",
      "80/80 [==============================] - 0s 2ms/step - loss: 0.3865 - accuracy: 0.8520\n",
      "Epoch 213/300\n",
      "80/80 [==============================] - 0s 2ms/step - loss: 0.3846 - accuracy: 0.8512\n",
      "Epoch 214/300\n",
      "80/80 [==============================] - 0s 2ms/step - loss: 0.3830 - accuracy: 0.8500\n",
      "Epoch 215/300\n",
      "80/80 [==============================] - 0s 2ms/step - loss: 0.3908 - accuracy: 0.8496\n",
      "Epoch 216/300\n",
      "80/80 [==============================] - 0s 2ms/step - loss: 0.3858 - accuracy: 0.8500\n",
      "Epoch 217/300\n",
      "80/80 [==============================] - 0s 2ms/step - loss: 0.3846 - accuracy: 0.8512\n",
      "Epoch 218/300\n",
      "80/80 [==============================] - 0s 2ms/step - loss: 0.3880 - accuracy: 0.8488\n",
      "Epoch 219/300\n",
      "80/80 [==============================] - 0s 2ms/step - loss: 0.3846 - accuracy: 0.8500\n",
      "Epoch 220/300\n",
      "80/80 [==============================] - 0s 2ms/step - loss: 0.3857 - accuracy: 0.8508\n",
      "Epoch 221/300\n",
      "80/80 [==============================] - 0s 2ms/step - loss: 0.3860 - accuracy: 0.8492\n",
      "Epoch 222/300\n",
      "80/80 [==============================] - 0s 2ms/step - loss: 0.3858 - accuracy: 0.8500\n",
      "Epoch 223/300\n",
      "80/80 [==============================] - 0s 2ms/step - loss: 0.3854 - accuracy: 0.8508\n",
      "Epoch 224/300\n",
      "80/80 [==============================] - 0s 2ms/step - loss: 0.3880 - accuracy: 0.8492\n",
      "Epoch 225/300\n",
      "80/80 [==============================] - 0s 2ms/step - loss: 0.3856 - accuracy: 0.8512\n",
      "Epoch 226/300\n",
      "80/80 [==============================] - 0s 2ms/step - loss: 0.3848 - accuracy: 0.8543\n",
      "Epoch 227/300\n",
      "80/80 [==============================] - 0s 2ms/step - loss: 0.3857 - accuracy: 0.8523\n",
      "Epoch 228/300\n",
      "80/80 [==============================] - 0s 2ms/step - loss: 0.3844 - accuracy: 0.8516\n",
      "Epoch 229/300\n",
      "80/80 [==============================] - 0s 2ms/step - loss: 0.3848 - accuracy: 0.8512\n",
      "Epoch 230/300\n",
      "80/80 [==============================] - 0s 2ms/step - loss: 0.3848 - accuracy: 0.8500\n",
      "Epoch 231/300\n",
      "80/80 [==============================] - 0s 2ms/step - loss: 0.3861 - accuracy: 0.8488\n",
      "Epoch 232/300\n",
      "80/80 [==============================] - 0s 2ms/step - loss: 0.3875 - accuracy: 0.8473\n",
      "Epoch 233/300\n",
      "80/80 [==============================] - 0s 2ms/step - loss: 0.3869 - accuracy: 0.8492\n",
      "Epoch 234/300\n",
      "80/80 [==============================] - 0s 2ms/step - loss: 0.3842 - accuracy: 0.8520\n",
      "Epoch 235/300\n",
      "80/80 [==============================] - 0s 2ms/step - loss: 0.3922 - accuracy: 0.8500\n",
      "Epoch 236/300\n",
      "80/80 [==============================] - 0s 2ms/step - loss: 0.3833 - accuracy: 0.8520\n",
      "Epoch 237/300\n",
      "80/80 [==============================] - 0s 2ms/step - loss: 0.3854 - accuracy: 0.8512\n",
      "Epoch 238/300\n",
      "80/80 [==============================] - 0s 2ms/step - loss: 0.3825 - accuracy: 0.8543\n",
      "Epoch 239/300\n",
      "80/80 [==============================] - 0s 2ms/step - loss: 0.3821 - accuracy: 0.8508\n",
      "Epoch 240/300\n",
      "80/80 [==============================] - 0s 2ms/step - loss: 0.3840 - accuracy: 0.8516\n",
      "Epoch 241/300\n",
      "80/80 [==============================] - 0s 2ms/step - loss: 0.3854 - accuracy: 0.8500\n",
      "Epoch 242/300\n",
      "80/80 [==============================] - 0s 2ms/step - loss: 0.3842 - accuracy: 0.8516\n",
      "Epoch 243/300\n",
      "80/80 [==============================] - 0s 2ms/step - loss: 0.3860 - accuracy: 0.8516\n",
      "Epoch 244/300\n",
      "80/80 [==============================] - 0s 2ms/step - loss: 0.3852 - accuracy: 0.8516\n",
      "Epoch 245/300\n",
      "80/80 [==============================] - 0s 3ms/step - loss: 0.3870 - accuracy: 0.8512\n",
      "Epoch 246/300\n",
      "80/80 [==============================] - 0s 3ms/step - loss: 0.3823 - accuracy: 0.8527\n",
      "Epoch 247/300\n",
      "80/80 [==============================] - 0s 3ms/step - loss: 0.3860 - accuracy: 0.8512\n",
      "Epoch 248/300\n",
      "80/80 [==============================] - 0s 3ms/step - loss: 0.3857 - accuracy: 0.8512\n",
      "Epoch 249/300\n",
      "80/80 [==============================] - 0s 3ms/step - loss: 0.3817 - accuracy: 0.8504\n",
      "Epoch 250/300\n",
      "80/80 [==============================] - 0s 2ms/step - loss: 0.3860 - accuracy: 0.8516\n",
      "Epoch 251/300\n",
      "80/80 [==============================] - 0s 3ms/step - loss: 0.3821 - accuracy: 0.8508\n",
      "Epoch 252/300\n",
      "80/80 [==============================] - 0s 4ms/step - loss: 0.3833 - accuracy: 0.8484\n",
      "Epoch 253/300\n",
      "80/80 [==============================] - 0s 3ms/step - loss: 0.3824 - accuracy: 0.8531\n",
      "Epoch 254/300\n",
      "80/80 [==============================] - 0s 3ms/step - loss: 0.3905 - accuracy: 0.8496\n",
      "Epoch 255/300\n",
      "80/80 [==============================] - 0s 3ms/step - loss: 0.3865 - accuracy: 0.8492\n",
      "Epoch 256/300\n",
      "80/80 [==============================] - 0s 4ms/step - loss: 0.3827 - accuracy: 0.8508\n",
      "Epoch 257/300\n",
      "80/80 [==============================] - 0s 3ms/step - loss: 0.3850 - accuracy: 0.8520\n",
      "Epoch 258/300\n",
      "80/80 [==============================] - 0s 3ms/step - loss: 0.3828 - accuracy: 0.8500\n",
      "Epoch 259/300\n",
      "80/80 [==============================] - 0s 3ms/step - loss: 0.3827 - accuracy: 0.8492\n",
      "Epoch 260/300\n",
      "80/80 [==============================] - 0s 3ms/step - loss: 0.3830 - accuracy: 0.8535\n",
      "Epoch 261/300\n",
      "80/80 [==============================] - 0s 4ms/step - loss: 0.3814 - accuracy: 0.8500\n",
      "Epoch 262/300\n",
      "80/80 [==============================] - 0s 4ms/step - loss: 0.3831 - accuracy: 0.8512\n",
      "Epoch 263/300\n",
      "80/80 [==============================] - 0s 3ms/step - loss: 0.3821 - accuracy: 0.8523\n",
      "Epoch 264/300\n",
      "80/80 [==============================] - 0s 2ms/step - loss: 0.3887 - accuracy: 0.8508\n",
      "Epoch 265/300\n",
      "80/80 [==============================] - 0s 2ms/step - loss: 0.3820 - accuracy: 0.8512\n",
      "Epoch 266/300\n",
      "80/80 [==============================] - 0s 2ms/step - loss: 0.3848 - accuracy: 0.8508\n",
      "Epoch 267/300\n",
      "80/80 [==============================] - 0s 2ms/step - loss: 0.3802 - accuracy: 0.8504\n",
      "Epoch 268/300\n",
      "80/80 [==============================] - 0s 2ms/step - loss: 0.3826 - accuracy: 0.8512\n",
      "Epoch 269/300\n",
      "80/80 [==============================] - 0s 2ms/step - loss: 0.3815 - accuracy: 0.8512\n",
      "Epoch 270/300\n",
      "80/80 [==============================] - 0s 2ms/step - loss: 0.3866 - accuracy: 0.8527\n",
      "Epoch 271/300\n",
      "80/80 [==============================] - 0s 2ms/step - loss: 0.3848 - accuracy: 0.8512\n",
      "Epoch 272/300\n",
      "80/80 [==============================] - 0s 2ms/step - loss: 0.3807 - accuracy: 0.8512\n",
      "Epoch 273/300\n",
      "80/80 [==============================] - 0s 2ms/step - loss: 0.3852 - accuracy: 0.8473\n",
      "Epoch 274/300\n",
      "80/80 [==============================] - 0s 2ms/step - loss: 0.3818 - accuracy: 0.8500\n",
      "Epoch 275/300\n",
      "80/80 [==============================] - 0s 2ms/step - loss: 0.3955 - accuracy: 0.8465\n",
      "Epoch 276/300\n",
      "80/80 [==============================] - 0s 2ms/step - loss: 0.3822 - accuracy: 0.8520\n",
      "Epoch 277/300\n",
      "80/80 [==============================] - 0s 2ms/step - loss: 0.3848 - accuracy: 0.8469\n",
      "Epoch 278/300\n",
      "80/80 [==============================] - 0s 2ms/step - loss: 0.3836 - accuracy: 0.8500\n",
      "Epoch 279/300\n",
      "80/80 [==============================] - 0s 2ms/step - loss: 0.3809 - accuracy: 0.8508\n",
      "Epoch 280/300\n",
      "80/80 [==============================] - 0s 2ms/step - loss: 0.3853 - accuracy: 0.8504\n",
      "Epoch 281/300\n",
      "80/80 [==============================] - 0s 2ms/step - loss: 0.3834 - accuracy: 0.8492\n",
      "Epoch 282/300\n",
      "80/80 [==============================] - 0s 2ms/step - loss: 0.3802 - accuracy: 0.8520\n",
      "Epoch 283/300\n",
      "80/80 [==============================] - 0s 2ms/step - loss: 0.3801 - accuracy: 0.8496\n",
      "Epoch 284/300\n",
      "80/80 [==============================] - 0s 2ms/step - loss: 0.3806 - accuracy: 0.8520\n",
      "Epoch 285/300\n",
      "80/80 [==============================] - 0s 2ms/step - loss: 0.3798 - accuracy: 0.8500\n",
      "Epoch 286/300\n",
      "80/80 [==============================] - 0s 2ms/step - loss: 0.3837 - accuracy: 0.8508\n",
      "Epoch 287/300\n",
      "80/80 [==============================] - 0s 2ms/step - loss: 0.3800 - accuracy: 0.8531\n",
      "Epoch 288/300\n",
      "80/80 [==============================] - 0s 2ms/step - loss: 0.3821 - accuracy: 0.8492\n",
      "Epoch 289/300\n",
      "80/80 [==============================] - 0s 2ms/step - loss: 0.3859 - accuracy: 0.8488\n",
      "Epoch 290/300\n",
      "80/80 [==============================] - 0s 2ms/step - loss: 0.3807 - accuracy: 0.8512\n",
      "Epoch 291/300\n",
      "80/80 [==============================] - 0s 2ms/step - loss: 0.3820 - accuracy: 0.8473\n",
      "Epoch 292/300\n",
      "80/80 [==============================] - 0s 2ms/step - loss: 0.3806 - accuracy: 0.8516\n",
      "Epoch 293/300\n",
      "80/80 [==============================] - 0s 2ms/step - loss: 0.3834 - accuracy: 0.8523\n",
      "Epoch 294/300\n",
      "80/80 [==============================] - 0s 2ms/step - loss: 0.3840 - accuracy: 0.8508\n",
      "Epoch 295/300\n",
      "80/80 [==============================] - 0s 2ms/step - loss: 0.3795 - accuracy: 0.8516\n",
      "Epoch 296/300\n",
      "80/80 [==============================] - 0s 2ms/step - loss: 0.3819 - accuracy: 0.8523\n",
      "Epoch 297/300\n",
      "80/80 [==============================] - 0s 2ms/step - loss: 0.3805 - accuracy: 0.8531\n",
      "Epoch 298/300\n",
      "80/80 [==============================] - 0s 2ms/step - loss: 0.3818 - accuracy: 0.8500\n",
      "Epoch 299/300\n",
      "80/80 [==============================] - 0s 2ms/step - loss: 0.3799 - accuracy: 0.8527\n",
      "Epoch 300/300\n",
      "80/80 [==============================] - 0s 2ms/step - loss: 0.3816 - accuracy: 0.8547\n"
     ]
    },
    {
     "data": {
      "text/plain": [
       "<keras.src.callbacks.History at 0x7a2f3c6520e0>"
      ]
     },
     "execution_count": 114,
     "metadata": {},
     "output_type": "execute_result"
    }
   ],
   "source": [
    "model.fit(X_train,y_train,epochs=300)"
   ]
  },
  {
   "cell_type": "code",
   "execution_count": null,
   "metadata": {
    "colab": {
     "base_uri": "https://localhost:8080/"
    },
    "executionInfo": {
     "elapsed": 362,
     "status": "ok",
     "timestamp": 1714823417823,
     "user": {
      "displayName": "Nakato Esther",
      "userId": "16250477698798363218"
     },
     "user_tz": -180
    },
    "id": "Rrg7ptK-xPno",
    "outputId": "a84a160a-c706-4f49-b6e5-8f937b4b5225"
   },
   "outputs": [
    {
     "name": "stdout",
     "output_type": "stream",
     "text": [
      "35/35 [==============================] - 0s 2ms/step\n"
     ]
    }
   ],
   "source": [
    "y_pred_nn = model.predict(X_test)\n"
   ]
  },
  {
   "cell_type": "code",
   "execution_count": null,
   "metadata": {
    "colab": {
     "base_uri": "https://localhost:8080/"
    },
    "executionInfo": {
     "elapsed": 424,
     "status": "ok",
     "timestamp": 1714819112298,
     "user": {
      "displayName": "Nakato Esther",
      "userId": "16250477698798363218"
     },
     "user_tz": -180
    },
    "id": "hqOubA5vp0ta",
    "outputId": "55d4aa23-c3c4-4dc3-b28a-389666f986c8"
   },
   "outputs": [
    {
     "data": {
      "text/plain": [
       "(1098, 1)"
      ]
     },
     "execution_count": 78,
     "metadata": {},
     "output_type": "execute_result"
    }
   ],
   "source": [
    "y_pred_nn.shape"
   ]
  },
  {
   "cell_type": "code",
   "execution_count": null,
   "metadata": {
    "id": "zMHOaxkHrXCa"
   },
   "outputs": [],
   "source": [
    "#Applying the ML model- Logistic Regration\n",
    "from sklearn.linear_model import LogisticRegression\n",
    "logreg = LogisticRegression()"
   ]
  },
  {
   "cell_type": "code",
   "execution_count": null,
   "metadata": {
    "colab": {
     "base_uri": "https://localhost:8080/",
     "height": 75
    },
    "executionInfo": {
     "elapsed": 414,
     "status": "ok",
     "timestamp": 1714819131249,
     "user": {
      "displayName": "Nakato Esther",
      "userId": "16250477698798363218"
     },
     "user_tz": -180
    },
    "id": "HkoUG2_krsVX",
    "outputId": "c9a7e42c-ee60-4ba2-a3d5-9664a6560fdd"
   },
   "outputs": [
    {
     "data": {
      "text/html": [
       "<style>#sk-container-id-1 {color: black;background-color: white;}#sk-container-id-1 pre{padding: 0;}#sk-container-id-1 div.sk-toggleable {background-color: white;}#sk-container-id-1 label.sk-toggleable__label {cursor: pointer;display: block;width: 100%;margin-bottom: 0;padding: 0.3em;box-sizing: border-box;text-align: center;}#sk-container-id-1 label.sk-toggleable__label-arrow:before {content: \"▸\";float: left;margin-right: 0.25em;color: #696969;}#sk-container-id-1 label.sk-toggleable__label-arrow:hover:before {color: black;}#sk-container-id-1 div.sk-estimator:hover label.sk-toggleable__label-arrow:before {color: black;}#sk-container-id-1 div.sk-toggleable__content {max-height: 0;max-width: 0;overflow: hidden;text-align: left;background-color: #f0f8ff;}#sk-container-id-1 div.sk-toggleable__content pre {margin: 0.2em;color: black;border-radius: 0.25em;background-color: #f0f8ff;}#sk-container-id-1 input.sk-toggleable__control:checked~div.sk-toggleable__content {max-height: 200px;max-width: 100%;overflow: auto;}#sk-container-id-1 input.sk-toggleable__control:checked~label.sk-toggleable__label-arrow:before {content: \"▾\";}#sk-container-id-1 div.sk-estimator input.sk-toggleable__control:checked~label.sk-toggleable__label {background-color: #d4ebff;}#sk-container-id-1 div.sk-label input.sk-toggleable__control:checked~label.sk-toggleable__label {background-color: #d4ebff;}#sk-container-id-1 input.sk-hidden--visually {border: 0;clip: rect(1px 1px 1px 1px);clip: rect(1px, 1px, 1px, 1px);height: 1px;margin: -1px;overflow: hidden;padding: 0;position: absolute;width: 1px;}#sk-container-id-1 div.sk-estimator {font-family: monospace;background-color: #f0f8ff;border: 1px dotted black;border-radius: 0.25em;box-sizing: border-box;margin-bottom: 0.5em;}#sk-container-id-1 div.sk-estimator:hover {background-color: #d4ebff;}#sk-container-id-1 div.sk-parallel-item::after {content: \"\";width: 100%;border-bottom: 1px solid gray;flex-grow: 1;}#sk-container-id-1 div.sk-label:hover label.sk-toggleable__label {background-color: #d4ebff;}#sk-container-id-1 div.sk-serial::before {content: \"\";position: absolute;border-left: 1px solid gray;box-sizing: border-box;top: 0;bottom: 0;left: 50%;z-index: 0;}#sk-container-id-1 div.sk-serial {display: flex;flex-direction: column;align-items: center;background-color: white;padding-right: 0.2em;padding-left: 0.2em;position: relative;}#sk-container-id-1 div.sk-item {position: relative;z-index: 1;}#sk-container-id-1 div.sk-parallel {display: flex;align-items: stretch;justify-content: center;background-color: white;position: relative;}#sk-container-id-1 div.sk-item::before, #sk-container-id-1 div.sk-parallel-item::before {content: \"\";position: absolute;border-left: 1px solid gray;box-sizing: border-box;top: 0;bottom: 0;left: 50%;z-index: -1;}#sk-container-id-1 div.sk-parallel-item {display: flex;flex-direction: column;z-index: 1;position: relative;background-color: white;}#sk-container-id-1 div.sk-parallel-item:first-child::after {align-self: flex-end;width: 50%;}#sk-container-id-1 div.sk-parallel-item:last-child::after {align-self: flex-start;width: 50%;}#sk-container-id-1 div.sk-parallel-item:only-child::after {width: 0;}#sk-container-id-1 div.sk-dashed-wrapped {border: 1px dashed gray;margin: 0 0.4em 0.5em 0.4em;box-sizing: border-box;padding-bottom: 0.4em;background-color: white;}#sk-container-id-1 div.sk-label label {font-family: monospace;font-weight: bold;display: inline-block;line-height: 1.2em;}#sk-container-id-1 div.sk-label-container {text-align: center;}#sk-container-id-1 div.sk-container {/* jupyter's `normalize.less` sets `[hidden] { display: none; }` but bootstrap.min.css set `[hidden] { display: none !important; }` so we also need the `!important` here to be able to override the default hidden behavior on the sphinx rendered scikit-learn.org. See: https://github.com/scikit-learn/scikit-learn/issues/21755 */display: inline-block !important;position: relative;}#sk-container-id-1 div.sk-text-repr-fallback {display: none;}</style><div id=\"sk-container-id-1\" class=\"sk-top-container\"><div class=\"sk-text-repr-fallback\"><pre>LogisticRegression()</pre><b>In a Jupyter environment, please rerun this cell to show the HTML representation or trust the notebook. <br />On GitHub, the HTML representation is unable to render, please try loading this page with nbviewer.org.</b></div><div class=\"sk-container\" hidden><div class=\"sk-item\"><div class=\"sk-estimator sk-toggleable\"><input class=\"sk-toggleable__control sk-hidden--visually\" id=\"sk-estimator-id-1\" type=\"checkbox\" checked><label for=\"sk-estimator-id-1\" class=\"sk-toggleable__label sk-toggleable__label-arrow\">LogisticRegression</label><div class=\"sk-toggleable__content\"><pre>LogisticRegression()</pre></div></div></div></div></div>"
      ],
      "text/plain": [
       "LogisticRegression()"
      ]
     },
     "execution_count": 80,
     "metadata": {},
     "output_type": "execute_result"
    }
   ],
   "source": [
    "#Training data\n",
    "logreg.fit(X_train, y_train)"
   ]
  },
  {
   "cell_type": "code",
   "execution_count": null,
   "metadata": {
    "id": "B_UJFGXrrxfR"
   },
   "outputs": [],
   "source": [
    "#Testing Data\n",
    "y_pred = logreg.predict(X_test)"
   ]
  },
  {
   "cell_type": "code",
   "execution_count": null,
   "metadata": {
    "colab": {
     "base_uri": "https://localhost:8080/"
    },
    "executionInfo": {
     "elapsed": 381,
     "status": "ok",
     "timestamp": 1714820714995,
     "user": {
      "displayName": "Nakato Esther",
      "userId": "16250477698798363218"
     },
     "user_tz": -180
    },
    "id": "Aa2NN5foRzJ2",
    "outputId": "4eeb650f-97b0-4033-98e1-399fa685413f"
   },
   "outputs": [
    {
     "data": {
      "text/plain": [
       "array([0, 0, 0, ..., 0, 0, 0])"
      ]
     },
     "execution_count": 103,
     "metadata": {},
     "output_type": "execute_result"
    }
   ],
   "source": [
    "y_pred"
   ]
  },
  {
   "cell_type": "code",
   "execution_count": null,
   "metadata": {
    "colab": {
     "base_uri": "https://localhost:8080/"
    },
    "executionInfo": {
     "elapsed": 5,
     "status": "ok",
     "timestamp": 1714819139185,
     "user": {
      "displayName": "Nakato Esther",
      "userId": "16250477698798363218"
     },
     "user_tz": -180
    },
    "id": "4xI2NVynr3mx",
    "outputId": "46b79de3-4d3e-4dfb-9cad-cec110fe87cb"
   },
   "outputs": [
    {
     "name": "stdout",
     "output_type": "stream",
     "text": [
      "Prediction score is: 0.848816029143898\n"
     ]
    }
   ],
   "source": [
    "# Predicting the score\n",
    "score = logreg.score(X_test, y_test)\n",
    "print(\"Prediction score is:\",score)"
   ]
  },
  {
   "cell_type": "code",
   "execution_count": null,
   "metadata": {
    "colab": {
     "base_uri": "https://localhost:8080/"
    },
    "executionInfo": {
     "elapsed": 353,
     "status": "ok",
     "timestamp": 1714819143824,
     "user": {
      "displayName": "Nakato Esther",
      "userId": "16250477698798363218"
     },
     "user_tz": -180
    },
    "id": "z8Gz-_G9sAEA",
    "outputId": "34e56b28-f008-4c97-bd4d-7a9b0ddaea11"
   },
   "outputs": [
    {
     "name": "stdout",
     "output_type": "stream",
     "text": [
      "Confusion Matrix is:\n",
      " [[927   4]\n",
      " [162   5]]\n"
     ]
    }
   ],
   "source": [
    "#Getting the Confusion Matrix and Classification Report\n",
    "# Confusion Matrix\n",
    "from sklearn.metrics import confusion_matrix, classification_report\n",
    "cm = confusion_matrix(y_test, y_pred)\n",
    "print(\"Confusion Matrix is:\\n\",cm)"
   ]
  },
  {
   "cell_type": "code",
   "execution_count": null,
   "metadata": {
    "colab": {
     "base_uri": "https://localhost:8080/"
    },
    "executionInfo": {
     "elapsed": 403,
     "status": "ok",
     "timestamp": 1714819187306,
     "user": {
      "displayName": "Nakato Esther",
      "userId": "16250477698798363218"
     },
     "user_tz": -180
    },
    "id": "gL1ea8_rsTRI",
    "outputId": "99f9dea1-675e-4b5d-926a-a36f0f0524ec"
   },
   "outputs": [
    {
     "name": "stdout",
     "output_type": "stream",
     "text": [
      "Classification Report is:\n",
      "\n",
      "               precision    recall  f1-score   support\n",
      "\n",
      "           0       0.85      1.00      0.92       931\n",
      "           1       0.56      0.03      0.06       167\n",
      "\n",
      "    accuracy                           0.85      1098\n",
      "   macro avg       0.70      0.51      0.49      1098\n",
      "weighted avg       0.81      0.85      0.79      1098\n",
      "\n"
     ]
    }
   ],
   "source": [
    "#Classification Report\n",
    "print(\"Classification Report is:\\n\\n\",classification_report(y_test,y_pred))"
   ]
  },
  {
   "cell_type": "code",
   "execution_count": null,
   "metadata": {
    "colab": {
     "base_uri": "https://localhost:8080/",
     "height": 516
    },
    "executionInfo": {
     "elapsed": 709,
     "status": "ok",
     "timestamp": 1714819292801,
     "user": {
      "displayName": "Nakato Esther",
      "userId": "16250477698798363218"
     },
     "user_tz": -180
    },
    "id": "eRMMem4is8Jw",
    "outputId": "1976330b-8036-44d9-8a70-fc584fa4a9ab"
   },
   "outputs": [
    {
     "data": {
      "image/png": "[encoded data removed]",
      "text/plain": [
       "<Figure size 1000x600 with 2 Axes>"
      ]
     },
     "metadata": {},
     "output_type": "display_data"
    }
   ],
   "source": [
    "#Plotting Confusion Matrix\n",
    "conf_matrix = pd.DataFrame(data = cm,\n",
    "                           columns = ['Predicted:0', 'Predicted:1'],\n",
    "                           index =['Actual:0', 'Actual:1'])\n",
    "plt.figure(figsize = (10, 6))\n",
    "sns.heatmap(conf_matrix, annot = True, fmt = 'd', cmap = \"Greens\", linecolor=\"Blue\", linewidths=1.5)\n",
    "plt.show()"
   ]
  },
  {
   "cell_type": "code",
   "execution_count": null,
   "metadata": {
    "id": "M5vFMOnzmQww"
   },
   "outputs": [],
   "source": [
    "#Logistic Regression\n",
    "\n",
    "from sklearn.linear_model import LogisticRegression\n",
    "\n",
    "lr = LogisticRegression()\n",
    "\n",
    "lr.fit(X_train,y_train)\n",
    "\n",
    "y_pred_lr = lr.predict(X_test)\n"
   ]
  },
  {
   "cell_type": "code",
   "execution_count": null,
   "metadata": {
    "colab": {
     "base_uri": "https://localhost:8080/"
    },
    "executionInfo": {
     "elapsed": 502,
     "status": "ok",
     "timestamp": 1714819327595,
     "user": {
      "displayName": "Nakato Esther",
      "userId": "16250477698798363218"
     },
     "user_tz": -180
    },
    "id": "KwiDt197o9Pt",
    "outputId": "4225950c-4c9c-445c-bfae-4ec95c6d09b6"
   },
   "outputs": [
    {
     "data": {
      "text/plain": [
       "(1098,)"
      ]
     },
     "execution_count": 89,
     "metadata": {},
     "output_type": "execute_result"
    }
   ],
   "source": [
    "y_pred_lr.shape"
   ]
  },
  {
   "cell_type": "code",
   "execution_count": null,
   "metadata": {
    "colab": {
     "base_uri": "https://localhost:8080/"
    },
    "executionInfo": {
     "elapsed": 406,
     "status": "ok",
     "timestamp": 1714819332495,
     "user": {
      "displayName": "Nakato Esther",
      "userId": "16250477698798363218"
     },
     "user_tz": -180
    },
    "id": "-GP0qDkgpcb4",
    "outputId": "84db296f-a6fb-4805-daa6-838deadc68ad"
   },
   "outputs": [
    {
     "name": "stdout",
     "output_type": "stream",
     "text": [
      "The accuracy score achieved using Logistic Regression is: 84.88 %\n"
     ]
    }
   ],
   "source": [
    "score_lr = round(accuracy_score(y_pred_lr,y_test)*100,2)\n",
    "\n",
    "print(\"The accuracy score achieved using Logistic Regression is: \"+str(score_lr)+\" %\")"
   ]
  },
  {
   "cell_type": "code",
   "execution_count": null,
   "metadata": {
    "colab": {
     "base_uri": "https://localhost:8080/"
    },
    "executionInfo": {
     "elapsed": 391,
     "status": "ok",
     "timestamp": 1714821069729,
     "user": {
      "displayName": "Nakato Esther",
      "userId": "16250477698798363218"
     },
     "user_tz": -180
    },
    "id": "uC75Un59RWA-",
    "outputId": "89224c6d-ce7f-4704-8e08-69f4abd93d36"
   },
   "outputs": [
    {
     "data": {
      "text/plain": [
       "array([0, 0, 0, ..., 0, 0, 0])"
      ]
     },
     "execution_count": 107,
     "metadata": {},
     "output_type": "execute_result"
    }
   ],
   "source": [
    "y_pred_lr = lr.predict(X_test)\n",
    "y_pred_lr\n",
    "\n",
    "\n"
   ]
  },
  {
   "cell_type": "code",
   "execution_count": null,
   "metadata": {
    "colab": {
     "base_uri": "https://localhost:8080/"
    },
    "executionInfo": {
     "elapsed": 462,
     "status": "ok",
     "timestamp": 1714821199391,
     "user": {
      "displayName": "Nakato Esther",
      "userId": "16250477698798363218"
     },
     "user_tz": -180
    },
    "id": "i0wG4Y7iM0p_",
    "outputId": "13e5a07c-3f4e-4ac2-8d70-337d19ede619"
   },
   "outputs": [
    {
     "name": "stdout",
     "output_type": "stream",
     "text": [
      "Healthy\n",
      "Healthy\n",
      "Healthy\n",
      "Healthy\n",
      "Healthy\n",
      "Healthy\n",
      "Healthy\n",
      "Healthy\n",
      "Healthy\n",
      "Healthy\n",
      "TenYearCHD\n",
      "Healthy\n",
      "Healthy\n",
      "Healthy\n",
      "Healthy\n",
      "Healthy\n",
      "Healthy\n",
      "Healthy\n",
      "Healthy\n",
      "Healthy\n",
      "Healthy\n",
      "Healthy\n",
      "Healthy\n",
      "Healthy\n",
      "Healthy\n",
      "Healthy\n",
      "Healthy\n",
      "Healthy\n",
      "Healthy\n",
      "Healthy\n",
      "Healthy\n",
      "Healthy\n",
      "Healthy\n",
      "Healthy\n",
      "Healthy\n",
      "Healthy\n",
      "Healthy\n",
      "Healthy\n",
      "Healthy\n",
      "Healthy\n",
      "Healthy\n",
      "Healthy\n",
      "Healthy\n",
      "Healthy\n",
      "Healthy\n",
      "Healthy\n",
      "Healthy\n",
      "Healthy\n",
      "Healthy\n",
      "Healthy\n",
      "Healthy\n",
      "Healthy\n",
      "Healthy\n",
      "Healthy\n",
      "Healthy\n",
      "Healthy\n",
      "Healthy\n",
      "Healthy\n",
      "Healthy\n",
      "Healthy\n",
      "Healthy\n",
      "Healthy\n",
      "Healthy\n",
      "Healthy\n",
      "Healthy\n",
      "Healthy\n",
      "Healthy\n",
      "Healthy\n",
      "Healthy\n",
      "Healthy\n",
      "Healthy\n",
      "Healthy\n",
      "Healthy\n",
      "Healthy\n",
      "Healthy\n",
      "Healthy\n",
      "Healthy\n",
      "Healthy\n",
      "Healthy\n",
      "Healthy\n",
      "Healthy\n",
      "Healthy\n",
      "Healthy\n",
      "Healthy\n",
      "Healthy\n",
      "Healthy\n",
      "Healthy\n",
      "Healthy\n",
      "Healthy\n",
      "Healthy\n",
      "Healthy\n",
      "Healthy\n",
      "Healthy\n",
      "Healthy\n",
      "Healthy\n",
      "Healthy\n",
      "Healthy\n",
      "Healthy\n",
      "Healthy\n",
      "Healthy\n",
      "Healthy\n",
      "Healthy\n",
      "Healthy\n",
      "Healthy\n",
      "Healthy\n",
      "Healthy\n",
      "Healthy\n",
      "Healthy\n",
      "Healthy\n",
      "Healthy\n",
      "Healthy\n",
      "Healthy\n",
      "Healthy\n",
      "Healthy\n",
      "Healthy\n",
      "Healthy\n",
      "Healthy\n",
      "Healthy\n",
      "Healthy\n",
      "Healthy\n",
      "Healthy\n",
      "Healthy\n",
      "Healthy\n",
      "Healthy\n",
      "Healthy\n",
      "Healthy\n",
      "Healthy\n",
      "Healthy\n",
      "Healthy\n",
      "Healthy\n",
      "Healthy\n",
      "Healthy\n",
      "Healthy\n",
      "Healthy\n",
      "Healthy\n",
      "Healthy\n",
      "Healthy\n",
      "Healthy\n",
      "TenYearCHD\n",
      "Healthy\n",
      "Healthy\n",
      "Healthy\n",
      "Healthy\n",
      "Healthy\n",
      "Healthy\n",
      "Healthy\n",
      "Healthy\n",
      "Healthy\n",
      "Healthy\n",
      "Healthy\n",
      "Healthy\n",
      "Healthy\n",
      "Healthy\n",
      "TenYearCHD\n",
      "Healthy\n",
      "Healthy\n",
      "Healthy\n",
      "Healthy\n",
      "Healthy\n",
      "Healthy\n",
      "Healthy\n",
      "Healthy\n",
      "Healthy\n",
      "Healthy\n",
      "Healthy\n",
      "Healthy\n",
      "Healthy\n",
      "Healthy\n",
      "Healthy\n",
      "Healthy\n",
      "Healthy\n",
      "Healthy\n",
      "Healthy\n",
      "Healthy\n",
      "Healthy\n",
      "TenYearCHD\n",
      "Healthy\n",
      "Healthy\n",
      "Healthy\n",
      "Healthy\n",
      "Healthy\n",
      "Healthy\n",
      "Healthy\n",
      "Healthy\n",
      "Healthy\n",
      "Healthy\n",
      "Healthy\n",
      "Healthy\n",
      "Healthy\n",
      "Healthy\n",
      "Healthy\n",
      "Healthy\n",
      "Healthy\n",
      "Healthy\n",
      "Healthy\n",
      "Healthy\n",
      "Healthy\n",
      "Healthy\n",
      "Healthy\n",
      "Healthy\n",
      "Healthy\n",
      "Healthy\n",
      "Healthy\n",
      "Healthy\n",
      "Healthy\n",
      "Healthy\n",
      "Healthy\n",
      "Healthy\n",
      "Healthy\n",
      "Healthy\n",
      "Healthy\n",
      "Healthy\n",
      "Healthy\n",
      "Healthy\n",
      "Healthy\n",
      "Healthy\n",
      "Healthy\n",
      "Healthy\n",
      "Healthy\n",
      "Healthy\n",
      "Healthy\n",
      "Healthy\n",
      "Healthy\n",
      "Healthy\n",
      "TenYearCHD\n",
      "Healthy\n",
      "Healthy\n",
      "Healthy\n",
      "Healthy\n",
      "Healthy\n",
      "Healthy\n",
      "Healthy\n",
      "Healthy\n",
      "Healthy\n",
      "Healthy\n",
      "Healthy\n",
      "Healthy\n",
      "Healthy\n",
      "Healthy\n",
      "Healthy\n",
      "Healthy\n",
      "Healthy\n",
      "Healthy\n",
      "Healthy\n",
      "Healthy\n",
      "Healthy\n",
      "Healthy\n",
      "Healthy\n",
      "Healthy\n",
      "Healthy\n",
      "Healthy\n",
      "Healthy\n",
      "Healthy\n",
      "Healthy\n",
      "Healthy\n",
      "Healthy\n",
      "Healthy\n",
      "Healthy\n",
      "Healthy\n",
      "Healthy\n",
      "Healthy\n",
      "Healthy\n",
      "Healthy\n",
      "Healthy\n",
      "Healthy\n",
      "Healthy\n",
      "Healthy\n",
      "Healthy\n",
      "Healthy\n",
      "Healthy\n",
      "TenYearCHD\n",
      "Healthy\n",
      "Healthy\n",
      "Healthy\n",
      "Healthy\n",
      "Healthy\n",
      "Healthy\n",
      "Healthy\n",
      "Healthy\n",
      "Healthy\n",
      "Healthy\n",
      "Healthy\n",
      "Healthy\n",
      "Healthy\n",
      "Healthy\n",
      "Healthy\n",
      "Healthy\n",
      "Healthy\n",
      "Healthy\n",
      "Healthy\n",
      "Healthy\n",
      "Healthy\n",
      "Healthy\n",
      "Healthy\n",
      "Healthy\n",
      "Healthy\n",
      "Healthy\n",
      "Healthy\n",
      "Healthy\n",
      "Healthy\n"
     ]
    }
   ],
   "source": [
    "\n",
    "def lifestyle_change(predicted_outcome :int) ->None:\n",
    "    if predicted_outcome == 0:\n",
    "      print(\"Healthy\")\n",
    "    else:\n",
    "      print(\"TenYearCHD\")\n",
    "\n",
    "for value in range(300,600):\n",
    "  lifestyle_change(y_pred_lr[value])\n",
    "\n",
    "\n",
    "\n",
    "\n"
   ]
  },
  {
   "cell_type": "code",
   "execution_count": null,
   "metadata": {
    "colab": {
     "base_uri": "https://localhost:8080/",
     "height": 35
    },
    "executionInfo": {
     "elapsed": 421,
     "status": "ok",
     "timestamp": 1714824414477,
     "user": {
      "displayName": "Nakato Esther",
      "userId": "16250477698798363218"
     },
     "user_tz": -180
    },
    "id": "n8NPVPlEfDP0",
    "outputId": "42fb6659-be54-4792-f7c2-3ff6f6fa3bb1"
   },
   "outputs": [
    {
     "data": {
      "application/vnd.google.colaboratory.intrinsic+json": {
       "type": "string"
      },
      "text/plain": [
       "'/content'"
      ]
     },
     "execution_count": 122,
     "metadata": {},
     "output_type": "execute_result"
    }
   ],
   "source": [
    "%pwd"
   ]
  },
  {
   "cell_type": "code",
   "execution_count": null,
   "metadata": {
    "colab": {
     "base_uri": "https://localhost:8080/"
    },
    "executionInfo": {
     "elapsed": 405,
     "status": "ok",
     "timestamp": 1714824520844,
     "user": {
      "displayName": "Nakato Esther",
      "userId": "16250477698798363218"
     },
     "user_tz": -180
    },
    "id": "N7XkWI87gTjj",
    "outputId": "6a233541-ebd9-442c-d856-64b1e155e2e4"
   },
   "outputs": [
    {
     "name": "stdout",
     "output_type": "stream",
     "text": [
      "mkdir: cannot create directory ‘/content/drive/MyDrive/Models/’: File exists\n"
     ]
    }
   ],
   "source": [
    "%mkdir  \"/content/drive/MyDrive/Models/\""
   ]
  },
  {
   "cell_type": "code",
   "execution_count": null,
   "metadata": {
    "id": "K5y_pugueyyM"
   },
   "outputs": [],
   "source": [
    "model.save(\"/content/drive/MyDrive/nn_model.h5\")"
   ]
  },
  {
   "cell_type": "code",
   "execution_count": null,
   "metadata": {
    "id": "zygjBMMpTj_C"
   },
   "outputs": [],
   "source": [
    "# # # Save the trained model to a file\n",
    "# import pickle\n",
    "\n",
    "# with open('/content/drive/MyDrive/knn_model.pkl', 'wb') as file:\n",
    "#     pickle.dump(knn, file)\n"
   ]
  },
  {
   "cell_type": "code",
   "execution_count": null,
   "metadata": {
    "id": "qYWKHHBqg_Pl"
   },
   "outputs": [],
   "source": []
  }
 ],
 "metadata": {
  "colab": {
   "authorship_tag": "ABX9TyPk8Nq9tOeM6+Q/wgM8bhc6",
   "mount_file_id": "1jLrWaAduwk1oIAefohc4_kBQ9TjQ0W3k",
   "provenance": []
  },
  "kernelspec": {
   "display_name": "Python 3 (ipykernel)",
   "language": "python",
   "name": "python3"
  },
  "language_info": {
   "codemirror_mode": {
    "name": "ipython",
    "version": 3
   },
   "file_extension": ".py",
   "mimetype": "text/x-python",
   "name": "python",
   "nbconvert_exporter": "python",
   "pygments_lexer": "ipython3",
   "version": "3.10.4"
  }
 },
 "nbformat": 4,
 "nbformat_minor": 4
}
